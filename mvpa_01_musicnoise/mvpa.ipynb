{
 "cells": [
  {
   "cell_type": "markdown",
   "metadata": {},
   "source": [
    " # MVPA\n",
    " based on https://peerherholz.github.io/workshop_weizmann/advanced/machine_learning_nilearn.html"
   ]
  },
  {
   "cell_type": "code",
   "execution_count": 8,
   "metadata": {},
   "outputs": [],
   "source": [
    "import numpy as np\n",
    "import nibabel as nb\n",
    "import os\n",
    "from nilearn.input_data import NiftiMasker"
   ]
  },
  {
   "cell_type": "code",
   "execution_count": 9,
   "metadata": {},
   "outputs": [],
   "source": [
    "# define paths\n",
    "root_dir = '/Volumes/T7/BIDS-BRAINPLAYBACK-TASK2'\n",
    "fmriprep_dir = os.path.join(root_dir, 'derivatives', 'fmriprep23')\n",
    "dataset_dir  = os.path.join(root_dir, 'derivatives', 'mvpa_01_musicnoise')\n",
    "\n",
    "# brain masks\n",
    "#mask_brain_file = os.path.join(root_dir, 'derivatives', 'mni_icbm152_t1_tal_nlin_asym_09c.nii')\n",
    "mask_gm_file    = os.path.join(root_dir, 'derivatives', 'mni_icbm152_gm_tal_nlin_asym_09c_res-2_dilated.nii')"
   ]
  },
  {
   "cell_type": "code",
   "execution_count": 10,
   "metadata": {},
   "outputs": [],
   "source": [
    "# list datasets and concatenate\n",
    "\n",
    "# find all *_dataset.nii.gz files in dataset_dir\n",
    "dataset_files = [os.path.join(dataset_dir, f) for f in os.listdir(dataset_dir) if f.endswith('_musicnoise_confounds_dataset.nii.gz') & f.startswith('sub-')]\n",
    "dataset_files.sort()\n",
    "\n",
    "# find all *_trial_types.txt files in dataset_dir\n",
    "label_files = [os.path.join(dataset_dir, f) for f in os.listdir(dataset_dir) if f.endswith('_musicnoise_confounds_trial_types.txt') & f.startswith('sub-')]\n",
    "label_files.sort()"
   ]
  },
  {
   "cell_type": "code",
   "execution_count": 11,
   "metadata": {},
   "outputs": [],
   "source": [
    "# concatenate all datasets\n",
    "D = nb.concat_images(dataset_files, axis=3)"
   ]
  },
  {
   "cell_type": "code",
   "execution_count": 12,
   "metadata": {},
   "outputs": [],
   "source": [
    "# concatenate all labels into a single string array\n",
    "labels = np.concatenate([np.loadtxt(l, dtype=str) for l in label_files])\n",
    "\n",
    "# trim each label to remove the 2 digit number in the end\n",
    "labels = np.array([l[:-2] for l in labels])"
   ]
  },
  {
   "cell_type": "code",
   "execution_count": 14,
   "metadata": {},
   "outputs": [],
   "source": [
    "# Load mask\n",
    "masker = NiftiMasker(mask_img=mask_gm_file, standardize=False, detrend=False)\n",
    "samples = masker.fit_transform(D)"
   ]
  },
  {
   "cell_type": "code",
   "execution_count": 15,
   "metadata": {},
   "outputs": [],
   "source": [
    "# generate an array of chunk labels\n",
    "# 13 subjects, 10 noise and 9 x 2 music for each of the 4 runs\n",
    "chunks = np.repeat(np.arange(1,14), 10*4 + 9*2*4)"
   ]
  },
  {
   "cell_type": "code",
   "execution_count": 16,
   "metadata": {},
   "outputs": [],
   "source": [
    "# Let's specify the classifier\n",
    "from sklearn.svm import LinearSVC\n",
    "clf = LinearSVC(multi_class=\"ovr\", max_iter=1000, class_weight='balanced')\n"
   ]
  },
  {
   "cell_type": "code",
   "execution_count": 17,
   "metadata": {},
   "outputs": [
    {
     "name": "stderr",
     "output_type": "stream",
     "text": [
      "[Parallel(n_jobs=6)]: Using backend LokyBackend with 6 concurrent workers.\n",
      "/opt/anaconda3/envs/brainplayback_task02/lib/python3.11/site-packages/sklearn/svm/_classes.py:31: FutureWarning: The default value of `dual` will change from `True` to `'auto'` in 1.5. Set the value of `dual` explicitly to suppress the warning.\n",
      "  warnings.warn(\n",
      "/opt/anaconda3/envs/brainplayback_task02/lib/python3.11/site-packages/sklearn/svm/_classes.py:31: FutureWarning: The default value of `dual` will change from `True` to `'auto'` in 1.5. Set the value of `dual` explicitly to suppress the warning.\n",
      "  warnings.warn(\n",
      "/opt/anaconda3/envs/brainplayback_task02/lib/python3.11/site-packages/sklearn/svm/_classes.py:31: FutureWarning: The default value of `dual` will change from `True` to `'auto'` in 1.5. Set the value of `dual` explicitly to suppress the warning.\n",
      "  warnings.warn(\n",
      "/opt/anaconda3/envs/brainplayback_task02/lib/python3.11/site-packages/sklearn/svm/_classes.py:31: FutureWarning: The default value of `dual` will change from `True` to `'auto'` in 1.5. Set the value of `dual` explicitly to suppress the warning.\n",
      "  warnings.warn(\n",
      "/opt/anaconda3/envs/brainplayback_task02/lib/python3.11/site-packages/sklearn/svm/_classes.py:31: FutureWarning: The default value of `dual` will change from `True` to `'auto'` in 1.5. Set the value of `dual` explicitly to suppress the warning.\n",
      "  warnings.warn(\n",
      "/opt/anaconda3/envs/brainplayback_task02/lib/python3.11/site-packages/sklearn/svm/_classes.py:31: FutureWarning: The default value of `dual` will change from `True` to `'auto'` in 1.5. Set the value of `dual` explicitly to suppress the warning.\n",
      "  warnings.warn(\n",
      "/opt/anaconda3/envs/brainplayback_task02/lib/python3.11/site-packages/sklearn/svm/_classes.py:31: FutureWarning: The default value of `dual` will change from `True` to `'auto'` in 1.5. Set the value of `dual` explicitly to suppress the warning.\n",
      "  warnings.warn(\n",
      "/opt/anaconda3/envs/brainplayback_task02/lib/python3.11/site-packages/sklearn/svm/_classes.py:31: FutureWarning: The default value of `dual` will change from `True` to `'auto'` in 1.5. Set the value of `dual` explicitly to suppress the warning.\n",
      "  warnings.warn(\n",
      "/opt/anaconda3/envs/brainplayback_task02/lib/python3.11/site-packages/sklearn/svm/_classes.py:31: FutureWarning: The default value of `dual` will change from `True` to `'auto'` in 1.5. Set the value of `dual` explicitly to suppress the warning.\n",
      "  warnings.warn(\n",
      "/opt/anaconda3/envs/brainplayback_task02/lib/python3.11/site-packages/sklearn/svm/_classes.py:31: FutureWarning: The default value of `dual` will change from `True` to `'auto'` in 1.5. Set the value of `dual` explicitly to suppress the warning.\n",
      "  warnings.warn(\n",
      "/opt/anaconda3/envs/brainplayback_task02/lib/python3.11/site-packages/sklearn/svm/_classes.py:31: FutureWarning: The default value of `dual` will change from `True` to `'auto'` in 1.5. Set the value of `dual` explicitly to suppress the warning.\n",
      "  warnings.warn(\n",
      "/opt/anaconda3/envs/brainplayback_task02/lib/python3.11/site-packages/sklearn/svm/_classes.py:31: FutureWarning: The default value of `dual` will change from `True` to `'auto'` in 1.5. Set the value of `dual` explicitly to suppress the warning.\n",
      "  warnings.warn(\n",
      "/opt/anaconda3/envs/brainplayback_task02/lib/python3.11/site-packages/sklearn/svm/_classes.py:31: FutureWarning: The default value of `dual` will change from `True` to `'auto'` in 1.5. Set the value of `dual` explicitly to suppress the warning.\n",
      "  warnings.warn(\n",
      "[Parallel(n_jobs=6)]: Done  13 out of  13 | elapsed:   12.4s finished\n"
     ]
    }
   ],
   "source": [
    "# Perform the cross validation (takes time to compute)\n",
    "from sklearn.model_selection import LeaveOneGroupOut, cross_val_score\n",
    "cv_scores = cross_val_score(estimator=clf,\n",
    "                            X=samples,\n",
    "                            y=labels,\n",
    "                            groups=chunks,\n",
    "                            cv=LeaveOneGroupOut(),\n",
    "                            n_jobs=6,\n",
    "                            verbose=1)\n"
   ]
  },
  {
   "cell_type": "code",
   "execution_count": 18,
   "metadata": {},
   "outputs": [
    {
     "name": "stdout",
     "output_type": "stream",
     "text": [
      "Average accuracy = 86.06 percent\n",
      "\n",
      "Accuracy per fold:\n",
      "[0.88392857 0.90178571 0.80357143 0.92857143 0.875      0.76785714\n",
      " 0.91964286 0.85714286 0.8125     0.89285714 0.83035714 0.83035714\n",
      " 0.88392857]\n"
     ]
    }
   ],
   "source": [
    "print('Average accuracy = %.02f percent\\n' % (cv_scores.mean() * 100))\n",
    "print('Accuracy per fold:', cv_scores, sep='\\n')\n"
   ]
  },
  {
   "cell_type": "code",
   "execution_count": 19,
   "metadata": {},
   "outputs": [
    {
     "name": "stdout",
     "output_type": "stream",
     "text": [
      "python script finished running.\n"
     ]
    }
   ],
   "source": [
    "# import pandas as pd\n",
    "# results1 = pd.DataFrame({'accuracy': cv_scores})\n",
    "# results1.to_csv(os.path.join(dataset_dir, 'mvpa-lsa-musicnoise-confounds-gm-results-1.csv'), index=False)\n",
    "# print('saved accuracy results to mvpa-musicnoise-confounds-gm-results-1.csv')\n",
    "\n",
    "# # %%\n",
    "# # Import the permuation function\n",
    "# from sklearn.model_selection import permutation_test_score\n",
    "\n",
    "# # %%\n",
    "# # Run the permuation cross-validation\n",
    "# null_cv_scores = permutation_test_score(estimator=clf,\n",
    "#                                         X=samples,\n",
    "#                                         y=labels,\n",
    "#                                         groups=chunks,\n",
    "#                                         cv=LeaveOneGroupOut(),\n",
    "#                                         n_permutations=1000,\n",
    "#                                         n_jobs=30,\n",
    "#                                         verbose=1)\n",
    "\n",
    "# # %%\n",
    "# print('Prediction accuracy: %.02f' % (null_cv_scores[0] * 100),\n",
    "#       'p-value: %.04f' % (null_cv_scores[2]),\n",
    "#       sep='\\n')\n",
    "\n",
    "# # %%\n",
    "# results2 = pd.DataFrame({'accuracy': null_cv_scores})\n",
    "# results2.to_csv(os.path.join(dataset_dir, 'mvpa-lsa-results-2.csv'), index=False)\n",
    "# print('saved accuracy results to mvpa-lsa-results-2.csv')\n",
    "print('python script finished running.')"
   ]
  },
  {
   "cell_type": "code",
   "execution_count": null,
   "metadata": {},
   "outputs": [],
   "source": []
  }
 ],
 "metadata": {
  "kernelspec": {
   "display_name": "brainplayback_task02",
   "language": "python",
   "name": "python3"
  },
  "language_info": {
   "codemirror_mode": {
    "name": "ipython",
    "version": 3
   },
   "file_extension": ".py",
   "mimetype": "text/x-python",
   "name": "python",
   "nbconvert_exporter": "python",
   "pygments_lexer": "ipython3",
   "version": "3.11.8"
  }
 },
 "nbformat": 4,
 "nbformat_minor": 2
}
