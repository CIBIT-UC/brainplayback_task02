{
 "cells": [
  {
   "cell_type": "markdown",
   "metadata": {},
   "source": []
  },
  {
   "cell_type": "code",
   "execution_count": 6,
   "metadata": {},
   "outputs": [],
   "source": [
    "import os\n",
    "import pandas as pd\n",
    "import nibabel as nb\n",
    "import numpy as np\n",
    "import itertools\n",
    "from nibabel import Nifti1Image\n",
    "from nilearn.image import clean_img\n",
    "from nilearn.input_data import NiftiMasker\n",
    "from multiprocessing import Pool\n",
    "\n",
    "from functions import process_voxel"
   ]
  },
  {
   "cell_type": "code",
   "execution_count": 7,
   "metadata": {},
   "outputs": [],
   "source": [
    "data_root = '/Volumes/T7/BIDS-BRAINPLAYBACK-TASK2'\n",
    "fmriprep_dir = os.path.join(data_root, 'derivatives','fmriprep23')\n",
    "output_func_dir = os.path.join(data_root, 'derivatives', 'mvpa_04_musicnoise_bold', 'func_clean')\n",
    "output_feat_stab_dir = os.path.join(data_root, 'derivatives', 'mvpa_08_stability_musicnoise_bold', 'feat_stab_full')\n",
    "output_stab_dir = os.path.join(data_root, 'derivatives', 'mvpa_09_stabilityperfold_bold', 'stab_full')"
   ]
  },
  {
   "cell_type": "code",
   "execution_count": 8,
   "metadata": {},
   "outputs": [],
   "source": [
    "subject = '18'"
   ]
  },
  {
   "cell_type": "code",
   "execution_count": 9,
   "metadata": {},
   "outputs": [
    {
     "name": "stdout",
     "output_type": "stream",
     "text": [
      "Estimating stability for subject 18...\n",
      "['/Volumes/T7/BIDS-BRAINPLAYBACK-TASK2/derivatives/mvpa_08_stability_musicnoise_bold/feat_stab_full/sub-18_ses-01_task-02a_run-1_stab_features.npy', '/Volumes/T7/BIDS-BRAINPLAYBACK-TASK2/derivatives/mvpa_08_stability_musicnoise_bold/feat_stab_full/sub-18_ses-01_task-02a_run-3_stab_features.npy', '/Volumes/T7/BIDS-BRAINPLAYBACK-TASK2/derivatives/mvpa_08_stability_musicnoise_bold/feat_stab_full/sub-18_ses-01_task-02a_run-4_stab_features.npy']\n",
      "3\n"
     ]
    }
   ],
   "source": [
    "print(f\"Estimating stability for subject {subject}...\")\n",
    "\n",
    "# Find the files\n",
    "stab_feat_files = [os.path.join(output_feat_stab_dir, f) for f in os.listdir(output_feat_stab_dir) if f.endswith('_stab_features.npy') and f.startswith(f'sub-{subject}')]\n",
    "stab_feat_files.sort()\n",
    "print(stab_feat_files)\n",
    "print(len(stab_feat_files))"
   ]
  },
  {
   "cell_type": "code",
   "execution_count": 10,
   "metadata": {},
   "outputs": [
    {
     "name": "stdout",
     "output_type": "stream",
     "text": [
      "--------------------\n",
      "Fold 0...\n",
      "['/Volumes/T7/BIDS-BRAINPLAYBACK-TASK2/derivatives/mvpa_08_stability_musicnoise_bold/feat_stab_full/sub-18_ses-01_task-02a_run-3_stab_features.npy', '/Volumes/T7/BIDS-BRAINPLAYBACK-TASK2/derivatives/mvpa_08_stability_musicnoise_bold/feat_stab_full/sub-18_ses-01_task-02a_run-4_stab_features.npy']\n",
      "Number of trials per condition per subject: 4\n",
      "Number of pairwise combinations: 6\n",
      "X coordinate 0/97...\n",
      "X coordinate 1/97...\n",
      "X coordinate 2/97...\n",
      "X coordinate 3/97...\n",
      "X coordinate 4/97...\n",
      "X coordinate 5/97...\n",
      "X coordinate 6/97...\n",
      "X coordinate 7/97...\n",
      "X coordinate 8/97...\n",
      "X coordinate 9/97...\n",
      "X coordinate 10/97...\n",
      "X coordinate 11/97...\n",
      "X coordinate 12/97...\n",
      "X coordinate 13/97...\n",
      "X coordinate 14/97...\n",
      "X coordinate 15/97...\n",
      "X coordinate 16/97...\n",
      "X coordinate 17/97...\n",
      "X coordinate 18/97...\n",
      "X coordinate 19/97...\n",
      "X coordinate 20/97...\n",
      "X coordinate 21/97...\n",
      "X coordinate 22/97...\n",
      "X coordinate 24/97...\n"
     ]
    },
    {
     "name": "stderr",
     "output_type": "stream",
     "text": [
      "/opt/anaconda3/envs/brainplayback_task02/lib/python3.11/site-packages/numpy/lib/function_base.py:2897: RuntimeWarning: invalid value encountered in divide\n",
      "  c /= stddev[:, None]\n",
      "/opt/anaconda3/envs/brainplayback_task02/lib/python3.11/site-packages/numpy/lib/function_base.py:2898: RuntimeWarning: invalid value encountered in divide\n",
      "  c /= stddev[None, :]\n"
     ]
    },
    {
     "name": "stdout",
     "output_type": "stream",
     "text": [
      "X coordinate 23/97...\n",
      "X coordinate 25/97...\n"
     ]
    },
    {
     "name": "stderr",
     "output_type": "stream",
     "text": [
      "/opt/anaconda3/envs/brainplayback_task02/lib/python3.11/site-packages/numpy/lib/function_base.py:2897: RuntimeWarning: invalid value encountered in divide\n",
      "  c /= stddev[:, None]\n",
      "/opt/anaconda3/envs/brainplayback_task02/lib/python3.11/site-packages/numpy/lib/function_base.py:2898: RuntimeWarning: invalid value encountered in divide\n",
      "  c /= stddev[None, :]\n"
     ]
    },
    {
     "name": "stdout",
     "output_type": "stream",
     "text": [
      "X coordinate 26/97...\n",
      "X coordinate 28/97...\n"
     ]
    },
    {
     "name": "stderr",
     "output_type": "stream",
     "text": [
      "/opt/anaconda3/envs/brainplayback_task02/lib/python3.11/site-packages/numpy/lib/function_base.py:2897: RuntimeWarning: invalid value encountered in divide\n",
      "  c /= stddev[:, None]\n",
      "/opt/anaconda3/envs/brainplayback_task02/lib/python3.11/site-packages/numpy/lib/function_base.py:2898: RuntimeWarning: invalid value encountered in divide\n",
      "  c /= stddev[None, :]\n"
     ]
    },
    {
     "name": "stdout",
     "output_type": "stream",
     "text": [
      "X coordinate 27/97...\n",
      "X coordinate 29/97...\n",
      "X coordinate 30/97...\n",
      "X coordinate 31/97...\n",
      "X coordinate 32/97...\n"
     ]
    },
    {
     "name": "stderr",
     "output_type": "stream",
     "text": [
      "/opt/anaconda3/envs/brainplayback_task02/lib/python3.11/site-packages/numpy/lib/function_base.py:2897: RuntimeWarning: invalid value encountered in divide\n",
      "  c /= stddev[:, None]\n",
      "/opt/anaconda3/envs/brainplayback_task02/lib/python3.11/site-packages/numpy/lib/function_base.py:2898: RuntimeWarning: invalid value encountered in divide\n",
      "  c /= stddev[None, :]\n"
     ]
    },
    {
     "name": "stdout",
     "output_type": "stream",
     "text": [
      "X coordinate 33/97...\n",
      "X coordinate 34/97...\n",
      "X coordinate 35/97...\n",
      "X coordinate 36/97...\n"
     ]
    },
    {
     "name": "stderr",
     "output_type": "stream",
     "text": [
      "/opt/anaconda3/envs/brainplayback_task02/lib/python3.11/site-packages/numpy/lib/function_base.py:2897: RuntimeWarning: invalid value encountered in divide\n",
      "  c /= stddev[:, None]\n",
      "/opt/anaconda3/envs/brainplayback_task02/lib/python3.11/site-packages/numpy/lib/function_base.py:2898: RuntimeWarning: invalid value encountered in divide\n",
      "  c /= stddev[None, :]\n"
     ]
    },
    {
     "name": "stdout",
     "output_type": "stream",
     "text": [
      "X coordinate 37/97...\n",
      "X coordinate 38/97...\n",
      "X coordinate 39/97...\n",
      "X coordinate 40/97...\n"
     ]
    },
    {
     "name": "stderr",
     "output_type": "stream",
     "text": [
      "/opt/anaconda3/envs/brainplayback_task02/lib/python3.11/site-packages/numpy/lib/function_base.py:2897: RuntimeWarning: invalid value encountered in divide\n",
      "  c /= stddev[:, None]\n",
      "/opt/anaconda3/envs/brainplayback_task02/lib/python3.11/site-packages/numpy/lib/function_base.py:2898: RuntimeWarning: invalid value encountered in divide\n",
      "  c /= stddev[None, :]\n"
     ]
    },
    {
     "name": "stdout",
     "output_type": "stream",
     "text": [
      "X coordinate 41/97...\n",
      "X coordinate 42/97...\n",
      "X coordinate 43/97...\n",
      "X coordinate 44/97...\n"
     ]
    },
    {
     "name": "stderr",
     "output_type": "stream",
     "text": [
      "/opt/anaconda3/envs/brainplayback_task02/lib/python3.11/site-packages/numpy/lib/function_base.py:2897: RuntimeWarning: invalid value encountered in divide\n",
      "  c /= stddev[:, None]\n",
      "/opt/anaconda3/envs/brainplayback_task02/lib/python3.11/site-packages/numpy/lib/function_base.py:2898: RuntimeWarning: invalid value encountered in divide\n",
      "  c /= stddev[None, :]\n"
     ]
    },
    {
     "name": "stdout",
     "output_type": "stream",
     "text": [
      "X coordinate 45/97...\n",
      "X coordinate 46/97...\n",
      "X coordinate 47/97...\n",
      "X coordinate 48/97...\n"
     ]
    },
    {
     "name": "stderr",
     "output_type": "stream",
     "text": [
      "/opt/anaconda3/envs/brainplayback_task02/lib/python3.11/site-packages/numpy/lib/function_base.py:2897: RuntimeWarning: invalid value encountered in divide\n",
      "  c /= stddev[:, None]\n",
      "/opt/anaconda3/envs/brainplayback_task02/lib/python3.11/site-packages/numpy/lib/function_base.py:2898: RuntimeWarning: invalid value encountered in divide\n",
      "  c /= stddev[None, :]\n"
     ]
    },
    {
     "name": "stdout",
     "output_type": "stream",
     "text": [
      "X coordinate 49/97...\n",
      "X coordinate 50/97...\n",
      "X coordinate 51/97...\n",
      "X coordinate 52/97...\n",
      "X coordinate 53/97...\n",
      "X coordinate 54/97...\n",
      "X coordinate 55/97...\n",
      "X coordinate 56/97...\n",
      "X coordinate 57/97...\n",
      "X coordinate 58/97...\n",
      "X coordinate 59/97...\n",
      "X coordinate 60/97...\n",
      "X coordinate 61/97...\n",
      "X coordinate 62/97...\n",
      "X coordinate 63/97...\n",
      "X coordinate 64/97...\n",
      "X coordinate 65/97...\n",
      "X coordinate 66/97...\n",
      "X coordinate 67/97...\n",
      "X coordinate 68/97...\n",
      "X coordinate 69/97...\n",
      "X coordinate 70/97...\n",
      "X coordinate 71/97...\n",
      "X coordinate 72/97...\n",
      "X coordinate 73/97...\n",
      "X coordinate 74/97...\n",
      "X coordinate 75/97...\n",
      "X coordinate 76/97...\n",
      "X coordinate 77/97...\n",
      "X coordinate 78/97...\n",
      "X coordinate 79/97...\n",
      "X coordinate 80/97...\n",
      "X coordinate 81/97...\n",
      "X coordinate 82/97...\n",
      "X coordinate 83/97...\n",
      "X coordinate 84/97...\n",
      "X coordinate 85/97...\n",
      "X coordinate 86/97...\n",
      "X coordinate 87/97...\n",
      "X coordinate 88/97...\n",
      "X coordinate 89/97...\n",
      "X coordinate 90/97...\n",
      "X coordinate 91/97...\n",
      "X coordinate 92/97...\n",
      "X coordinate 93/97...\n",
      "X coordinate 94/97...\n",
      "X coordinate 95/97...\n",
      "X coordinate 96/97...\n",
      "Done estimating stability for subject 18.\n",
      "--------------------\n",
      "Fold 1...\n",
      "['/Volumes/T7/BIDS-BRAINPLAYBACK-TASK2/derivatives/mvpa_08_stability_musicnoise_bold/feat_stab_full/sub-18_ses-01_task-02a_run-1_stab_features.npy', '/Volumes/T7/BIDS-BRAINPLAYBACK-TASK2/derivatives/mvpa_08_stability_musicnoise_bold/feat_stab_full/sub-18_ses-01_task-02a_run-4_stab_features.npy']\n",
      "Number of trials per condition per subject: 4\n",
      "Number of pairwise combinations: 6\n",
      "X coordinate 0/97...\n",
      "X coordinate 1/97...\n",
      "X coordinate 2/97...\n",
      "X coordinate 3/97...\n",
      "X coordinate 4/97...\n",
      "X coordinate 5/97...\n",
      "X coordinate 6/97...\n",
      "X coordinate 7/97...\n",
      "X coordinate 8/97...\n",
      "X coordinate 9/97...\n",
      "X coordinate 10/97...\n",
      "X coordinate 11/97...\n",
      "X coordinate 12/97...\n",
      "X coordinate 13/97...\n"
     ]
    },
    {
     "name": "stderr",
     "output_type": "stream",
     "text": [
      "/opt/anaconda3/envs/brainplayback_task02/lib/python3.11/site-packages/numpy/lib/function_base.py:2897: RuntimeWarning: invalid value encountered in divide\n",
      "  c /= stddev[:, None]\n",
      "/opt/anaconda3/envs/brainplayback_task02/lib/python3.11/site-packages/numpy/lib/function_base.py:2898: RuntimeWarning: invalid value encountered in divide\n",
      "  c /= stddev[None, :]\n"
     ]
    },
    {
     "name": "stdout",
     "output_type": "stream",
     "text": [
      "X coordinate 14/97...\n",
      "X coordinate 15/97...\n",
      "X coordinate 16/97...\n",
      "X coordinate 17/97...\n",
      "X coordinate 18/97...\n",
      "X coordinate 19/97...\n",
      "X coordinate 20/97...\n",
      "X coordinate 21/97...\n",
      "X coordinate 22/97...\n",
      "X coordinate 24/97...\n"
     ]
    },
    {
     "name": "stderr",
     "output_type": "stream",
     "text": [
      "/opt/anaconda3/envs/brainplayback_task02/lib/python3.11/site-packages/numpy/lib/function_base.py:2897: RuntimeWarning: invalid value encountered in divide\n",
      "  c /= stddev[:, None]\n",
      "/opt/anaconda3/envs/brainplayback_task02/lib/python3.11/site-packages/numpy/lib/function_base.py:2898: RuntimeWarning: invalid value encountered in divide\n",
      "  c /= stddev[None, :]\n"
     ]
    },
    {
     "name": "stdout",
     "output_type": "stream",
     "text": [
      "X coordinate 23/97...\n",
      "X coordinate 25/97...\n",
      "X coordinate 26/97...\n",
      "X coordinate 28/97...\n"
     ]
    },
    {
     "name": "stderr",
     "output_type": "stream",
     "text": [
      "/opt/anaconda3/envs/brainplayback_task02/lib/python3.11/site-packages/numpy/lib/function_base.py:2897: RuntimeWarning: invalid value encountered in divide\n",
      "  c /= stddev[:, None]\n",
      "/opt/anaconda3/envs/brainplayback_task02/lib/python3.11/site-packages/numpy/lib/function_base.py:2898: RuntimeWarning: invalid value encountered in divide\n",
      "  c /= stddev[None, :]\n"
     ]
    },
    {
     "name": "stdout",
     "output_type": "stream",
     "text": [
      "X coordinate 27/97...\n",
      "X coordinate 29/97...\n",
      "X coordinate 30/97...\n",
      "X coordinate 31/97...\n",
      "X coordinate 32/97...\n"
     ]
    },
    {
     "name": "stderr",
     "output_type": "stream",
     "text": [
      "/opt/anaconda3/envs/brainplayback_task02/lib/python3.11/site-packages/numpy/lib/function_base.py:2897: RuntimeWarning: invalid value encountered in divide\n",
      "  c /= stddev[:, None]\n",
      "/opt/anaconda3/envs/brainplayback_task02/lib/python3.11/site-packages/numpy/lib/function_base.py:2898: RuntimeWarning: invalid value encountered in divide\n",
      "  c /= stddev[None, :]\n"
     ]
    },
    {
     "name": "stdout",
     "output_type": "stream",
     "text": [
      "X coordinate 33/97...\n",
      "X coordinate 34/97...\n",
      "X coordinate 35/97...\n",
      "X coordinate 36/97...\n"
     ]
    },
    {
     "name": "stderr",
     "output_type": "stream",
     "text": [
      "/opt/anaconda3/envs/brainplayback_task02/lib/python3.11/site-packages/numpy/lib/function_base.py:2897: RuntimeWarning: invalid value encountered in divide\n",
      "  c /= stddev[:, None]\n",
      "/opt/anaconda3/envs/brainplayback_task02/lib/python3.11/site-packages/numpy/lib/function_base.py:2898: RuntimeWarning: invalid value encountered in divide\n",
      "  c /= stddev[None, :]\n"
     ]
    },
    {
     "name": "stdout",
     "output_type": "stream",
     "text": [
      "X coordinate 37/97...\n",
      "X coordinate 38/97...\n",
      "X coordinate 39/97...\n",
      "X coordinate 40/97...\n"
     ]
    },
    {
     "name": "stderr",
     "output_type": "stream",
     "text": [
      "/opt/anaconda3/envs/brainplayback_task02/lib/python3.11/site-packages/numpy/lib/function_base.py:2897: RuntimeWarning: invalid value encountered in divide\n",
      "  c /= stddev[:, None]\n",
      "/opt/anaconda3/envs/brainplayback_task02/lib/python3.11/site-packages/numpy/lib/function_base.py:2898: RuntimeWarning: invalid value encountered in divide\n",
      "  c /= stddev[None, :]\n"
     ]
    },
    {
     "name": "stdout",
     "output_type": "stream",
     "text": [
      "X coordinate 41/97...\n",
      "X coordinate 42/97...\n",
      "X coordinate 43/97...\n",
      "X coordinate 44/97...\n",
      "X coordinate 45/97...\n",
      "X coordinate 46/97...\n",
      "X coordinate 47/97...\n",
      "X coordinate 48/97...\n"
     ]
    },
    {
     "name": "stderr",
     "output_type": "stream",
     "text": [
      "/opt/anaconda3/envs/brainplayback_task02/lib/python3.11/site-packages/numpy/lib/function_base.py:2897: RuntimeWarning: invalid value encountered in divide\n",
      "  c /= stddev[:, None]\n",
      "/opt/anaconda3/envs/brainplayback_task02/lib/python3.11/site-packages/numpy/lib/function_base.py:2898: RuntimeWarning: invalid value encountered in divide\n",
      "  c /= stddev[None, :]\n"
     ]
    },
    {
     "name": "stdout",
     "output_type": "stream",
     "text": [
      "X coordinate 49/97...\n",
      "X coordinate 50/97...\n",
      "X coordinate 51/97...\n",
      "X coordinate 52/97...\n"
     ]
    },
    {
     "name": "stderr",
     "output_type": "stream",
     "text": [
      "/opt/anaconda3/envs/brainplayback_task02/lib/python3.11/site-packages/numpy/lib/function_base.py:2897: RuntimeWarning: invalid value encountered in divide\n",
      "  c /= stddev[:, None]\n",
      "/opt/anaconda3/envs/brainplayback_task02/lib/python3.11/site-packages/numpy/lib/function_base.py:2898: RuntimeWarning: invalid value encountered in divide\n",
      "  c /= stddev[None, :]\n"
     ]
    },
    {
     "name": "stdout",
     "output_type": "stream",
     "text": [
      "X coordinate 53/97...\n",
      "X coordinate 54/97...\n",
      "X coordinate 55/97...\n",
      "X coordinate 56/97...\n",
      "X coordinate 57/97...\n",
      "X coordinate 58/97...\n",
      "X coordinate 59/97...\n",
      "X coordinate 60/97...\n",
      "X coordinate 61/97...\n",
      "X coordinate 62/97...\n",
      "X coordinate 63/97...\n",
      "X coordinate 64/97...\n",
      "X coordinate 65/97...\n",
      "X coordinate 66/97...\n",
      "X coordinate 67/97...\n",
      "X coordinate 68/97...\n",
      "X coordinate 69/97...\n",
      "X coordinate 70/97...\n",
      "X coordinate 71/97...\n",
      "X coordinate 72/97...\n",
      "X coordinate 73/97...\n",
      "X coordinate 74/97...\n",
      "X coordinate 75/97...\n",
      "X coordinate 76/97...\n",
      "X coordinate 77/97...\n",
      "X coordinate 78/97...\n",
      "X coordinate 79/97...\n",
      "X coordinate 80/97...\n",
      "X coordinate 81/97...\n",
      "X coordinate 82/97...\n",
      "X coordinate 83/97...\n",
      "X coordinate 84/97...\n",
      "X coordinate 85/97...\n",
      "X coordinate 86/97...\n",
      "X coordinate 87/97...\n",
      "X coordinate 88/97...\n",
      "X coordinate 89/97...\n",
      "X coordinate 90/97...\n",
      "X coordinate 91/97...\n",
      "X coordinate 92/97...\n",
      "X coordinate 93/97...\n",
      "X coordinate 94/97...\n",
      "X coordinate 95/97...\n",
      "X coordinate 96/97...\n",
      "Done estimating stability for subject 18.\n",
      "--------------------\n",
      "Fold 2...\n",
      "['/Volumes/T7/BIDS-BRAINPLAYBACK-TASK2/derivatives/mvpa_08_stability_musicnoise_bold/feat_stab_full/sub-18_ses-01_task-02a_run-1_stab_features.npy', '/Volumes/T7/BIDS-BRAINPLAYBACK-TASK2/derivatives/mvpa_08_stability_musicnoise_bold/feat_stab_full/sub-18_ses-01_task-02a_run-3_stab_features.npy']\n",
      "Number of trials per condition per subject: 4\n",
      "Number of pairwise combinations: 6\n",
      "X coordinate 0/97...\n",
      "X coordinate 1/97...\n",
      "X coordinate 2/97...\n",
      "X coordinate 3/97...\n",
      "X coordinate 4/97...\n",
      "X coordinate 5/97...\n",
      "X coordinate 6/97...\n",
      "X coordinate 7/97...\n",
      "X coordinate 8/97...\n",
      "X coordinate 9/97...\n",
      "X coordinate 10/97...\n",
      "X coordinate 11/97...\n",
      "X coordinate 12/97...\n",
      "X coordinate 13/97...\n"
     ]
    },
    {
     "name": "stderr",
     "output_type": "stream",
     "text": [
      "/opt/anaconda3/envs/brainplayback_task02/lib/python3.11/site-packages/numpy/lib/function_base.py:2897: RuntimeWarning: invalid value encountered in divide\n",
      "  c /= stddev[:, None]\n",
      "/opt/anaconda3/envs/brainplayback_task02/lib/python3.11/site-packages/numpy/lib/function_base.py:2898: RuntimeWarning: invalid value encountered in divide\n",
      "  c /= stddev[None, :]\n"
     ]
    },
    {
     "name": "stdout",
     "output_type": "stream",
     "text": [
      "X coordinate 14/97...\n",
      "X coordinate 15/97...\n",
      "X coordinate 16/97...\n",
      "X coordinate 17/97...\n",
      "X coordinate 18/97...\n",
      "X coordinate 19/97...\n",
      "X coordinate 20/97...\n",
      "X coordinate 21/97...\n",
      "X coordinate 22/97...\n",
      "X coordinate 24/97...\n"
     ]
    },
    {
     "name": "stderr",
     "output_type": "stream",
     "text": [
      "/opt/anaconda3/envs/brainplayback_task02/lib/python3.11/site-packages/numpy/lib/function_base.py:2897: RuntimeWarning: invalid value encountered in divide\n",
      "  c /= stddev[:, None]\n",
      "/opt/anaconda3/envs/brainplayback_task02/lib/python3.11/site-packages/numpy/lib/function_base.py:2898: RuntimeWarning: invalid value encountered in divide\n",
      "  c /= stddev[None, :]\n"
     ]
    },
    {
     "name": "stdout",
     "output_type": "stream",
     "text": [
      "X coordinate 23/97...\n",
      "X coordinate 25/97...\n",
      "X coordinate 28/97...\n",
      "X coordinate 26/97...\n"
     ]
    },
    {
     "name": "stderr",
     "output_type": "stream",
     "text": [
      "/opt/anaconda3/envs/brainplayback_task02/lib/python3.11/site-packages/numpy/lib/function_base.py:2897: RuntimeWarning: invalid value encountered in divide\n",
      "  c /= stddev[:, None]\n",
      "/opt/anaconda3/envs/brainplayback_task02/lib/python3.11/site-packages/numpy/lib/function_base.py:2898: RuntimeWarning: invalid value encountered in divide\n",
      "  c /= stddev[None, :]\n",
      "/opt/anaconda3/envs/brainplayback_task02/lib/python3.11/site-packages/numpy/lib/function_base.py:2897: RuntimeWarning: invalid value encountered in divide\n",
      "  c /= stddev[:, None]\n",
      "/opt/anaconda3/envs/brainplayback_task02/lib/python3.11/site-packages/numpy/lib/function_base.py:2898: RuntimeWarning: invalid value encountered in divide\n",
      "  c /= stddev[None, :]\n"
     ]
    },
    {
     "name": "stdout",
     "output_type": "stream",
     "text": [
      "X coordinate 29/97...\n",
      "X coordinate 27/97...\n",
      "X coordinate 30/97...\n",
      "X coordinate 31/97...\n",
      "X coordinate 32/97...\n"
     ]
    },
    {
     "name": "stderr",
     "output_type": "stream",
     "text": [
      "/opt/anaconda3/envs/brainplayback_task02/lib/python3.11/site-packages/numpy/lib/function_base.py:2897: RuntimeWarning: invalid value encountered in divide\n",
      "  c /= stddev[:, None]\n",
      "/opt/anaconda3/envs/brainplayback_task02/lib/python3.11/site-packages/numpy/lib/function_base.py:2898: RuntimeWarning: invalid value encountered in divide\n",
      "  c /= stddev[None, :]\n"
     ]
    },
    {
     "name": "stdout",
     "output_type": "stream",
     "text": [
      "X coordinate 33/97...\n",
      "X coordinate 34/97...\n",
      "X coordinate 35/97...\n",
      "X coordinate 36/97...\n"
     ]
    },
    {
     "name": "stderr",
     "output_type": "stream",
     "text": [
      "/opt/anaconda3/envs/brainplayback_task02/lib/python3.11/site-packages/numpy/lib/function_base.py:2897: RuntimeWarning: invalid value encountered in divide\n",
      "  c /= stddev[:, None]\n",
      "/opt/anaconda3/envs/brainplayback_task02/lib/python3.11/site-packages/numpy/lib/function_base.py:2898: RuntimeWarning: invalid value encountered in divide\n",
      "  c /= stddev[None, :]\n"
     ]
    },
    {
     "name": "stdout",
     "output_type": "stream",
     "text": [
      "X coordinate 37/97...\n",
      "X coordinate 38/97...\n",
      "X coordinate 39/97...\n",
      "X coordinate 40/97...\n"
     ]
    },
    {
     "name": "stderr",
     "output_type": "stream",
     "text": [
      "/opt/anaconda3/envs/brainplayback_task02/lib/python3.11/site-packages/numpy/lib/function_base.py:2897: RuntimeWarning: invalid value encountered in divide\n",
      "  c /= stddev[:, None]\n",
      "/opt/anaconda3/envs/brainplayback_task02/lib/python3.11/site-packages/numpy/lib/function_base.py:2898: RuntimeWarning: invalid value encountered in divide\n",
      "  c /= stddev[None, :]\n"
     ]
    },
    {
     "name": "stdout",
     "output_type": "stream",
     "text": [
      "X coordinate 41/97...\n",
      "X coordinate 42/97...\n",
      "X coordinate 43/97...\n",
      "X coordinate 44/97...\n",
      "X coordinate 45/97...\n",
      "X coordinate 46/97...\n",
      "X coordinate 47/97...\n",
      "X coordinate 48/97...\n"
     ]
    },
    {
     "name": "stderr",
     "output_type": "stream",
     "text": [
      "/opt/anaconda3/envs/brainplayback_task02/lib/python3.11/site-packages/numpy/lib/function_base.py:2897: RuntimeWarning: invalid value encountered in divide\n",
      "  c /= stddev[:, None]\n",
      "/opt/anaconda3/envs/brainplayback_task02/lib/python3.11/site-packages/numpy/lib/function_base.py:2898: RuntimeWarning: invalid value encountered in divide\n",
      "  c /= stddev[None, :]\n"
     ]
    },
    {
     "name": "stdout",
     "output_type": "stream",
     "text": [
      "X coordinate 49/97...\n",
      "X coordinate 50/97...\n",
      "X coordinate 51/97...\n",
      "X coordinate 52/97...\n",
      "X coordinate 53/97...\n",
      "X coordinate 54/97...\n",
      "X coordinate 55/97...\n",
      "X coordinate 56/97...\n",
      "X coordinate 57/97...\n",
      "X coordinate 58/97...\n",
      "X coordinate 59/97...\n",
      "X coordinate 60/97...\n",
      "X coordinate 61/97...\n",
      "X coordinate 62/97...\n",
      "X coordinate 63/97...\n",
      "X coordinate 64/97...\n",
      "X coordinate 65/97...\n",
      "X coordinate 66/97...\n",
      "X coordinate 67/97...\n",
      "X coordinate 68/97...\n",
      "X coordinate 69/97...\n",
      "X coordinate 70/97...\n",
      "X coordinate 71/97...\n",
      "X coordinate 72/97...\n",
      "X coordinate 73/97...\n",
      "X coordinate 74/97...\n",
      "X coordinate 75/97...\n",
      "X coordinate 76/97...\n",
      "X coordinate 77/97...\n",
      "X coordinate 78/97...\n",
      "X coordinate 79/97...\n",
      "X coordinate 80/97...\n",
      "X coordinate 81/97...\n",
      "X coordinate 82/97...\n",
      "X coordinate 83/97...\n",
      "X coordinate 84/97...\n",
      "X coordinate 85/97...\n",
      "X coordinate 86/97...\n",
      "X coordinate 87/97...\n",
      "X coordinate 88/97...\n",
      "X coordinate 89/97...\n",
      "X coordinate 90/97...\n",
      "X coordinate 91/97...\n",
      "X coordinate 92/97...\n",
      "X coordinate 93/97...\n",
      "X coordinate 94/97...\n",
      "X coordinate 95/97...\n",
      "X coordinate 96/97...\n",
      "Done estimating stability for subject 18.\n"
     ]
    }
   ],
   "source": [
    "# generate the folds\n",
    "# test sample is run 1, 2, 3, 4, in this order, for folds 1, 2, 3, 4\n",
    " \n",
    "n_folds = 4\n",
    "if subject == '18': n_folds = 3\n",
    "\n",
    "for ff in range(0,n_folds):\n",
    "\n",
    "    print('--'*10)\n",
    "    print(f'Fold {ff}...')\n",
    "    stab_feat_files_fold = stab_feat_files.copy()\n",
    "    del stab_feat_files_fold[ff]\n",
    "    print(stab_feat_files_fold)\n",
    "\n",
    "    # Concatenating the runs\n",
    "    stab_feat = np.concatenate([np.load(f) for f in stab_feat_files_fold], axis=-1)\n",
    "\n",
    "    print(f'Number of trials per condition per subject: {stab_feat.shape[-1]}')\n",
    "\n",
    "    # Generate a list of indexes\n",
    "    indexes = np.arange(stab_feat.shape[-1])\n",
    "    combinations = np.array(list(itertools.combinations(indexes, 2)))\n",
    "    n_combinations = len(combinations)\n",
    "    print(f'Number of pairwise combinations: {n_combinations}')\n",
    "\n",
    "    # Initialize STAB array\n",
    "    STAB = np.zeros((stab_feat.shape[0], stab_feat.shape[1], stab_feat.shape[2]))\n",
    "\n",
    "    # Use multiprocessing to process each x-coordinate slice in parallel\n",
    "    with Pool(processes=8) as pool:\n",
    "        results = pool.starmap(process_voxel, [(i, stab_feat, combinations) for i in range(stab_feat.shape[0])])\n",
    "\n",
    "    # Collect the results\n",
    "    for i, STAB_slice in results:\n",
    "        STAB[i, :, :] = STAB_slice\n",
    "\n",
    "    # Save STAB\n",
    "    np.save(os.path.join(output_stab_dir, f'sub-{subject}_STAB_fold_{ff}.npy'), STAB)\n",
    "\n",
    "    print(f\"Done estimating stability for subject {subject}.\")"
   ]
  }
 ],
 "metadata": {
  "kernelspec": {
   "display_name": "brainplayback_task02",
   "language": "python",
   "name": "python3"
  },
  "language_info": {
   "codemirror_mode": {
    "name": "ipython",
    "version": 3
   },
   "file_extension": ".py",
   "mimetype": "text/x-python",
   "name": "python",
   "nbconvert_exporter": "python",
   "pygments_lexer": "ipython3",
   "version": "3.11.8"
  }
 },
 "nbformat": 4,
 "nbformat_minor": 2
}
