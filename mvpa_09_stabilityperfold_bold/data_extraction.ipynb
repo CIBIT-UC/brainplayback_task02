{
 "cells": [
  {
   "cell_type": "code",
   "execution_count": 5,
   "metadata": {},
   "outputs": [],
   "source": [
    "import os\n",
    "import numpy as np\n",
    "from nilearn import image, plotting\n",
    "import nibabel as nb\n",
    "from functions import edit_events_musicnoise, extract_samples, convert_samples_to_features, edit_events_full, edit_events_factors"
   ]
  },
  {
   "cell_type": "code",
   "execution_count": 6,
   "metadata": {},
   "outputs": [],
   "source": [
    "data_root = '/Volumes/T7/BIDS-BRAINPLAYBACK-TASK2'\n",
    "fmriprep_dir = os.path.join(data_root, 'derivatives','fmriprep23')\n",
    "func_dir = os.path.join(data_root, 'derivatives', 'mvpa_04_musicnoise_bold', 'func_clean')\n",
    "stab_mask_dir = os.path.join(data_root, 'derivatives', 'mvpa_09_stabilityperfold_bold', 'stab_full')\n",
    "#output_feat_musicnoise_dir = os.path.join(data_root, 'derivatives', 'mvpa_08_stability_musicnoise_bold', 'features_musicnoise_stab_full')\n",
    "#output_feat_factors_dir = os.path.join(data_root, 'derivatives', 'mvpa_08_stability_musicnoise_bold', 'features_factors_stab_full')\n",
    "output_feat_full_dir = os.path.join(data_root, 'derivatives', 'mvpa_09_stabilityperfold_bold', 'features_stab_full')"
   ]
  },
  {
   "cell_type": "code",
   "execution_count": 7,
   "metadata": {},
   "outputs": [],
   "source": [
    "subject = '02'"
   ]
  },
  {
   "cell_type": "code",
   "execution_count": 8,
   "metadata": {},
   "outputs": [
    {
     "name": "stdout",
     "output_type": "stream",
     "text": [
      "--------------------\n",
      "Fold 0...\n",
      "Extracting samples for subject 02, run 1...\n"
     ]
    },
    {
     "name": "stderr",
     "output_type": "stream",
     "text": [
      "/opt/anaconda3/envs/brainplayback_task02/lib/python3.11/site-packages/nilearn/image/image.py:1106: UserWarning: Data array used to create a new image contains 64-bit ints. This is likely due to creating the array with numpy and passing `int` as the `dtype`. Many tools such as FSL and SPM cannot deal with int64 in Nifti images, so for compatibility the data has been converted to int32.\n",
      "  return new_img_like(niimg, result, niimg.affine)\n"
     ]
    },
    {
     "name": "stdout",
     "output_type": "stream",
     "text": [
      "Samples extracted for subject 02, run 1.\n",
      "Editing events for subject 02, run 1...\n",
      "Events edited for subject 02, run 1.\n",
      "Converting samples to features for subject 02, run 1, fold 0...\n",
      "Features extracted and labels saved for subject 02, run 1, fold 0.\n",
      "Extracting samples for subject 02, run 2...\n",
      "Samples extracted for subject 02, run 2.\n",
      "Editing events for subject 02, run 2...\n",
      "Events edited for subject 02, run 2.\n",
      "Converting samples to features for subject 02, run 2, fold 0...\n",
      "Features extracted and labels saved for subject 02, run 2, fold 0.\n",
      "Extracting samples for subject 02, run 3...\n",
      "Samples extracted for subject 02, run 3.\n",
      "Editing events for subject 02, run 3...\n",
      "Events edited for subject 02, run 3.\n",
      "Converting samples to features for subject 02, run 3, fold 0...\n",
      "Features extracted and labels saved for subject 02, run 3, fold 0.\n",
      "Extracting samples for subject 02, run 4...\n",
      "Samples extracted for subject 02, run 4.\n",
      "Editing events for subject 02, run 4...\n",
      "Events edited for subject 02, run 4.\n",
      "Converting samples to features for subject 02, run 4, fold 0...\n",
      "Features extracted and labels saved for subject 02, run 4, fold 0.\n",
      "--------------------\n",
      "Fold 1...\n"
     ]
    },
    {
     "name": "stderr",
     "output_type": "stream",
     "text": [
      "/opt/anaconda3/envs/brainplayback_task02/lib/python3.11/site-packages/nilearn/image/image.py:1106: UserWarning: Data array used to create a new image contains 64-bit ints. This is likely due to creating the array with numpy and passing `int` as the `dtype`. Many tools such as FSL and SPM cannot deal with int64 in Nifti images, so for compatibility the data has been converted to int32.\n",
      "  return new_img_like(niimg, result, niimg.affine)\n"
     ]
    },
    {
     "name": "stdout",
     "output_type": "stream",
     "text": [
      "Extracting samples for subject 02, run 1...\n",
      "Samples extracted for subject 02, run 1.\n",
      "Editing events for subject 02, run 1...\n",
      "Events edited for subject 02, run 1.\n",
      "Converting samples to features for subject 02, run 1, fold 1...\n",
      "Features extracted and labels saved for subject 02, run 1, fold 1.\n",
      "Extracting samples for subject 02, run 2...\n",
      "Samples extracted for subject 02, run 2.\n",
      "Editing events for subject 02, run 2...\n",
      "Events edited for subject 02, run 2.\n",
      "Converting samples to features for subject 02, run 2, fold 1...\n",
      "Features extracted and labels saved for subject 02, run 2, fold 1.\n",
      "Extracting samples for subject 02, run 3...\n",
      "Samples extracted for subject 02, run 3.\n",
      "Editing events for subject 02, run 3...\n",
      "Events edited for subject 02, run 3.\n",
      "Converting samples to features for subject 02, run 3, fold 1...\n",
      "Features extracted and labels saved for subject 02, run 3, fold 1.\n",
      "Extracting samples for subject 02, run 4...\n",
      "Samples extracted for subject 02, run 4.\n",
      "Editing events for subject 02, run 4...\n",
      "Events edited for subject 02, run 4.\n",
      "Converting samples to features for subject 02, run 4, fold 1...\n",
      "Features extracted and labels saved for subject 02, run 4, fold 1.\n",
      "--------------------\n",
      "Fold 2...\n"
     ]
    },
    {
     "name": "stderr",
     "output_type": "stream",
     "text": [
      "/opt/anaconda3/envs/brainplayback_task02/lib/python3.11/site-packages/nilearn/image/image.py:1106: UserWarning: Data array used to create a new image contains 64-bit ints. This is likely due to creating the array with numpy and passing `int` as the `dtype`. Many tools such as FSL and SPM cannot deal with int64 in Nifti images, so for compatibility the data has been converted to int32.\n",
      "  return new_img_like(niimg, result, niimg.affine)\n"
     ]
    },
    {
     "name": "stdout",
     "output_type": "stream",
     "text": [
      "Extracting samples for subject 02, run 1...\n",
      "Samples extracted for subject 02, run 1.\n",
      "Editing events for subject 02, run 1...\n",
      "Events edited for subject 02, run 1.\n",
      "Converting samples to features for subject 02, run 1, fold 2...\n",
      "Features extracted and labels saved for subject 02, run 1, fold 2.\n",
      "Extracting samples for subject 02, run 2...\n",
      "Samples extracted for subject 02, run 2.\n",
      "Editing events for subject 02, run 2...\n",
      "Events edited for subject 02, run 2.\n",
      "Converting samples to features for subject 02, run 2, fold 2...\n",
      "Features extracted and labels saved for subject 02, run 2, fold 2.\n",
      "Extracting samples for subject 02, run 3...\n",
      "Samples extracted for subject 02, run 3.\n",
      "Editing events for subject 02, run 3...\n",
      "Events edited for subject 02, run 3.\n",
      "Converting samples to features for subject 02, run 3, fold 2...\n",
      "Features extracted and labels saved for subject 02, run 3, fold 2.\n",
      "Extracting samples for subject 02, run 4...\n",
      "Samples extracted for subject 02, run 4.\n",
      "Editing events for subject 02, run 4...\n",
      "Events edited for subject 02, run 4.\n",
      "Converting samples to features for subject 02, run 4, fold 2...\n",
      "Features extracted and labels saved for subject 02, run 4, fold 2.\n",
      "--------------------\n",
      "Fold 3...\n"
     ]
    },
    {
     "name": "stderr",
     "output_type": "stream",
     "text": [
      "/opt/anaconda3/envs/brainplayback_task02/lib/python3.11/site-packages/nilearn/image/image.py:1106: UserWarning: Data array used to create a new image contains 64-bit ints. This is likely due to creating the array with numpy and passing `int` as the `dtype`. Many tools such as FSL and SPM cannot deal with int64 in Nifti images, so for compatibility the data has been converted to int32.\n",
      "  return new_img_like(niimg, result, niimg.affine)\n"
     ]
    },
    {
     "name": "stdout",
     "output_type": "stream",
     "text": [
      "Extracting samples for subject 02, run 1...\n",
      "Samples extracted for subject 02, run 1.\n",
      "Editing events for subject 02, run 1...\n",
      "Events edited for subject 02, run 1.\n",
      "Converting samples to features for subject 02, run 1, fold 3...\n",
      "Features extracted and labels saved for subject 02, run 1, fold 3.\n",
      "Extracting samples for subject 02, run 2...\n",
      "Samples extracted for subject 02, run 2.\n",
      "Editing events for subject 02, run 2...\n",
      "Events edited for subject 02, run 2.\n",
      "Converting samples to features for subject 02, run 2, fold 3...\n",
      "Features extracted and labels saved for subject 02, run 2, fold 3.\n",
      "Extracting samples for subject 02, run 3...\n",
      "Samples extracted for subject 02, run 3.\n",
      "Editing events for subject 02, run 3...\n",
      "Events edited for subject 02, run 3.\n",
      "Converting samples to features for subject 02, run 3, fold 3...\n",
      "Features extracted and labels saved for subject 02, run 3, fold 3.\n",
      "Extracting samples for subject 02, run 4...\n",
      "Samples extracted for subject 02, run 4.\n",
      "Editing events for subject 02, run 4...\n",
      "Events edited for subject 02, run 4.\n",
      "Converting samples to features for subject 02, run 4, fold 3...\n",
      "Features extracted and labels saved for subject 02, run 4, fold 3.\n"
     ]
    }
   ],
   "source": [
    "n_folds = 4\n",
    "example_func = nb.load(os.path.join(func_dir,f'sub-{subject}_ses-01_task-02a_run-1_cleaned.nii.gz'))\n",
    "\n",
    "for ff in range(n_folds):\n",
    "\n",
    "    print('--'*10)\n",
    "    print(f'Fold {ff}...')\n",
    "\n",
    "    stab_mask_data = np.load(os.path.join(stab_mask_dir, f'sub-{subject}_STAB_fold_{ff}.npy'))\n",
    "\n",
    "    # generate image\n",
    "    stab_mask_img = nb.Nifti1Image(stab_mask_data, example_func.affine, example_func.header)\n",
    "\n",
    "    # threshold the stability map\n",
    "    thres = 0.15\n",
    "    stab_mask_img_thres = image.threshold_img(stab_mask_img, threshold=thres)\n",
    "    stab_mask_img_thres_bin = image.binarize_img(stab_mask_img_thres)\n",
    "\n",
    "    for run in ['1','2','3','4']:\n",
    "        img_clean = nb.load(os.path.join(func_dir, f'sub-{subject}_ses-01_task-02a_run-{run}_cleaned.nii.gz'))\n",
    "        samples = extract_samples(img_clean, stab_mask_img_thres_bin, subject, run)\n",
    "\n",
    "        events_split_2 = edit_events_full(data_root, subject, run)\n",
    "        convert_samples_to_features(samples, output_feat_full_dir, events_split_2, subject, run, ff)\n"
   ]
  }
 ],
 "metadata": {
  "kernelspec": {
   "display_name": "brainplayback_task02",
   "language": "python",
   "name": "python3"
  },
  "language_info": {
   "codemirror_mode": {
    "name": "ipython",
    "version": 3
   },
   "file_extension": ".py",
   "mimetype": "text/x-python",
   "name": "python",
   "nbconvert_exporter": "python",
   "pygments_lexer": "ipython3",
   "version": "3.11.8"
  }
 },
 "nbformat": 4,
 "nbformat_minor": 2
}
