{
  "cells": [
    {
      "cell_type": "markdown",
      "metadata": {},
      "source": [
        "\n",
        "# ROI-based decoding analysis in Haxby et al. dataset\n",
        "\n",
        "In this script we reproduce the data analysis\n",
        "conducted by :footcite:t:`Haxby2001`.\n",
        "\n",
        "Specifically, we look at decoding accuracy for different objects in\n",
        "three different masks: the full ventral stream (mask_vt), the house\n",
        "selective areas (mask_house) and the face selective areas (mask_face),\n",
        "that have been defined via a standard GLM-based analysis.\n",
        "\n",
        ".. include:: ../../../examples/masker_note.rst\n"
      ]
    },
    {
      "cell_type": "code",
      "execution_count": 1,
      "metadata": {
        "collapsed": false
      },
      "outputs": [],
      "source": [
        "# Fetch data using nilearn dataset fetcher\n",
        "import os\n",
        "from nilearn import datasets\n",
        "from nilearn.plotting import show"
      ]
    },
    {
      "cell_type": "markdown",
      "metadata": {},
      "source": [
        "## Load and prepare the data\n",
        "\n"
      ]
    },
    {
      "cell_type": "code",
      "execution_count": 19,
      "metadata": {
        "collapsed": false
      },
      "outputs": [
        {
          "ename": "TypeError",
          "evalue": "slice indices must be integers or None or have an __index__ method",
          "output_type": "error",
          "traceback": [
            "\u001b[0;31m---------------------------------------------------------------------------\u001b[0m",
            "\u001b[0;31mTypeError\u001b[0m                                 Traceback (most recent call last)",
            "Cell \u001b[0;32mIn[19], line 27\u001b[0m\n\u001b[1;32m     25\u001b[0m task_per_volume \u001b[38;5;241m=\u001b[39m np\u001b[38;5;241m.\u001b[39mzeros((\u001b[38;5;241m660\u001b[39m, \u001b[38;5;241m1\u001b[39m))\n\u001b[1;32m     26\u001b[0m \u001b[38;5;28;01mfor\u001b[39;00m i \u001b[38;5;129;01min\u001b[39;00m \u001b[38;5;28mrange\u001b[39m(\u001b[38;5;28mlen\u001b[39m(events)):\n\u001b[0;32m---> 27\u001b[0m     \u001b[43mtask_per_volume\u001b[49m\u001b[43m[\u001b[49m\u001b[43mevents\u001b[49m\u001b[43m[\u001b[49m\u001b[38;5;124;43m'\u001b[39;49m\u001b[38;5;124;43monset\u001b[39;49m\u001b[38;5;124;43m'\u001b[39;49m\u001b[43m]\u001b[49m\u001b[43m:\u001b[49m\u001b[43mevents\u001b[49m\u001b[43m[\u001b[49m\u001b[38;5;124;43m'\u001b[39;49m\u001b[38;5;124;43monset\u001b[39;49m\u001b[38;5;124;43m'\u001b[39;49m\u001b[43m]\u001b[49m\u001b[43m[\u001b[49m\u001b[43mi\u001b[49m\u001b[43m]\u001b[49m\u001b[38;5;241;43m+\u001b[39;49m\u001b[43mevents\u001b[49m\u001b[43m[\u001b[49m\u001b[38;5;124;43m'\u001b[39;49m\u001b[38;5;124;43mduration\u001b[39;49m\u001b[38;5;124;43m'\u001b[39;49m\u001b[43m]\u001b[49m\u001b[43m[\u001b[49m\u001b[43mi\u001b[49m\u001b[43m]\u001b[49m\u001b[43m]\u001b[49m \u001b[38;5;241m=\u001b[39m events[\u001b[38;5;124m'\u001b[39m\u001b[38;5;124mtrial_type\u001b[39m\u001b[38;5;124m'\u001b[39m][i]\n\u001b[1;32m     28\u001b[0m \u001b[38;5;66;03m# find names of remaining active labels\u001b[39;00m\n\u001b[1;32m     29\u001b[0m \u001b[38;5;66;03m#categories = events['trial_type'][task_mask].unique()\u001b[39;00m\n\u001b[1;32m     30\u001b[0m \n\u001b[0;32m   (...)\u001b[0m\n\u001b[1;32m     36\u001b[0m \n\u001b[1;32m     37\u001b[0m \u001b[38;5;66;03m#task_data = index_img(func_filename, task_mask)\u001b[39;00m\n",
            "\u001b[0;31mTypeError\u001b[0m: slice indices must be integers or None or have an __index__ method"
          ]
        }
      ],
      "source": [
        "# by default we fetch 2nd subject data for analysis\n",
        "#haxby_dataset = datasets.fetch_haxby()\n",
        "root_dir = '/Volumes/T7/BIDS-BRAINPLAYBACK-TASK2'\n",
        "fmriprep_dir = os.path.join(root_dir, 'derivatives', 'fmriprep23')\n",
        "func_filename = os.path.join(fmriprep_dir, 'sub-01', 'ses-01', 'func', 'sub-01_ses-01_task-02a_run-1_space-MNI152NLin2009cAsym_res-2_desc-preproc_bold.nii.gz')\n",
        "\n",
        "# load labels\n",
        "import pandas as pd\n",
        "import numpy as np\n",
        "\n",
        "# Load nilearn NiftiMasker, the practical masking and unmasking tool\n",
        "from nilearn.maskers import NiftiMasker\n",
        "\n",
        "# import events data\n",
        "from functions import edit_events\n",
        "events = edit_events(root_dir, 'sub-01', '02a', '1')\n",
        "events.reset_index(drop=True, inplace=True)\n",
        "#labels = pd.read_csv(haxby_dataset.session_target[0], sep=\" \")\n",
        "#stimuli = labels[\"labels\"]\n",
        "# identify resting state labels in order to be able to remove them\n",
        "#task_mask = events['trial_type'] != \"Noise\"\n",
        "\n",
        "# create a list the length of the number of volumes in the functional image\n",
        "# with the trial type (string) of each volume\n",
        "task_per_volume = \n",
        "for i in range(len(events)):\n",
        "    task_per_volume[events['onset']:events['onset'][i]+events['duration'][i]] = events['trial_type'][i]\n",
        "# find names of remaining active labels\n",
        "#categories = events['trial_type'][task_mask].unique()\n",
        "\n",
        "# extract tags indicating to which acquisition run a tag belongs\n",
        "#run_labels = labels[\"chunks\"][task_mask]\n",
        "\n",
        "# apply the task_mask to  fMRI data (func_filename)\n",
        "#from nilearn.image import index_img\n",
        "\n",
        "#task_data = index_img(func_filename, task_mask)"
      ]
    },
    {
      "cell_type": "code",
      "execution_count": 20,
      "metadata": {},
      "outputs": [
        {
          "data": {
            "text/plain": [
              "'Music'"
            ]
          },
          "execution_count": 20,
          "metadata": {},
          "output_type": "execute_result"
        }
      ],
      "source": [
        "events['trial_type'][1]"
      ]
    },
    {
      "cell_type": "code",
      "execution_count": 17,
      "metadata": {},
      "outputs": [
        {
          "data": {
            "text/plain": [
              "12"
            ]
          },
          "execution_count": 17,
          "metadata": {},
          "output_type": "execute_result"
        }
      ],
      "source": []
    },
    {
      "cell_type": "code",
      "execution_count": 14,
      "metadata": {},
      "outputs": [
        {
          "data": {
            "text/html": [
              "<div>\n",
              "<style scoped>\n",
              "    .dataframe tbody tr th:only-of-type {\n",
              "        vertical-align: middle;\n",
              "    }\n",
              "\n",
              "    .dataframe tbody tr th {\n",
              "        vertical-align: top;\n",
              "    }\n",
              "\n",
              "    .dataframe thead th {\n",
              "        text-align: right;\n",
              "    }\n",
              "</style>\n",
              "<table border=\"1\" class=\"dataframe\">\n",
              "  <thead>\n",
              "    <tr style=\"text-align: right;\">\n",
              "      <th></th>\n",
              "      <th>onset</th>\n",
              "      <th>duration</th>\n",
              "      <th>trial_type</th>\n",
              "    </tr>\n",
              "  </thead>\n",
              "  <tbody>\n",
              "    <tr>\n",
              "      <th>1</th>\n",
              "      <td>12</td>\n",
              "      <td>24</td>\n",
              "      <td>Music</td>\n",
              "    </tr>\n",
              "    <tr>\n",
              "      <th>3</th>\n",
              "      <td>42</td>\n",
              "      <td>24</td>\n",
              "      <td>Music</td>\n",
              "    </tr>\n",
              "    <tr>\n",
              "      <th>4</th>\n",
              "      <td>66</td>\n",
              "      <td>18</td>\n",
              "      <td>Noise</td>\n",
              "    </tr>\n",
              "    <tr>\n",
              "      <th>5</th>\n",
              "      <td>84</td>\n",
              "      <td>24</td>\n",
              "      <td>Music</td>\n",
              "    </tr>\n",
              "    <tr>\n",
              "      <th>7</th>\n",
              "      <td>114</td>\n",
              "      <td>24</td>\n",
              "      <td>Music</td>\n",
              "    </tr>\n",
              "    <tr>\n",
              "      <th>8</th>\n",
              "      <td>138</td>\n",
              "      <td>18</td>\n",
              "      <td>Noise</td>\n",
              "    </tr>\n",
              "    <tr>\n",
              "      <th>9</th>\n",
              "      <td>156</td>\n",
              "      <td>24</td>\n",
              "      <td>Music</td>\n",
              "    </tr>\n",
              "    <tr>\n",
              "      <th>11</th>\n",
              "      <td>187</td>\n",
              "      <td>24</td>\n",
              "      <td>Music</td>\n",
              "    </tr>\n",
              "    <tr>\n",
              "      <th>12</th>\n",
              "      <td>210</td>\n",
              "      <td>18</td>\n",
              "      <td>Noise</td>\n",
              "    </tr>\n",
              "    <tr>\n",
              "      <th>13</th>\n",
              "      <td>228</td>\n",
              "      <td>24</td>\n",
              "      <td>Music</td>\n",
              "    </tr>\n",
              "    <tr>\n",
              "      <th>15</th>\n",
              "      <td>258</td>\n",
              "      <td>24</td>\n",
              "      <td>Music</td>\n",
              "    </tr>\n",
              "    <tr>\n",
              "      <th>16</th>\n",
              "      <td>282</td>\n",
              "      <td>18</td>\n",
              "      <td>Noise</td>\n",
              "    </tr>\n",
              "    <tr>\n",
              "      <th>17</th>\n",
              "      <td>300</td>\n",
              "      <td>24</td>\n",
              "      <td>Music</td>\n",
              "    </tr>\n",
              "    <tr>\n",
              "      <th>19</th>\n",
              "      <td>330</td>\n",
              "      <td>24</td>\n",
              "      <td>Music</td>\n",
              "    </tr>\n",
              "    <tr>\n",
              "      <th>20</th>\n",
              "      <td>354</td>\n",
              "      <td>18</td>\n",
              "      <td>Noise</td>\n",
              "    </tr>\n",
              "    <tr>\n",
              "      <th>21</th>\n",
              "      <td>372</td>\n",
              "      <td>24</td>\n",
              "      <td>Music</td>\n",
              "    </tr>\n",
              "    <tr>\n",
              "      <th>23</th>\n",
              "      <td>402</td>\n",
              "      <td>24</td>\n",
              "      <td>Music</td>\n",
              "    </tr>\n",
              "    <tr>\n",
              "      <th>24</th>\n",
              "      <td>426</td>\n",
              "      <td>18</td>\n",
              "      <td>Noise</td>\n",
              "    </tr>\n",
              "    <tr>\n",
              "      <th>25</th>\n",
              "      <td>444</td>\n",
              "      <td>24</td>\n",
              "      <td>Music</td>\n",
              "    </tr>\n",
              "    <tr>\n",
              "      <th>27</th>\n",
              "      <td>474</td>\n",
              "      <td>24</td>\n",
              "      <td>Music</td>\n",
              "    </tr>\n",
              "    <tr>\n",
              "      <th>28</th>\n",
              "      <td>498</td>\n",
              "      <td>18</td>\n",
              "      <td>Noise</td>\n",
              "    </tr>\n",
              "    <tr>\n",
              "      <th>29</th>\n",
              "      <td>516</td>\n",
              "      <td>24</td>\n",
              "      <td>Music</td>\n",
              "    </tr>\n",
              "    <tr>\n",
              "      <th>31</th>\n",
              "      <td>546</td>\n",
              "      <td>24</td>\n",
              "      <td>Music</td>\n",
              "    </tr>\n",
              "    <tr>\n",
              "      <th>32</th>\n",
              "      <td>570</td>\n",
              "      <td>18</td>\n",
              "      <td>Noise</td>\n",
              "    </tr>\n",
              "    <tr>\n",
              "      <th>33</th>\n",
              "      <td>588</td>\n",
              "      <td>24</td>\n",
              "      <td>Music</td>\n",
              "    </tr>\n",
              "    <tr>\n",
              "      <th>35</th>\n",
              "      <td>618</td>\n",
              "      <td>24</td>\n",
              "      <td>Music</td>\n",
              "    </tr>\n",
              "  </tbody>\n",
              "</table>\n",
              "</div>"
            ],
            "text/plain": [
              "    onset  duration trial_type\n",
              "1      12        24      Music\n",
              "3      42        24      Music\n",
              "4      66        18      Noise\n",
              "5      84        24      Music\n",
              "7     114        24      Music\n",
              "8     138        18      Noise\n",
              "9     156        24      Music\n",
              "11    187        24      Music\n",
              "12    210        18      Noise\n",
              "13    228        24      Music\n",
              "15    258        24      Music\n",
              "16    282        18      Noise\n",
              "17    300        24      Music\n",
              "19    330        24      Music\n",
              "20    354        18      Noise\n",
              "21    372        24      Music\n",
              "23    402        24      Music\n",
              "24    426        18      Noise\n",
              "25    444        24      Music\n",
              "27    474        24      Music\n",
              "28    498        18      Noise\n",
              "29    516        24      Music\n",
              "31    546        24      Music\n",
              "32    570        18      Noise\n",
              "33    588        24      Music\n",
              "35    618        24      Music"
            ]
          },
          "execution_count": 14,
          "metadata": {},
          "output_type": "execute_result"
        }
      ],
      "source": [
        "events"
      ]
    },
    {
      "cell_type": "code",
      "execution_count": null,
      "metadata": {},
      "outputs": [],
      "source": [
        "task_per_volume"
      ]
    },
    {
      "cell_type": "markdown",
      "metadata": {},
      "source": [
        "## Decoding on the different masks\n",
        "\n",
        "The classifier used here is a support vector classifier (svc). We use\n",
        "class:`nilearn.decoding.Decoder` and specify the classifier.\n",
        "\n"
      ]
    },
    {
      "cell_type": "code",
      "execution_count": null,
      "metadata": {
        "collapsed": false
      },
      "outputs": [],
      "source": [
        "import numpy as np\n",
        "\n",
        "# Make a data splitting object for cross validation\n",
        "from sklearn.model_selection import LeaveOneGroupOut\n",
        "\n",
        "from nilearn.decoding import Decoder\n",
        "\n",
        "cv = LeaveOneGroupOut()"
      ]
    },
    {
      "cell_type": "markdown",
      "metadata": {},
      "source": [
        "We use :class:`nilearn.decoding.Decoder` to estimate a baseline.\n",
        "\n"
      ]
    },
    {
      "cell_type": "code",
      "execution_count": null,
      "metadata": {
        "collapsed": false
      },
      "outputs": [],
      "source": [
        "mask_names = [\"mask_vt\", \"mask_face\", \"mask_house\"]\n",
        "\n",
        "mask_scores = {}\n",
        "mask_chance_scores = {}\n",
        "\n",
        "for mask_name in mask_names:\n",
        "    print(f\"Working on {mask_name}\")\n",
        "    # For decoding, standardizing is often very important\n",
        "    mask_filename = haxby_dataset[mask_name][0]\n",
        "    masker = NiftiMasker(mask_img=mask_filename, standardize=\"zscore_sample\")\n",
        "    mask_scores[mask_name] = {}\n",
        "    mask_chance_scores[mask_name] = {}\n",
        "\n",
        "    for category in categories:\n",
        "        print(f\"Processing {mask_name} {category}\")\n",
        "        classification_target = stimuli[task_mask] == category\n",
        "        # Specify the classifier to the decoder object.\n",
        "        # With the decoder we can input the masker directly.\n",
        "        # We are using the svc_l1 here because it is intra subject.\n",
        "        decoder = Decoder(\n",
        "            estimator=\"svc_l1\",\n",
        "            cv=cv,\n",
        "            mask=masker,\n",
        "            scoring=\"roc_auc\",\n",
        "            standardize=\"zscore_sample\",\n",
        "        )\n",
        "        decoder.fit(task_data, classification_target, groups=run_labels)\n",
        "        mask_scores[mask_name][category] = decoder.cv_scores_[1]\n",
        "        mean = np.mean(mask_scores[mask_name][category])\n",
        "        std = np.std(mask_scores[mask_name][category])\n",
        "        print(f\"Scores: {mean:1.2f} +- {std:1.2f}\")\n",
        "\n",
        "        dummy_classifier = Decoder(\n",
        "            estimator=\"dummy_classifier\",\n",
        "            cv=cv,\n",
        "            mask=masker,\n",
        "            scoring=\"roc_auc\",\n",
        "            standardize=\"zscore_sample\",\n",
        "        )\n",
        "        dummy_classifier.fit(\n",
        "            task_data, classification_target, groups=run_labels\n",
        "        )\n",
        "        mask_chance_scores[mask_name][category] = dummy_classifier.cv_scores_[\n",
        "            1\n",
        "        ]"
      ]
    },
    {
      "cell_type": "markdown",
      "metadata": {},
      "source": [
        "## We make a simple bar plot to summarize the results\n",
        "\n"
      ]
    },
    {
      "cell_type": "code",
      "execution_count": null,
      "metadata": {
        "collapsed": false
      },
      "outputs": [],
      "source": [
        "import matplotlib.pyplot as plt\n",
        "\n",
        "plt.figure()\n",
        "\n",
        "tick_position = np.arange(len(categories))\n",
        "plt.xticks(tick_position, categories, rotation=45)\n",
        "\n",
        "for color, mask_name in zip(\"rgb\", mask_names):\n",
        "    score_means = [\n",
        "        np.mean(mask_scores[mask_name][category]) for category in categories\n",
        "    ]\n",
        "    plt.bar(\n",
        "        tick_position, score_means, label=mask_name, width=0.25, color=color\n",
        "    )\n",
        "\n",
        "    score_chance = [\n",
        "        np.mean(mask_chance_scores[mask_name][category])\n",
        "        for category in categories\n",
        "    ]\n",
        "    plt.bar(\n",
        "        tick_position,\n",
        "        score_chance,\n",
        "        width=0.25,\n",
        "        edgecolor=\"k\",\n",
        "        facecolor=\"none\",\n",
        "    )\n",
        "\n",
        "    tick_position = tick_position + 0.2\n",
        "\n",
        "plt.ylabel(\"Classification accuracy (AUC score)\")\n",
        "plt.xlabel(\"Visual stimuli category\")\n",
        "plt.ylim(0.3, 1)\n",
        "plt.legend(loc=\"lower right\")\n",
        "plt.title(\"Category-specific classification accuracy for different masks\")\n",
        "plt.tight_layout()\n",
        "\n",
        "show()"
      ]
    },
    {
      "cell_type": "markdown",
      "metadata": {},
      "source": [
        "## References\n",
        "\n",
        " .. footbibliography::\n",
        "\n"
      ]
    }
  ],
  "metadata": {
    "kernelspec": {
      "display_name": "Python 3",
      "language": "python",
      "name": "python3"
    },
    "language_info": {
      "codemirror_mode": {
        "name": "ipython",
        "version": 3
      },
      "file_extension": ".py",
      "mimetype": "text/x-python",
      "name": "python",
      "nbconvert_exporter": "python",
      "pygments_lexer": "ipython3",
      "version": "3.11.8"
    }
  },
  "nbformat": 4,
  "nbformat_minor": 0
}
