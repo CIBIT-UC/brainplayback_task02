{
 "cells": [
  {
   "attachments": {},
   "cell_type": "markdown",
   "id": "26574d7f-f5dc-4be6-9aa4-4ac34d67f17f",
   "metadata": {},
   "source": [
    "# Task02 Subject05\n",
    "Notebook to run the Brainplayback Task02 experiment for subject 05.\n",
    "\n",
    "To recreate the environment run\n",
    "`conda env create --name brainplayback --file environment.yml`"
   ]
  },
  {
   "cell_type": "code",
   "execution_count": 1,
   "id": "9b72c0a3-e36f-4501-8724-62cf50f61f2f",
   "metadata": {
    "tags": []
   },
   "outputs": [],
   "source": [
    "# Import requirements\n",
    "import spotipy\n",
    "import time\n",
    "import pandas\n",
    "import random\n",
    "import numpy\n",
    "import serial"
   ]
  },
  {
   "cell_type": "code",
   "execution_count": 2,
   "id": "b9ee45d4-8c51-47ea-b509-1c29cbcc07c9",
   "metadata": {
    "tags": []
   },
   "outputs": [],
   "source": [
    "# Import specific functions\n",
    "from lib import *"
   ]
  },
  {
   "cell_type": "code",
   "execution_count": 3,
   "id": "6dd1e4a7-d013-4f57-9756-541f9081a87d",
   "metadata": {
    "tags": []
   },
   "outputs": [],
   "source": [
    "# subject name/id\n",
    "subject_id = \"sub-05\""
   ]
  },
  {
   "cell_type": "code",
   "execution_count": 5,
   "id": "368cdbeb-78d6-4d82-8f1f-884197de4f3f",
   "metadata": {
    "tags": []
   },
   "outputs": [],
   "source": [
    "# Setup Spotipy\n",
    "scope = \"user-library-read,user-read-playback-state,user-modify-playback-state\"\n",
    "sp = spotipy.Spotify(\n",
    "    auth_manager=spotipy.oauth2.SpotifyOAuth(\n",
    "        scope=scope,\n",
    "        client_id=\"253a1345850d4a5c94995c1159d286e4\",\n",
    "        client_secret=\"9a03e1bcb8124eed9b661991e84bf477\",\n",
    "        redirect_uri=\"http://127.0.0.1:9090\",\n",
    "    ),\n",
    ")\n",
    "\n",
    "# choose deviceID (1st)\n",
    "res = sp.devices()\n",
    "devID = res[\"devices\"][0][\"id\"]"
   ]
  },
  {
   "cell_type": "code",
   "execution_count": null,
   "id": "f64e3bf7-16bd-4f48-9fc0-2865c90d1df7",
   "metadata": {
    "tags": []
   },
   "outputs": [],
   "source": [
    "# Setup COM Port - Trigger\n",
    "# serialPort = open_trigger_port()"
   ]
  },
  {
   "attachments": {},
   "cell_type": "markdown",
   "id": "c75db288-be97-40ae-bd90-08d83a25a573",
   "metadata": {},
   "source": [
    "## Import subject-specific selection of songs"
   ]
  },
  {
   "cell_type": "code",
   "execution_count": 6,
   "id": "c8b4a5c7-c015-4fe3-8bb4-5e65a3aaed73",
   "metadata": {
    "tags": []
   },
   "outputs": [],
   "source": [
    "# read file\n",
    "D = pandas.read_table(f\"../data/music_matrices/music_{subject_id}.tsv\", index_col=\"Emotion\")\n",
    "\n",
    "# extract list of emotions\n",
    "emotionList = D.index.values\n",
    "\n",
    "# Generate two new columns (start1MS and start2MS) in milliseconds for each song\n",
    "for emotion in emotionList:\n",
    "    D.loc[emotion, \"startMS1\"] = (int(D.start1[emotion][1:3]) * 60 + int(D.start1[emotion][4:6])) * 1000\n",
    "    D.loc[emotion, \"startMS2\"] = (int(D.start2[emotion][1:3]) * 60 + int(D.start2[emotion][4:6])) * 1000"
   ]
  },
  {
   "attachments": {},
   "cell_type": "markdown",
   "id": "4ebfc2c2-0a83-4d09-9abf-9af5569ddec0",
   "metadata": {},
   "source": [
    "## Version 0.2a - 2 songs coupled by emotion"
   ]
  },
  {
   "cell_type": "code",
   "execution_count": null,
   "id": "7a46dbe4-6543-44be-8ed8-b194060efc04",
   "metadata": {
    "tags": []
   },
   "outputs": [
    {
     "ename": "KeyboardInterrupt",
     "evalue": "",
     "output_type": "error",
     "traceback": [
      "\u001b[0;31m---------------------------------------------------------------------------\u001b[0m",
      "\u001b[0;31mKeyboardInterrupt\u001b[0m                         Traceback (most recent call last)",
      "Cell \u001b[0;32mIn[8], line 23\u001b[0m\n\u001b[1;32m     19\u001b[0m timestamp0 \u001b[38;5;241m=\u001b[39m time\u001b[38;5;241m.\u001b[39mtime()\n\u001b[1;32m     20\u001b[0m sp\u001b[38;5;241m.\u001b[39mstart_playback(\n\u001b[1;32m     21\u001b[0m     uris\u001b[38;5;241m=\u001b[39m[\u001b[38;5;124m\"\u001b[39m\u001b[38;5;124mspotify:track:04boE4u1AupbrGlI62WvoO\u001b[39m\u001b[38;5;124m\"\u001b[39m], position_ms\u001b[38;5;241m=\u001b[39m\u001b[38;5;241m1000\u001b[39m, device_id\u001b[38;5;241m=\u001b[39mdevID\n\u001b[1;32m     22\u001b[0m )  \u001b[38;5;66;03m# https://open.spotify.com/track/04boE4u1AupbrGlI62WvoO?si=79bf85b649c1484c\u001b[39;00m\n\u001b[0;32m---> 23\u001b[0m \u001b[43mwait_until\u001b[49m\u001b[43m(\u001b[49m\u001b[43mtimestamp0\u001b[49m\u001b[43m \u001b[49m\u001b[38;5;241;43m+\u001b[39;49m\u001b[43m \u001b[49m\u001b[38;5;241;43m12\u001b[39;49m\u001b[43m)\u001b[49m\n\u001b[1;32m     25\u001b[0m \u001b[38;5;66;03m# trial loop\u001b[39;00m\n\u001b[1;32m     26\u001b[0m \u001b[38;5;28;01mfor\u001b[39;00m emotion \u001b[38;5;129;01min\u001b[39;00m randomEmotionList:\n",
      "File \u001b[0;32m~/GitHub/brainplayback_task02/stimulus/lib.py:10\u001b[0m, in \u001b[0;36mwait_until\u001b[0;34m(timestamp)\u001b[0m\n\u001b[1;32m      6\u001b[0m \u001b[38;5;250m\u001b[39m\u001b[38;5;124;03m\"\"\"\u001b[39;00m\n\u001b[1;32m      7\u001b[0m \u001b[38;5;124;03mFunction to wait until a certain timestamp (in seconds).\u001b[39;00m\n\u001b[1;32m      8\u001b[0m \u001b[38;5;124;03m\"\"\"\u001b[39;00m\n\u001b[1;32m      9\u001b[0m \u001b[38;5;28;01mwhile\u001b[39;00m time\u001b[38;5;241m.\u001b[39mtime() \u001b[38;5;241m<\u001b[39m timestamp:\n\u001b[0;32m---> 10\u001b[0m     time\u001b[38;5;241m.\u001b[39msleep(\u001b[38;5;241m0.001\u001b[39m)\n",
      "\u001b[0;31mKeyboardInterrupt\u001b[0m: "
     ]
    }
   ],
   "source": [
    "run_id = \"task-02a_run-1\"\n",
    "\n",
    "# create a new list with the same elements as emotionList, but in a random order\n",
    "randomEmotionList = emotionList.copy()\n",
    "random.shuffle(randomEmotionList)\n",
    "\n",
    "# Initialize Dataframe to record timestamps\n",
    "timeMatrix = pandas.DataFrame(\n",
    "    columns=[\"emotion\", \"trackID\", \"timestamp0\", \"before_music_start\", \"after_music_start\", \"before_noise_start\", \"after_noise_start\"]\n",
    ")\n",
    "\n",
    "# set initial volume\n",
    "sp.volume(60, devID)\n",
    "\n",
    "# wait for trigger\n",
    "# wait_for_trigger(serialPort=serialPort, timeout=30)\n",
    "\n",
    "# first baseline\n",
    "timestamp0 = time.time()\n",
    "sp.start_playback(uris=[\"spotify:track:04boE4u1AupbrGlI62WvoO\"], position_ms=1000, device_id=devID)\n",
    "wait_until(timestamp0 + 12)\n",
    "\n",
    "# trial loop\n",
    "for emotion in randomEmotionList:\n",
    "    print(f\"Now playing: {emotion}\")\n",
    "\n",
    "    for i in range(1, 3):\n",
    "        song = D[f\"trackID{str(i)}\"][emotion]\n",
    "        start_time = D[f\"startMS{str(i)}\"][emotion].item()\n",
    "\n",
    "        print(f\"Now playing: {song} starting at {str(start_time)}\")\n",
    "\n",
    "        timestamp1 = time.time()\n",
    "\n",
    "        sp.start_playback(\n",
    "            uris=[f\"spotify:track:{song}\"],\n",
    "            position_ms=start_time,\n",
    "            device_id=devID,\n",
    "        )\n",
    "\n",
    "        timestamp2 = time.time()\n",
    "\n",
    "        fade_in(sp, devID, duration=2, steps=5, t1=timestamp1)\n",
    "\n",
    "        wait_until(timestamp1 + 22)\n",
    "\n",
    "        fade_out(sp, devID, duration=2, steps=5, t1=timestamp1 + 22)\n",
    "\n",
    "        timestamp3 = time.time()\n",
    "\n",
    "        sp.start_playback(\n",
    "            uris=[\"spotify:track:04boE4u1AupbrGlI62WvoO\"],\n",
    "            position_ms=1000,\n",
    "            device_id=devID,\n",
    "        )\n",
    "\n",
    "        timestamp4 = time.time()\n",
    "\n",
    "        row = pandas.Series([emotion, song, timestamp0, timestamp1, timestamp2, timestamp3, timestamp4], index=timeMatrix.columns)\n",
    "        timeMatrix = pandas.concat([timeMatrix, row.to_frame().T], ignore_index=True)\n",
    "\n",
    "        wait_until(timestamp3 + 6)\n",
    "\n",
    "    wait_until(timestamp3 + 6 + 12)\n",
    "\n",
    "sp.pause_playback()\n",
    "\n",
    "# save output\n",
    "\n",
    "# theoretical onsets\n",
    "theo_onset = numpy.array([12, 0, 0, 0, 0, 0, 0, 0, 0, 0, 0, 0, 0, 0, 0, 0, 0, 0])\n",
    "\n",
    "for i in range(1, 17, 2):\n",
    "    theo_onset[i] = theo_onset[i - 1] + 30\n",
    "    theo_onset[i + 1] = theo_onset[i] + 24 + 18\n",
    "theo_onset[17] = theo_onset[16] + 30\n",
    "\n",
    "# duplicate dataframe and calculate new colums\n",
    "timeMatrix2 = timeMatrix\n",
    "timeMatrix2[\"music_duration\"] = timeMatrix[\"after_noise_start\"] - timeMatrix[\"after_music_start\"]\n",
    "timeMatrix2[\"theo_music_onset\"] = pandas.Series(theo_onset, name=\"theo_music_onset\")\n",
    "timeMatrix2[\"true_music_onset\"] = timeMatrix[\"after_music_start\"] - timeMatrix[\"timestamp0\"]\n",
    "timeMatrix2[\"diff_onset\"] = timeMatrix2[\"true_music_onset\"] - timeMatrix2[\"theo_music_onset\"]\n",
    "timeMatrix2[\"true_noise_onset\"] = timeMatrix[\"after_noise_start\"] - timeMatrix[\"timestamp0\"]\n",
    "\n",
    "# Save\n",
    "timeMatrix2.to_csv(f\"output_{subject_id}_{run_id}.tsv\", sep=\"\\t\")\n",
    "print(\"Done!\")"
   ]
  },
  {
   "attachments": {},
   "cell_type": "markdown",
   "id": "1b379b27-dd19-4fa3-b508-717a2bcd6b93",
   "metadata": {},
   "source": [
    "## Close COM Port"
   ]
  },
  {
   "cell_type": "code",
   "execution_count": null,
   "id": "5557d40f-f395-4e6d-a343-7026d59c4f38",
   "metadata": {
    "tags": []
   },
   "outputs": [],
   "source": [
    "# Close trigger port\n",
    "# close_trigger_port(serialPort)"
   ]
  }
 ],
 "metadata": {
  "kernelspec": {
   "display_name": "brainplayback_task02",
   "language": "python",
   "name": "python3"
  },
  "language_info": {
   "codemirror_mode": {
    "name": "ipython",
    "version": 3
   },
   "file_extension": ".py",
   "mimetype": "text/x-python",
   "name": "python",
   "nbconvert_exporter": "python",
   "pygments_lexer": "ipython3",
   "version": "3.11.8"
  }
 },
 "nbformat": 4,
 "nbformat_minor": 5
}
