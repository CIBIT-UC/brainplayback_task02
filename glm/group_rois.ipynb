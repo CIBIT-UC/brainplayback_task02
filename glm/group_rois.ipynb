{
 "cells": [
  {
   "cell_type": "code",
   "execution_count": 1,
   "metadata": {},
   "outputs": [],
   "source": [
    "# Imports\n",
    "import os\n",
    "from nilearn.glm import threshold_stats_img\n",
    "from nilearn import plotting\n",
    "import matplotlib.pyplot as plt\n",
    "import numpy as np\n",
    "from nilearn.reporting import get_clusters_table\n",
    "from nilearn.image import math_img\n",
    "from mni_to_atlas import AtlasBrowser\n",
    "atlas = AtlasBrowser(\"AAL3\")"
   ]
  },
  {
   "cell_type": "code",
   "execution_count": 2,
   "metadata": {},
   "outputs": [],
   "source": [
    "# Settings\n",
    "#data_dir = '/SCRATCH/users/alexandresayal/BIDS-BRAINPLAYBACK-TASK2/'\n",
    "data_dir = '/Volumes/T7/BIDS-BRAINPLAYBACK-TASK2/'\n",
    "out_dir = os.path.join(data_dir,\"derivatives\",\"nilearn_glm\")\n",
    "out_dir_group = os.path.join(data_dir,\"derivatives\",\"nilearn_glm\",\"group\")\n",
    "group_fig_dir = os.path.join(data_dir,\"derivatives\",\"nilearn_glm\",\"group_figures\")\n",
    "group_tab_dir = os.path.join(data_dir,\"derivatives\",\"nilearn_glm\",\"group_tables\")\n",
    "group_roi_dir = os.path.join(data_dir,\"derivatives\",\"nilearn_glm\",\"group_rois\")"
   ]
  },
  {
   "cell_type": "code",
   "execution_count": 3,
   "metadata": {},
   "outputs": [],
   "source": [
    "contrasts_renamed = ['All',\n",
    "                     'JoyfulActivation', 'Nostalgia', 'Peacefulness', 'Power', 'Sadness', 'Tenderness', 'Tension', 'Transcendence', 'Wonder',\n",
    "                     'Sublimity', 'Vitality', 'Unease', 'SublimityMinusVitality', 'VitalityMinusUnease', 'UneaseMinusSublimity']"
   ]
  },
  {
   "cell_type": "code",
   "execution_count": 4,
   "metadata": {},
   "outputs": [],
   "source": [
    "# Threshold values\n",
    "hc = 'fdr' # None, 'bonferroni', 'fdr'\n",
    "ct = 25 # cluster threshold\n",
    "alpha = 0.005 # p-value threshold"
   ]
  },
  {
   "cell_type": "code",
   "execution_count": 5,
   "metadata": {},
   "outputs": [],
   "source": [
    "z_map_g = os.path.join(out_dir_group,\n",
    "                       f'group_task-02a_stat-z_con-All.nii.gz')\n",
    "\n",
    "clean_map_g, threshold_g = threshold_stats_img(\n",
    "    z_map_g, alpha=alpha, height_control=hc, cluster_threshold=ct\n",
    ")\n",
    "\n",
    "table_g,cluster_map_g = get_clusters_table(z_map_g, threshold_g, ct,\n",
    "                                return_label_maps=True)"
   ]
  },
  {
   "cell_type": "code",
   "execution_count": 6,
   "metadata": {},
   "outputs": [],
   "source": [
    "# find unique values in cluster_map_g[0]\n",
    "clust_ids = np.unique(cluster_map_g[0].get_fdata())"
   ]
  },
  {
   "cell_type": "code",
   "execution_count": 7,
   "metadata": {},
   "outputs": [],
   "source": [
    "# iterate over clusters\n",
    "for cc in range(1,len(clust_ids)):\n",
    "   aux_mask = math_img(f'img == {int(clust_ids[cc])}', img=cluster_map_g[0])\n",
    "\n",
    "   aux_mask.to_filename(os.path.join(group_roi_dir,f'mask_clusterid-{int(clust_ids[cc])}.nii.gz'))"
   ]
  }
 ],
 "metadata": {
  "kernelspec": {
   "display_name": "brainplayback_task02",
   "language": "python",
   "name": "python3"
  },
  "language_info": {
   "codemirror_mode": {
    "name": "ipython",
    "version": 3
   },
   "file_extension": ".py",
   "mimetype": "text/x-python",
   "name": "python",
   "nbconvert_exporter": "python",
   "pygments_lexer": "ipython3",
   "version": "3.11.8"
  }
 },
 "nbformat": 4,
 "nbformat_minor": 2
}
