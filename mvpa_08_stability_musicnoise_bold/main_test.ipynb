{
 "cells": [
  {
   "cell_type": "code",
   "execution_count": 1,
   "metadata": {},
   "outputs": [],
   "source": [
    "import os\n",
    "import nibabel as nb\n",
    "import numpy as np\n",
    "from functions import get_brain_mask, clean_func_image, edit_events_musicnoise_stability, extract_features_for_stab, estimate_stability"
   ]
  },
  {
   "cell_type": "code",
   "execution_count": 2,
   "metadata": {},
   "outputs": [],
   "source": [
    "data_root = '/Volumes/T7/BIDS-BRAINPLAYBACK-TASK2'\n",
    "fmriprep_dir = os.path.join(data_root, 'derivatives','fmriprep23')\n",
    "output_func_dir = os.path.join(data_root, 'derivatives', 'mvpa_04_musicnoise_bold', 'func_clean')\n",
    "output_feat_stab_dir = os.path.join(data_root, 'derivatives', 'mvpa_08_stability_musicnoise_bold', 'feat_stab')\n",
    "output_stab_dir = os.path.join(data_root, 'derivatives', 'mvpa_08_stability_musicnoise_bold', 'stab')"
   ]
  },
  {
   "cell_type": "code",
   "execution_count": 3,
   "metadata": {},
   "outputs": [],
   "source": [
    "subject_list = ['01', '02', '03', '04', '05', '06', '07', '08', '09', '10', '11', '12', '13', '14', '15', '16', '17']"
   ]
  },
  {
   "cell_type": "markdown",
   "metadata": {},
   "source": [
    "# Clean the images for a single participant"
   ]
  },
  {
   "cell_type": "code",
   "execution_count": 4,
   "metadata": {},
   "outputs": [
    {
     "name": "stdout",
     "output_type": "stream",
     "text": [
      "Loading brain mask...\n",
      "Brain mask loaded.\n"
     ]
    }
   ],
   "source": [
    "img_mask = get_brain_mask(data_root)"
   ]
  },
  {
   "cell_type": "code",
   "execution_count": 5,
   "metadata": {},
   "outputs": [
    {
     "name": "stdout",
     "output_type": "stream",
     "text": [
      "Functional image already cleaned for subject 01, run 1.\n",
      "Editing events for subject 01, run 1...\n",
      "Events edited for subject 01, run 1.\n",
      "Extracting features for sub 01 run 1...\n",
      "Done exporting features for subject 01 run 1.\n",
      "Functional image already cleaned for subject 01, run 2.\n",
      "Editing events for subject 01, run 2...\n",
      "Events edited for subject 01, run 2.\n",
      "Extracting features for sub 01 run 2...\n",
      "Done exporting features for subject 01 run 2.\n",
      "Functional image already cleaned for subject 01, run 3.\n",
      "Editing events for subject 01, run 3...\n",
      "Events edited for subject 01, run 3.\n",
      "Extracting features for sub 01 run 3...\n",
      "Done exporting features for subject 01 run 3.\n",
      "Functional image already cleaned for subject 01, run 4.\n",
      "Editing events for subject 01, run 4...\n",
      "Events edited for subject 01, run 4.\n",
      "Extracting features for sub 01 run 4...\n"
     ]
    }
   ],
   "source": [
    "for subject in subject_list:\n",
    "    for run in ['1','2','3','4']:\n",
    "        img_clean = clean_func_image(fmriprep_dir, output_func_dir, img_mask, subject, run, overwrite=False)\n",
    "        events_split = edit_events_musicnoise_stability(data_root, subject, run)\n",
    "        extract_features_for_stab(img_clean, events_split, output_feat_stab_dir, subject, run)"
   ]
  },
  {
   "cell_type": "code",
   "execution_count": null,
   "metadata": {},
   "outputs": [],
   "source": [
    "from concurrent.futures import ThreadPoolExecutor\n",
    "\n",
    "# Wrapper function to pass multiple arguments\n",
    "def wrapper(subject):\n",
    "    return estimate_stability(output_feat_stab_dir, output_stab_dir, subject)\n",
    "\n",
    "with ThreadPoolExecutor(max_workers=6) as executor:\n",
    "    results = list(executor.map(wrapper, subject_list))\n"
   ]
  }
 ],
 "metadata": {
  "kernelspec": {
   "display_name": "brainplayback_task02",
   "language": "python",
   "name": "python3"
  },
  "language_info": {
   "codemirror_mode": {
    "name": "ipython",
    "version": 3
   },
   "file_extension": ".py",
   "mimetype": "text/x-python",
   "name": "python",
   "nbconvert_exporter": "python",
   "pygments_lexer": "ipython3",
   "version": "3.11.8"
  }
 },
 "nbformat": 4,
 "nbformat_minor": 2
}
