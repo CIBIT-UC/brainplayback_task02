{
 "cells": [
  {
   "cell_type": "code",
   "execution_count": 9,
   "metadata": {},
   "outputs": [],
   "source": [
    "import os\n",
    "import numpy as np\n",
    "from nilearn import image, plotting\n",
    "import nibabel as nb\n",
    "from functions import edit_events_musicnoise, extract_samples, convert_samples_to_features, edit_events_full, edit_events_factors"
   ]
  },
  {
   "cell_type": "code",
   "execution_count": 10,
   "metadata": {},
   "outputs": [],
   "source": [
    "data_root = '/Volumes/T7/BIDS-BRAINPLAYBACK-TASK2'\n",
    "fmriprep_dir = os.path.join(data_root, 'derivatives','fmriprep23')\n",
    "func_dir = os.path.join(data_root, 'derivatives', 'mvpa_04_musicnoise_bold', 'func_clean')\n",
    "stab_mask_dir = os.path.join(data_root, 'derivatives', 'mvpa_09_stabilityperfold_bold', 'stab_full')\n",
    "#output_feat_musicnoise_dir = os.path.join(data_root, 'derivatives', 'mvpa_08_stability_musicnoise_bold', 'features_musicnoise_stab_full')\n",
    "#output_feat_factors_dir = os.path.join(data_root, 'derivatives', 'mvpa_08_stability_musicnoise_bold', 'features_factors_stab_full')\n",
    "output_feat_full_dir = os.path.join(data_root, 'derivatives', 'mvpa_09_stabilityperfold_bold', 'features_stab_full')"
   ]
  },
  {
   "cell_type": "code",
   "execution_count": 11,
   "metadata": {},
   "outputs": [],
   "source": [
    "subject = '02'"
   ]
  },
  {
   "cell_type": "code",
   "execution_count": 12,
   "metadata": {},
   "outputs": [
    {
     "name": "stdout",
     "output_type": "stream",
     "text": [
      "--------------------\n",
      "Fold 0...\n"
     ]
    },
    {
     "ename": "TypeError",
     "evalue": "(\"Input images cannot be compared, you provided 'dict_values([<nibabel.nifti1.Nifti1Image object at 0x31e11ebd0>, 0.15])',\", 'Data given cannot be loaded because it is not compatible with nibabel format:\\n0.15')",
     "output_type": "error",
     "traceback": [
      "\u001b[0;31m---------------------------------------------------------------------------\u001b[0m",
      "\u001b[0;31mTypeError\u001b[0m                                 Traceback (most recent call last)",
      "Cell \u001b[0;32mIn[12], line 18\u001b[0m\n\u001b[1;32m     16\u001b[0m \u001b[38;5;66;03m# threshold the stability map\u001b[39;00m\n\u001b[1;32m     17\u001b[0m thres \u001b[38;5;241m=\u001b[39m \u001b[38;5;241m0.15\u001b[39m\n\u001b[0;32m---> 18\u001b[0m stab_mask_img_thres \u001b[38;5;241m=\u001b[39m \u001b[43mimage\u001b[49m\u001b[38;5;241;43m.\u001b[39;49m\u001b[43mmath_img\u001b[49m\u001b[43m(\u001b[49m\u001b[38;5;124;43m\"\u001b[39;49m\u001b[38;5;124;43mimg > thres\u001b[39;49m\u001b[38;5;124;43m\"\u001b[39;49m\u001b[43m,\u001b[49m\u001b[43m \u001b[49m\u001b[43mimg\u001b[49m\u001b[38;5;241;43m=\u001b[39;49m\u001b[43mstab_mask_img\u001b[49m\u001b[43m,\u001b[49m\u001b[43m \u001b[49m\u001b[43mthres\u001b[49m\u001b[38;5;241;43m=\u001b[39;49m\u001b[43mthres\u001b[49m\u001b[43m)\u001b[49m\n\u001b[1;32m     19\u001b[0m \u001b[38;5;66;03m#stab_mask_img_thres = image.threshold_img(stab_mask_img, threshold=thres)\u001b[39;00m\n\u001b[1;32m     20\u001b[0m stab_mask_img_thres_bin \u001b[38;5;241m=\u001b[39m image\u001b[38;5;241m.\u001b[39mbinarize_img(stab_mask_img_thres)\n",
      "File \u001b[0;32m/opt/anaconda3/envs/brainplayback_task02/lib/python3.11/site-packages/nilearn/image/image.py:1129\u001b[0m, in \u001b[0;36mmath_img\u001b[0;34m(formula, copy_header_from, **imgs)\u001b[0m\n\u001b[1;32m   1057\u001b[0m \u001b[38;5;250m\u001b[39m\u001b[38;5;124;03m\"\"\"Interpret a numpy based string formula using niimg in named parameters.\u001b[39;00m\n\u001b[1;32m   1058\u001b[0m \n\u001b[1;32m   1059\u001b[0m \u001b[38;5;124;03m.. versionadded:: 0.2.3\u001b[39;00m\n\u001b[0;32m   (...)\u001b[0m\n\u001b[1;32m   1126\u001b[0m \n\u001b[1;32m   1127\u001b[0m \u001b[38;5;124;03m\"\"\"\u001b[39;00m\n\u001b[1;32m   1128\u001b[0m \u001b[38;5;28;01mtry\u001b[39;00m:\n\u001b[0;32m-> 1129\u001b[0m     niimgs \u001b[38;5;241m=\u001b[39m \u001b[43m[\u001b[49m\u001b[43mcheck_niimg\u001b[49m\u001b[43m(\u001b[49m\u001b[43mimage\u001b[49m\u001b[43m)\u001b[49m\u001b[43m \u001b[49m\u001b[38;5;28;43;01mfor\u001b[39;49;00m\u001b[43m \u001b[49m\u001b[43mimage\u001b[49m\u001b[43m \u001b[49m\u001b[38;5;129;43;01min\u001b[39;49;00m\u001b[43m \u001b[49m\u001b[43mimgs\u001b[49m\u001b[38;5;241;43m.\u001b[39;49m\u001b[43mvalues\u001b[49m\u001b[43m(\u001b[49m\u001b[43m)\u001b[49m\u001b[43m]\u001b[49m\n\u001b[1;32m   1130\u001b[0m     check_same_fov(\u001b[38;5;241m*\u001b[39mniimgs, raise_error\u001b[38;5;241m=\u001b[39m\u001b[38;5;28;01mTrue\u001b[39;00m)\n\u001b[1;32m   1131\u001b[0m \u001b[38;5;28;01mexcept\u001b[39;00m \u001b[38;5;167;01mException\u001b[39;00m \u001b[38;5;28;01mas\u001b[39;00m exc:\n",
      "File \u001b[0;32m/opt/anaconda3/envs/brainplayback_task02/lib/python3.11/site-packages/nilearn/image/image.py:1129\u001b[0m, in \u001b[0;36m<listcomp>\u001b[0;34m(.0)\u001b[0m\n\u001b[1;32m   1057\u001b[0m \u001b[38;5;250m\u001b[39m\u001b[38;5;124;03m\"\"\"Interpret a numpy based string formula using niimg in named parameters.\u001b[39;00m\n\u001b[1;32m   1058\u001b[0m \n\u001b[1;32m   1059\u001b[0m \u001b[38;5;124;03m.. versionadded:: 0.2.3\u001b[39;00m\n\u001b[0;32m   (...)\u001b[0m\n\u001b[1;32m   1126\u001b[0m \n\u001b[1;32m   1127\u001b[0m \u001b[38;5;124;03m\"\"\"\u001b[39;00m\n\u001b[1;32m   1128\u001b[0m \u001b[38;5;28;01mtry\u001b[39;00m:\n\u001b[0;32m-> 1129\u001b[0m     niimgs \u001b[38;5;241m=\u001b[39m [\u001b[43mcheck_niimg\u001b[49m\u001b[43m(\u001b[49m\u001b[43mimage\u001b[49m\u001b[43m)\u001b[49m \u001b[38;5;28;01mfor\u001b[39;00m image \u001b[38;5;129;01min\u001b[39;00m imgs\u001b[38;5;241m.\u001b[39mvalues()]\n\u001b[1;32m   1130\u001b[0m     check_same_fov(\u001b[38;5;241m*\u001b[39mniimgs, raise_error\u001b[38;5;241m=\u001b[39m\u001b[38;5;28;01mTrue\u001b[39;00m)\n\u001b[1;32m   1131\u001b[0m \u001b[38;5;28;01mexcept\u001b[39;00m \u001b[38;5;167;01mException\u001b[39;00m \u001b[38;5;28;01mas\u001b[39;00m exc:\n",
      "File \u001b[0;32m/opt/anaconda3/envs/brainplayback_task02/lib/python3.11/site-packages/nilearn/_utils/niimg_conversions.py:319\u001b[0m, in \u001b[0;36mcheck_niimg\u001b[0;34m(niimg, ensure_ndim, atleast_4d, dtype, return_iterator, wildcards)\u001b[0m\n\u001b[1;32m    314\u001b[0m     \u001b[38;5;28;01mreturn\u001b[39;00m ni\u001b[38;5;241m.\u001b[39mimage\u001b[38;5;241m.\u001b[39mconcat_imgs(\n\u001b[1;32m    315\u001b[0m         niimg, ensure_ndim\u001b[38;5;241m=\u001b[39mensure_ndim, dtype\u001b[38;5;241m=\u001b[39mdtype\n\u001b[1;32m    316\u001b[0m     )\n\u001b[1;32m    318\u001b[0m \u001b[38;5;66;03m# Otherwise, it should be a filename or a SpatialImage, we load it\u001b[39;00m\n\u001b[0;32m--> 319\u001b[0m niimg \u001b[38;5;241m=\u001b[39m \u001b[43mload_niimg\u001b[49m\u001b[43m(\u001b[49m\u001b[43mniimg\u001b[49m\u001b[43m,\u001b[49m\u001b[43m \u001b[49m\u001b[43mdtype\u001b[49m\u001b[38;5;241;43m=\u001b[39;49m\u001b[43mdtype\u001b[49m\u001b[43m)\u001b[49m\n\u001b[1;32m    321\u001b[0m \u001b[38;5;28;01mif\u001b[39;00m ensure_ndim \u001b[38;5;241m==\u001b[39m \u001b[38;5;241m3\u001b[39m \u001b[38;5;129;01mand\u001b[39;00m \u001b[38;5;28mlen\u001b[39m(niimg\u001b[38;5;241m.\u001b[39mshape) \u001b[38;5;241m==\u001b[39m \u001b[38;5;241m4\u001b[39m \u001b[38;5;129;01mand\u001b[39;00m niimg\u001b[38;5;241m.\u001b[39mshape[\u001b[38;5;241m3\u001b[39m] \u001b[38;5;241m==\u001b[39m \u001b[38;5;241m1\u001b[39m:\n\u001b[1;32m    322\u001b[0m     \u001b[38;5;66;03m# \"squeeze\" the image.\u001b[39;00m\n\u001b[1;32m    323\u001b[0m     data \u001b[38;5;241m=\u001b[39m safe_get_data(niimg)\n",
      "File \u001b[0;32m/opt/anaconda3/envs/brainplayback_task02/lib/python3.11/site-packages/nilearn/_utils/niimg.py:129\u001b[0m, in \u001b[0;36mload_niimg\u001b[0;34m(niimg, dtype)\u001b[0m\n\u001b[1;32m    127\u001b[0m     niimg \u001b[38;5;241m=\u001b[39m nibabel\u001b[38;5;241m.\u001b[39mload(niimg)\n\u001b[1;32m    128\u001b[0m \u001b[38;5;28;01melif\u001b[39;00m \u001b[38;5;129;01mnot\u001b[39;00m \u001b[38;5;28misinstance\u001b[39m(niimg, nibabel\u001b[38;5;241m.\u001b[39mspatialimages\u001b[38;5;241m.\u001b[39mSpatialImage):\n\u001b[0;32m--> 129\u001b[0m     \u001b[38;5;28;01mraise\u001b[39;00m \u001b[38;5;167;01mTypeError\u001b[39;00m(\n\u001b[1;32m    130\u001b[0m         \u001b[38;5;124m\"\u001b[39m\u001b[38;5;124mData given cannot be loaded because it is\u001b[39m\u001b[38;5;124m\"\u001b[39m\n\u001b[1;32m    131\u001b[0m         \u001b[38;5;124m\"\u001b[39m\u001b[38;5;124m not compatible with nibabel format:\u001b[39m\u001b[38;5;130;01m\\n\u001b[39;00m\u001b[38;5;124m\"\u001b[39m\n\u001b[1;32m    132\u001b[0m         \u001b[38;5;241m+\u001b[39m _repr_niimgs(niimg, shorten\u001b[38;5;241m=\u001b[39m\u001b[38;5;28;01mTrue\u001b[39;00m)\n\u001b[1;32m    133\u001b[0m     )\n\u001b[1;32m    135\u001b[0m dtype \u001b[38;5;241m=\u001b[39m _get_target_dtype(_get_data(niimg)\u001b[38;5;241m.\u001b[39mdtype, dtype)\n\u001b[1;32m    137\u001b[0m \u001b[38;5;28;01mif\u001b[39;00m dtype \u001b[38;5;129;01mis\u001b[39;00m \u001b[38;5;129;01mnot\u001b[39;00m \u001b[38;5;28;01mNone\u001b[39;00m:\n\u001b[1;32m    138\u001b[0m     \u001b[38;5;66;03m# Copyheader and set dtype in header if header exists\u001b[39;00m\n",
      "\u001b[0;31mTypeError\u001b[0m: (\"Input images cannot be compared, you provided 'dict_values([<nibabel.nifti1.Nifti1Image object at 0x31e11ebd0>, 0.15])',\", 'Data given cannot be loaded because it is not compatible with nibabel format:\\n0.15')"
     ]
    }
   ],
   "source": [
    "n_folds = 4\n",
    "if subject == '18': n_folds = 3\n",
    "\n",
    "example_func = nb.load(os.path.join(func_dir,f'sub-{subject}_ses-01_task-02a_run-1_cleaned.nii.gz'))\n",
    "\n",
    "for ff in range(n_folds):\n",
    "\n",
    "    print('--'*10)\n",
    "    print(f'Fold {ff}...')\n",
    "\n",
    "    stab_mask_data = np.load(os.path.join(stab_mask_dir, f'sub-{subject}_STAB_fold_{ff}.npy'))\n",
    "\n",
    "    # generate image\n",
    "    stab_mask_img = nb.Nifti1Image(stab_mask_data, example_func.affine, example_func.header)\n",
    "\n",
    "    # threshold the stability map\n",
    "    thres = 0.15\n",
    "    stab_mask_img_thres = image.math_img(\"img > thres\", img=stab_mask_img, thres=thres)\n",
    "    #stab_mask_img_thres = image.threshold_img(stab_mask_img, threshold=thres)\n",
    "    stab_mask_img_thres_bin = image.binarize_img(stab_mask_img_thres)\n",
    "\n",
    "    runList = ['1','2','3','4']\n",
    "    if subject == '18': runList = ['1','3','4']\n",
    "\n",
    "    for run in runList:    \n",
    "        img_clean = nb.load(os.path.join(func_dir, f'sub-{subject}_ses-01_task-02a_run-{run}_cleaned.nii.gz'))\n",
    "        samples = extract_samples(img_clean, stab_mask_img_thres_bin, subject, run)\n",
    "\n",
    "        events_split_2 = edit_events_full(data_root, subject, run)\n",
    "        convert_samples_to_features(samples, output_feat_full_dir, events_split_2, subject, run, ff)\n"
   ]
  }
 ],
 "metadata": {
  "kernelspec": {
   "display_name": "brainplayback_task02",
   "language": "python",
   "name": "python3"
  },
  "language_info": {
   "codemirror_mode": {
    "name": "ipython",
    "version": 3
   },
   "file_extension": ".py",
   "mimetype": "text/x-python",
   "name": "python",
   "nbconvert_exporter": "python",
   "pygments_lexer": "ipython3",
   "version": "3.11.8"
  }
 },
 "nbformat": 4,
 "nbformat_minor": 2
}
