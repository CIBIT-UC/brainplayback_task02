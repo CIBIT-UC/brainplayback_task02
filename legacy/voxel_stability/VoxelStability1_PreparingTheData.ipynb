{
 "cells": [
  {
   "cell_type": "code",
   "execution_count": 1,
   "id": "2458f568",
   "metadata": {
    "scrolled": true
   },
   "outputs": [
    {
     "name": "stderr",
     "output_type": "stream",
     "text": [
      "c:\\Users\\anaga\\anaconda3\\lib\\site-packages\\nilearn\\input_data\\__init__.py:23: FutureWarning: The import path 'nilearn.input_data' is deprecated in version 0.9. Importing from 'nilearn.input_data' will be possible at least until release 0.13.0. Please import from 'nilearn.maskers' instead.\n",
      "  warnings.warn(message, FutureWarning)\n"
     ]
    }
   ],
   "source": [
    "import os\n",
    "import pandas as pd\n",
    "import numpy as np\n",
    "\n",
    "import nibabel as nib\n",
    "from nilearn.image import clean_img,concat_imgs,math_img\n",
    "from nilearn.plotting import plot_roi\n",
    "from nilearn.input_data import NiftiMasker\n",
    "\n",
    "from src.remove_vols import remove_specificvols\n",
    "from src.mean_xvolumes import mean_xvolumes\n",
    "from src.data_balancing import data_balancing\n",
    "from src.MinMaxScaler_nifti import MinMaxScaler_nifti\n",
    "from itertools import combinations\n",
    "\n",
    "import warnings\n",
    "\n",
    "warnings.filterwarnings(\"ignore\")"
   ]
  },
  {
   "cell_type": "code",
   "execution_count": 8,
   "id": "2fba853d",
   "metadata": {},
   "outputs": [],
   "source": [
    "# Diretory where the events and image files are located\n",
    "ROOT_DATA=r'D:\\fmriprep'\n",
    "RESULTS_DIR = r'C:\\Users\\anaga\\OneDrive\\Universidade\\5º ano\\Tese\\results'\n",
    "\n",
    "#Set variables\n",
    "SES='ses-01'\n",
    "TASK = 'task-01'\n",
    "TR = 1\n",
    "\n",
    "SUB='sub-01'\n",
    "labels_type ='predef' #'predef' (predefined labels) or 'ptcps' (participant's labels)\n"
   ]
  },
  {
   "cell_type": "code",
   "execution_count": 9,
   "id": "249b927b",
   "metadata": {},
   "outputs": [
    {
     "name": "stdout",
     "output_type": "stream",
     "text": [
      "The data is in this folder - D:\\fmriprep\\sub-01\\ses-01\n"
     ]
    }
   ],
   "source": [
    "# Data folder of each participant\n",
    "data_path=os.path.join(ROOT_DATA, SUB, SES)\n",
    "print('The data is in this folder - ' + data_path)\n",
    "\n",
    "\n",
    "if labels_type == 'ptcps':\n",
    "\n",
    "    #Data path to save the results\n",
    "    results_path = os.path.join(RESULTS_DIR,'voxel_stability','participant_labels')\n",
    "\n",
    "    #Diretory with the events files\n",
    "    events_path = os.path.join(ROOT_DATA,'task-01permusicparticipant_run-1_events')\n",
    "\n",
    "elif labels_type == 'predef':\n",
    "    \n",
    "    #Data path to save the results\n",
    "    results_path = os.path.join(RESULTS_DIR,'voxel_stability','predefined_labels')\n",
    "\n",
    "    #Diretory with the events files\n",
    "    events_path = os.path.join(ROOT_DATA,'task-01permusicpredefined_run_events')\n"
   ]
  },
  {
   "cell_type": "code",
   "execution_count": 10,
   "id": "2bc0e6f6",
   "metadata": {},
   "outputs": [],
   "source": [
    "# Pasta com os resultados de cada participante\n",
    "SUB_results_path = os.path.join(results_path, SUB)\n",
    "\n",
    "try:\n",
    "    # Cria a pasta\n",
    "    os.makedirs(SUB_results_path)\n",
    "except FileExistsError:\n",
    "    # Se a pasta já existir não acontece nada\n",
    "    pass\n"
   ]
  },
  {
   "attachments": {},
   "cell_type": "markdown",
   "id": "d3d0fe82",
   "metadata": {},
   "source": [
    "## Prepare data"
   ]
  },
  {
   "attachments": {},
   "cell_type": "markdown",
   "id": "017640c2",
   "metadata": {},
   "source": [
    "### Apply whole brain mask "
   ]
  },
  {
   "cell_type": "code",
   "execution_count": 12,
   "id": "17115914",
   "metadata": {},
   "outputs": [
    {
     "name": "stdout",
     "output_type": "stream",
     "text": [
      "Now computing  sub-01_ses-01_task-01_run-1\n",
      "Functional image shape:  (97, 115, 97, 600)\n",
      "Brain mask image shape:  (97, 115, 97)\n",
      "masked_image_data.shape:  (600, 268016)\n",
      "masked_image.shape:  (97, 115, 97, 600)\n",
      "Saving masked image of  run-1\n"
     ]
    }
   ],
   "source": [
    "runs = [1,2,3,4]\n",
    "for run in runs:\n",
    "    RUN = 'run-'+str(run)\n",
    "\n",
    "    file_name_format = SUB + '_' + SES + '_' + TASK + '_'+ RUN \n",
    "    print('Now computing ',file_name_format)\n",
    "    \n",
    "\n",
    "    # Load of preprocessed function image\n",
    "    func_img_fn =os.path.join(data_path, 'func',file_name_format + '_space-MNI152NLin2009cAsym_desc-preproc_bold.nii.gz')\n",
    "    preprocessed_img = nib.load(func_img_fn)\n",
    "    print('Functional image shape: ',preprocessed_img.shape)\n",
    "\n",
    "    # Load of fmriprep whole-brain mask\n",
    "    brain_mask_fn =os.path.join(data_path, 'func',file_name_format + '_space-MNI152NLin2009cAsym_desc-brain_mask.nii.gz')\n",
    "    brain_mask = nib.load(brain_mask_fn)\n",
    "    print('Brain mask image shape: ',brain_mask.shape)\n",
    "\n",
    "    # Apply the mask to the functional image-> data matrix with (n_vols, n_voxels)\n",
    "    nifti_masker = NiftiMasker(mask_img = brain_mask)\n",
    "    masked_image_data = nifti_masker.fit_transform(preprocessed_img)\n",
    "    print('masked_image_data.shape: ',masked_image_data.shape)\n",
    "\n",
    "    # 4D Nifti image with the mask \n",
    "    masked_img = nifti_masker.inverse_transform(masked_image_data)\n",
    "    print('masked_image.shape: ',masked_img.shape)\n",
    "\n",
    "    # Save the masked image of each run\n",
    "    print('Saving masked image of ',RUN)\n",
    "    masked_img_fn = file_name_format + '_masked_fmri_img.nii.gz'\n",
    "    nib.save(masked_img, f'{SUB_results_path}/{masked_img_fn}')"
   ]
  },
  {
   "attachments": {},
   "cell_type": "markdown",
   "id": "5ed861f5",
   "metadata": {},
   "source": [
    "### 1) Remove baseline volumes from the functional image and from the events df"
   ]
  },
  {
   "cell_type": "code",
   "execution_count": 13,
   "id": "8fd3ce6e",
   "metadata": {},
   "outputs": [
    {
     "name": "stdout",
     "output_type": "stream",
     "text": [
      "Now computing  sub-01_ses-01_task-01_run-1\n",
      "Normalising image...\n",
      "Removing baseline volumes...\n",
      "Functional image without baseline volumes shape:  (97, 115, 97, 384)\n"
     ]
    }
   ],
   "source": [
    "runs = [1,2,3,4]\n",
    "\n",
    "for run in runs:\n",
    "    RUN = 'run-'+str(run)\n",
    "\n",
    "    file_name_format = SUB + '_' + SES + '_' + TASK + '_'+ RUN \n",
    "    print('Now computing ',file_name_format)\n",
    "    \n",
    "    #Load of masked functional image (4D)\n",
    "    masked_img_fn = os.path.join(results_path,SUB,file_name_format + '_masked_fmri_img.nii.gz')\n",
    "    masked_img = nib.load(masked_img_fn)\n",
    "\n",
    "    if labels_type == 'ptcps':    \n",
    "      #Load of events dataframe with participant's labels\n",
    "      events_df_fn=os.path.join(events_path, SUB+'_'+SES+'_'+TASK+'permusicparticipant_'+RUN+'_events.tsv')\n",
    "      events_df=pd.read_csv(events_df_fn, sep='\\t')\n",
    "\n",
    "    elif labels_type == 'predef':\n",
    "      #Load of events dataframe with predefined labels\n",
    "      events_df_fn=os.path.join(events_path, SUB+'_'+SES+'_'+TASK+'permusic'+'_'+RUN+'_events.tsv')\n",
    "      events_df=pd.read_csv(events_df_fn, sep='\\t')\n",
    "    \n",
    "    # Load of movement confounds\n",
    "   # movement_fp = os.path.join(data_path, 'func','rp_'+ file_name_format +'_bold.txt')\n",
    "    #mov_param = np.loadtxt(movement_fp) \n",
    "\n",
    "    # Converter o ficheiro de texto para uma dataframe\n",
    "    #mov_param_df = pd.DataFrame(mov_param, columns = ['tx','ty','tz','rx','ry','rz'])\n",
    "\n",
    "    #Normalize image - z-score\n",
    "    print('Normalising image...')\n",
    "    #normalized_img = clean_img(masked_img, standardize='zscore', confounds=mov_param_df)\n",
    "    normalized_img = clean_img(masked_img, standardize='zscore')\n",
    "\n",
    "\n",
    "    #Remover volumes baseline da imagem funcional e da dataframe de eventos\n",
    "    print('Removing baseline volumes...')\n",
    "    fmri_img_nobaseline,events_nobaseline = remove_specificvols(normalized_img,events_df,'Baseline')\n",
    "    print('Functional image without baseline volumes shape: ',fmri_img_nobaseline.shape)\n",
    "\n",
    "    events_nobaseline = round(events_nobaseline)\n",
    "    events_nobaseline = events_nobaseline.astype({'onset': int, 'duration': int})\n",
    "    events_nobaseline['Run'] = RUN\n",
    "\n",
    "    #Save image without baseline volumes of each run\n",
    "    fmri_img_nobaseline_fn = file_name_format+'_nobaseline_fmri_VS.nii.gz'\n",
    "    #nib.save(fmri_img_nobaseline, f'{SUB_results_path}/{fmri_img_nobaseline_fn}')\n",
    "\n",
    "    #Save events dataframe without baseline volumes of each run\n",
    "    events_nobaseline_fn = os.path.join(SUB_results_path,file_name_format+'_events_nobaseline_VS.csv')\n",
    "    #events_nobaseline.to_csv(events_nobaseline_fn,sep=';')\n",
    "\n",
    "    \n",
    "\n"
   ]
  },
  {
   "cell_type": "code",
   "execution_count": 14,
   "id": "f3e23693",
   "metadata": {},
   "outputs": [],
   "source": [
    "#Save image without baseline volumes of each run\n",
    "fmri_img_nobaseline_fn = file_name_format+'_nobaseline_fmri_VS.nii.gz'\n",
    "nib.save(fmri_img_nobaseline, f'{SUB_results_path}/{fmri_img_nobaseline_fn}')\n",
    "\n",
    "#Save events dataframe without baseline volumes of each run\n",
    "events_nobaseline_fn = os.path.join(SUB_results_path,file_name_format+'_events_nobaseline_VS.csv')\n",
    "events_nobaseline.to_csv(events_nobaseline_fn,sep=';')"
   ]
  },
  {
   "attachments": {},
   "cell_type": "markdown",
   "id": "bb08a529",
   "metadata": {},
   "source": [
    "### 2) Fazer a média dos volumes noise e dos quadrantes a partir do 6º até ao ultimo"
   ]
  },
  {
   "cell_type": "code",
   "execution_count": 15,
   "id": "687d0973",
   "metadata": {},
   "outputs": [
    {
     "name": "stdout",
     "output_type": "stream",
     "text": [
      "Now computing  sub-01_ses-01_task-01_run-1\n",
      "Computing the mean volumes of each condition...\n",
      "Length idxs_tokeep_list:  32\n"
     ]
    }
   ],
   "source": [
    "runs = [1,2,3,4]\n",
    "for run in runs:\n",
    "    RUN = 'run-'+str(run)\n",
    "\n",
    "    file_name_format = SUB + '_' + SES + '_' + TASK + '_'+ RUN \n",
    "    print('Now computing ',file_name_format)\n",
    "    \n",
    "    #Load of func image without baseline volumes of each run\n",
    "    fmri_img_nobaseline_fn =  os.path.join(SUB_results_path,file_name_format+'_nobaseline_fmri_VS.nii.gz')\n",
    "    fmri_img_nobaseline = nib.load(fmri_img_nobaseline_fn)\n",
    "    \n",
    "    #Load of events dataframe without baseline volumes of each run\n",
    "    events_nobaseline_fn = os.path.join(SUB_results_path,file_name_format+'_events_nobaseline_VS.csv')\n",
    "    events_nobaseline = pd.read_csv(events_nobaseline_fn,sep=';',index_col=0)\n",
    "    \n",
    "    # Compute the mean volumes of each condition from the 6th volume to the last\n",
    "    print('Computing the mean volumes of each condition...')\n",
    "    fmri_img_meanvols = mean_xvolumes(events_nobaseline, fmri_img_nobaseline)\n",
    "\n",
    "    #Guardar a imagem com as médias dos últimos volumes de cada trial type de cada run\n",
    "    fmri_img_meanvols_fn = file_name_format+'_meanvols_fmri_VS.nii.gz'\n",
    "    nib.save(fmri_img_meanvols, f'{SUB_results_path}/{fmri_img_meanvols_fn}')"
   ]
  },
  {
   "attachments": {},
   "cell_type": "markdown",
   "id": "cd7b26ae",
   "metadata": {},
   "source": [
    "### 3) Juntar todas as runs numa só imagem e dataframe"
   ]
  },
  {
   "cell_type": "code",
   "execution_count": null,
   "id": "29a7d9e9",
   "metadata": {},
   "outputs": [],
   "source": [
    "#Inicialize the lists to join  all runs\n",
    "imgs_runs_list = []\n",
    "events_runs_list = []\n",
    "\n",
    "for run in runs:\n",
    "    RUN = 'run-'+str(run)\n",
    "\n",
    "    file_name_format = SUB + '_' + SES + '_' + TASK + '_'+ RUN \n",
    "    print('Now computing ',file_name_format)\n",
    "\n",
    "    #Load of events dataframe without baseline volumes of each run\n",
    "    events_nobaseline_fn = os.path.join(SUB_results_path,file_name_format+'_events_nobaseline_VS.csv')\n",
    "    events_nobaseline = pd.read_csv(events_nobaseline_fn,sep=';',index_col=0)\n",
    "\n",
    "    #Load of func image with the mean volumes of each condition of each run\n",
    "    fmri_img_meanvols_fn = os.path.join(SUB_results_path,file_name_format+'_meanvols_fmri_VS.nii.gz')\n",
    "    fmri_img_meanvols = nib.load(fmri_img_meanvols_fn)\n",
    "\n",
    "    #Append each run image and events dataframe to a list\n",
    "    imgs_runs_list.append(fmri_img_meanvols)\n",
    "    events_runs_list.append(events_nobaseline)\n",
    "\n",
    "\n",
    "print('Concatenating the images of all runs...')\n",
    "imgs_all_runs = concat_imgs(imgs_runs_list)\n",
    "print('imgs_all_runs.shape: ',imgs_all_runs.shape)\n",
    "\n",
    "print('Concatenating the events df of all runs...')\n",
    "events_all_runs = pd.concat(events_runs_list,ignore_index=True)\n",
    "print('events_all_runs.shape: ',events_all_runs.shape)"
   ]
  },
  {
   "cell_type": "code",
   "execution_count": null,
   "id": "b3157006",
   "metadata": {},
   "outputs": [],
   "source": [
    "## Save results ##\n",
    "imgs_all_runs_fn = SUB + '_' + SES + '_' + TASK +'_allruns_VS.nii.gz'\n",
    "nib.save(imgs_all_runs, f'{SUB_results_path}/{imgs_all_runs_fn}')\n",
    "\n",
    "# Save dataframe with labels of all runs of each participant\n",
    "events_all_runs_fn = os.path.join(SUB_results_path,SUB + '_' + SES + '_' + TASK + '_events_all_runs_VS.csv')\n",
    "events_all_runs.to_csv(events_all_runs_fn,sep=';')\n"
   ]
  }
 ],
 "metadata": {
  "kernelspec": {
   "display_name": "Python 3 (ipykernel)",
   "language": "python",
   "name": "python3"
  },
  "language_info": {
   "codemirror_mode": {
    "name": "ipython",
    "version": 3
   },
   "file_extension": ".py",
   "mimetype": "text/x-python",
   "name": "python",
   "nbconvert_exporter": "python",
   "pygments_lexer": "ipython3",
   "version": "3.9.12"
  }
 },
 "nbformat": 4,
 "nbformat_minor": 5
}
