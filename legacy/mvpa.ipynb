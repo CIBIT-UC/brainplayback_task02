{
 "cells": [
  {
   "cell_type": "markdown",
   "metadata": {},
   "source": [
    "# MVPA\n",
    "based on https://peerherholz.github.io/workshop_weizmann/advanced/machine_learning_nilearn.html"
   ]
  },
  {
   "cell_type": "markdown",
   "metadata": {},
   "source": []
  },
  {
   "cell_type": "code",
   "execution_count": 1,
   "metadata": {},
   "outputs": [],
   "source": [
    "from nilearn import plotting\n",
    "import numpy as np\n",
    "import nibabel as nb\n",
    "import nibabel.processing as nbp\n",
    "from nilearn.image import resample_to_img\n",
    "import os"
   ]
  },
  {
   "cell_type": "code",
   "execution_count": 2,
   "metadata": {},
   "outputs": [],
   "source": [
    "# define paths\n",
    "root_dir = '/users3/uccibit/alexsayal/BIDS-BRAINPLAYBACK-TASK2'\n",
    "fmriprep_dir = os.path.join(root_dir, 'derivatives/fmriprep23')\n",
    "#dataset_dir = os.path.join(root_dir, 'derivatives/mvpa_extracted_data')\n",
    "dataset_dir = os.path.join(root_dir, 'derivatives/mvpa_ls_a_data')\n",
    "mask_dir = os.path.join(root_dir, 'derivatives','mni_icbm152_t1_tal_nlin_asym_09c_mask.nii')"
   ]
  },
  {
   "cell_type": "code",
   "execution_count": 3,
   "metadata": {},
   "outputs": [],
   "source": [
    "# list datasets and concatenate\n",
    "\n",
    "# find all *_dataset.nii.gz files in dataset_dir\n",
    "dataset_files = [os.path.join(dataset_dir, f) for f in os.listdir(dataset_dir) if f.endswith('_musicnoise_dataset.nii.gz')]\n",
    "dataset_files.sort()\n",
    "\n",
    "# find all *_trial_types.txt files in dataset_dir\n",
    "label_files = [os.path.join(dataset_dir, f) for f in os.listdir(dataset_dir) if f.endswith('_musicnoise_trial_types.txt')]\n",
    "label_files.sort()"
   ]
  },
  {
   "cell_type": "code",
   "execution_count": 4,
   "metadata": {},
   "outputs": [
    {
     "data": {
      "text/plain": [
       "['/users3/uccibit/alexsayal/BIDS-BRAINPLAYBACK-TASK2/derivatives/mvpa_ls_a_data/sub-01_ses-01_task-02a_run-1_musicnoise_dataset.nii.gz',\n",
       " '/users3/uccibit/alexsayal/BIDS-BRAINPLAYBACK-TASK2/derivatives/mvpa_ls_a_data/sub-01_ses-01_task-02a_run-2_musicnoise_dataset.nii.gz',\n",
       " '/users3/uccibit/alexsayal/BIDS-BRAINPLAYBACK-TASK2/derivatives/mvpa_ls_a_data/sub-01_ses-01_task-02a_run-3_musicnoise_dataset.nii.gz',\n",
       " '/users3/uccibit/alexsayal/BIDS-BRAINPLAYBACK-TASK2/derivatives/mvpa_ls_a_data/sub-01_ses-01_task-02a_run-4_musicnoise_dataset.nii.gz',\n",
       " '/users3/uccibit/alexsayal/BIDS-BRAINPLAYBACK-TASK2/derivatives/mvpa_ls_a_data/sub-02_ses-01_task-02a_run-1_musicnoise_dataset.nii.gz',\n",
       " '/users3/uccibit/alexsayal/BIDS-BRAINPLAYBACK-TASK2/derivatives/mvpa_ls_a_data/sub-02_ses-01_task-02a_run-2_musicnoise_dataset.nii.gz',\n",
       " '/users3/uccibit/alexsayal/BIDS-BRAINPLAYBACK-TASK2/derivatives/mvpa_ls_a_data/sub-02_ses-01_task-02a_run-3_musicnoise_dataset.nii.gz',\n",
       " '/users3/uccibit/alexsayal/BIDS-BRAINPLAYBACK-TASK2/derivatives/mvpa_ls_a_data/sub-02_ses-01_task-02a_run-4_musicnoise_dataset.nii.gz',\n",
       " '/users3/uccibit/alexsayal/BIDS-BRAINPLAYBACK-TASK2/derivatives/mvpa_ls_a_data/sub-03_ses-01_task-02a_run-1_musicnoise_dataset.nii.gz',\n",
       " '/users3/uccibit/alexsayal/BIDS-BRAINPLAYBACK-TASK2/derivatives/mvpa_ls_a_data/sub-03_ses-01_task-02a_run-2_musicnoise_dataset.nii.gz',\n",
       " '/users3/uccibit/alexsayal/BIDS-BRAINPLAYBACK-TASK2/derivatives/mvpa_ls_a_data/sub-03_ses-01_task-02a_run-3_musicnoise_dataset.nii.gz',\n",
       " '/users3/uccibit/alexsayal/BIDS-BRAINPLAYBACK-TASK2/derivatives/mvpa_ls_a_data/sub-03_ses-01_task-02a_run-4_musicnoise_dataset.nii.gz',\n",
       " '/users3/uccibit/alexsayal/BIDS-BRAINPLAYBACK-TASK2/derivatives/mvpa_ls_a_data/sub-04_ses-01_task-02a_run-1_musicnoise_dataset.nii.gz',\n",
       " '/users3/uccibit/alexsayal/BIDS-BRAINPLAYBACK-TASK2/derivatives/mvpa_ls_a_data/sub-04_ses-01_task-02a_run-2_musicnoise_dataset.nii.gz',\n",
       " '/users3/uccibit/alexsayal/BIDS-BRAINPLAYBACK-TASK2/derivatives/mvpa_ls_a_data/sub-04_ses-01_task-02a_run-3_musicnoise_dataset.nii.gz',\n",
       " '/users3/uccibit/alexsayal/BIDS-BRAINPLAYBACK-TASK2/derivatives/mvpa_ls_a_data/sub-04_ses-01_task-02a_run-4_musicnoise_dataset.nii.gz',\n",
       " '/users3/uccibit/alexsayal/BIDS-BRAINPLAYBACK-TASK2/derivatives/mvpa_ls_a_data/sub-05_ses-01_task-02a_run-1_musicnoise_dataset.nii.gz',\n",
       " '/users3/uccibit/alexsayal/BIDS-BRAINPLAYBACK-TASK2/derivatives/mvpa_ls_a_data/sub-05_ses-01_task-02a_run-2_musicnoise_dataset.nii.gz',\n",
       " '/users3/uccibit/alexsayal/BIDS-BRAINPLAYBACK-TASK2/derivatives/mvpa_ls_a_data/sub-05_ses-01_task-02a_run-3_musicnoise_dataset.nii.gz',\n",
       " '/users3/uccibit/alexsayal/BIDS-BRAINPLAYBACK-TASK2/derivatives/mvpa_ls_a_data/sub-05_ses-01_task-02a_run-4_musicnoise_dataset.nii.gz',\n",
       " '/users3/uccibit/alexsayal/BIDS-BRAINPLAYBACK-TASK2/derivatives/mvpa_ls_a_data/sub-06_ses-01_task-02a_run-1_musicnoise_dataset.nii.gz',\n",
       " '/users3/uccibit/alexsayal/BIDS-BRAINPLAYBACK-TASK2/derivatives/mvpa_ls_a_data/sub-06_ses-01_task-02a_run-2_musicnoise_dataset.nii.gz',\n",
       " '/users3/uccibit/alexsayal/BIDS-BRAINPLAYBACK-TASK2/derivatives/mvpa_ls_a_data/sub-06_ses-01_task-02a_run-3_musicnoise_dataset.nii.gz',\n",
       " '/users3/uccibit/alexsayal/BIDS-BRAINPLAYBACK-TASK2/derivatives/mvpa_ls_a_data/sub-06_ses-01_task-02a_run-4_musicnoise_dataset.nii.gz',\n",
       " '/users3/uccibit/alexsayal/BIDS-BRAINPLAYBACK-TASK2/derivatives/mvpa_ls_a_data/sub-07_ses-01_task-02a_run-1_musicnoise_dataset.nii.gz',\n",
       " '/users3/uccibit/alexsayal/BIDS-BRAINPLAYBACK-TASK2/derivatives/mvpa_ls_a_data/sub-07_ses-01_task-02a_run-2_musicnoise_dataset.nii.gz',\n",
       " '/users3/uccibit/alexsayal/BIDS-BRAINPLAYBACK-TASK2/derivatives/mvpa_ls_a_data/sub-07_ses-01_task-02a_run-3_musicnoise_dataset.nii.gz',\n",
       " '/users3/uccibit/alexsayal/BIDS-BRAINPLAYBACK-TASK2/derivatives/mvpa_ls_a_data/sub-07_ses-01_task-02a_run-4_musicnoise_dataset.nii.gz',\n",
       " '/users3/uccibit/alexsayal/BIDS-BRAINPLAYBACK-TASK2/derivatives/mvpa_ls_a_data/sub-08_ses-01_task-02a_run-1_musicnoise_dataset.nii.gz',\n",
       " '/users3/uccibit/alexsayal/BIDS-BRAINPLAYBACK-TASK2/derivatives/mvpa_ls_a_data/sub-08_ses-01_task-02a_run-2_musicnoise_dataset.nii.gz',\n",
       " '/users3/uccibit/alexsayal/BIDS-BRAINPLAYBACK-TASK2/derivatives/mvpa_ls_a_data/sub-08_ses-01_task-02a_run-3_musicnoise_dataset.nii.gz',\n",
       " '/users3/uccibit/alexsayal/BIDS-BRAINPLAYBACK-TASK2/derivatives/mvpa_ls_a_data/sub-08_ses-01_task-02a_run-4_musicnoise_dataset.nii.gz',\n",
       " '/users3/uccibit/alexsayal/BIDS-BRAINPLAYBACK-TASK2/derivatives/mvpa_ls_a_data/sub-09_ses-01_task-02a_run-1_musicnoise_dataset.nii.gz',\n",
       " '/users3/uccibit/alexsayal/BIDS-BRAINPLAYBACK-TASK2/derivatives/mvpa_ls_a_data/sub-09_ses-01_task-02a_run-2_musicnoise_dataset.nii.gz',\n",
       " '/users3/uccibit/alexsayal/BIDS-BRAINPLAYBACK-TASK2/derivatives/mvpa_ls_a_data/sub-09_ses-01_task-02a_run-3_musicnoise_dataset.nii.gz',\n",
       " '/users3/uccibit/alexsayal/BIDS-BRAINPLAYBACK-TASK2/derivatives/mvpa_ls_a_data/sub-09_ses-01_task-02a_run-4_musicnoise_dataset.nii.gz',\n",
       " '/users3/uccibit/alexsayal/BIDS-BRAINPLAYBACK-TASK2/derivatives/mvpa_ls_a_data/sub-10_ses-01_task-02a_run-1_musicnoise_dataset.nii.gz',\n",
       " '/users3/uccibit/alexsayal/BIDS-BRAINPLAYBACK-TASK2/derivatives/mvpa_ls_a_data/sub-10_ses-01_task-02a_run-2_musicnoise_dataset.nii.gz',\n",
       " '/users3/uccibit/alexsayal/BIDS-BRAINPLAYBACK-TASK2/derivatives/mvpa_ls_a_data/sub-10_ses-01_task-02a_run-3_musicnoise_dataset.nii.gz',\n",
       " '/users3/uccibit/alexsayal/BIDS-BRAINPLAYBACK-TASK2/derivatives/mvpa_ls_a_data/sub-10_ses-01_task-02a_run-4_musicnoise_dataset.nii.gz',\n",
       " '/users3/uccibit/alexsayal/BIDS-BRAINPLAYBACK-TASK2/derivatives/mvpa_ls_a_data/sub-11_ses-01_task-02a_run-1_musicnoise_dataset.nii.gz',\n",
       " '/users3/uccibit/alexsayal/BIDS-BRAINPLAYBACK-TASK2/derivatives/mvpa_ls_a_data/sub-11_ses-01_task-02a_run-2_musicnoise_dataset.nii.gz',\n",
       " '/users3/uccibit/alexsayal/BIDS-BRAINPLAYBACK-TASK2/derivatives/mvpa_ls_a_data/sub-11_ses-01_task-02a_run-3_musicnoise_dataset.nii.gz',\n",
       " '/users3/uccibit/alexsayal/BIDS-BRAINPLAYBACK-TASK2/derivatives/mvpa_ls_a_data/sub-11_ses-01_task-02a_run-4_musicnoise_dataset.nii.gz',\n",
       " '/users3/uccibit/alexsayal/BIDS-BRAINPLAYBACK-TASK2/derivatives/mvpa_ls_a_data/sub-12_ses-01_task-02a_run-1_musicnoise_dataset.nii.gz',\n",
       " '/users3/uccibit/alexsayal/BIDS-BRAINPLAYBACK-TASK2/derivatives/mvpa_ls_a_data/sub-12_ses-01_task-02a_run-2_musicnoise_dataset.nii.gz',\n",
       " '/users3/uccibit/alexsayal/BIDS-BRAINPLAYBACK-TASK2/derivatives/mvpa_ls_a_data/sub-12_ses-01_task-02a_run-3_musicnoise_dataset.nii.gz',\n",
       " '/users3/uccibit/alexsayal/BIDS-BRAINPLAYBACK-TASK2/derivatives/mvpa_ls_a_data/sub-12_ses-01_task-02a_run-4_musicnoise_dataset.nii.gz',\n",
       " '/users3/uccibit/alexsayal/BIDS-BRAINPLAYBACK-TASK2/derivatives/mvpa_ls_a_data/sub-13_ses-01_task-02a_run-1_musicnoise_dataset.nii.gz',\n",
       " '/users3/uccibit/alexsayal/BIDS-BRAINPLAYBACK-TASK2/derivatives/mvpa_ls_a_data/sub-13_ses-01_task-02a_run-2_musicnoise_dataset.nii.gz',\n",
       " '/users3/uccibit/alexsayal/BIDS-BRAINPLAYBACK-TASK2/derivatives/mvpa_ls_a_data/sub-13_ses-01_task-02a_run-3_musicnoise_dataset.nii.gz',\n",
       " '/users3/uccibit/alexsayal/BIDS-BRAINPLAYBACK-TASK2/derivatives/mvpa_ls_a_data/sub-13_ses-01_task-02a_run-4_musicnoise_dataset.nii.gz']"
      ]
     },
     "execution_count": 4,
     "metadata": {},
     "output_type": "execute_result"
    }
   ],
   "source": [
    "dataset_files"
   ]
  },
  {
   "cell_type": "code",
   "execution_count": 5,
   "metadata": {},
   "outputs": [
    {
     "data": {
      "text/plain": [
       "['/users3/uccibit/alexsayal/BIDS-BRAINPLAYBACK-TASK2/derivatives/mvpa_ls_a_data/sub-01_ses-01_task-02a_run-1_musicnoise_trial_types.txt',\n",
       " '/users3/uccibit/alexsayal/BIDS-BRAINPLAYBACK-TASK2/derivatives/mvpa_ls_a_data/sub-01_ses-01_task-02a_run-2_musicnoise_trial_types.txt',\n",
       " '/users3/uccibit/alexsayal/BIDS-BRAINPLAYBACK-TASK2/derivatives/mvpa_ls_a_data/sub-01_ses-01_task-02a_run-3_musicnoise_trial_types.txt',\n",
       " '/users3/uccibit/alexsayal/BIDS-BRAINPLAYBACK-TASK2/derivatives/mvpa_ls_a_data/sub-01_ses-01_task-02a_run-4_musicnoise_trial_types.txt',\n",
       " '/users3/uccibit/alexsayal/BIDS-BRAINPLAYBACK-TASK2/derivatives/mvpa_ls_a_data/sub-02_ses-01_task-02a_run-1_musicnoise_trial_types.txt',\n",
       " '/users3/uccibit/alexsayal/BIDS-BRAINPLAYBACK-TASK2/derivatives/mvpa_ls_a_data/sub-02_ses-01_task-02a_run-2_musicnoise_trial_types.txt',\n",
       " '/users3/uccibit/alexsayal/BIDS-BRAINPLAYBACK-TASK2/derivatives/mvpa_ls_a_data/sub-02_ses-01_task-02a_run-3_musicnoise_trial_types.txt',\n",
       " '/users3/uccibit/alexsayal/BIDS-BRAINPLAYBACK-TASK2/derivatives/mvpa_ls_a_data/sub-02_ses-01_task-02a_run-4_musicnoise_trial_types.txt',\n",
       " '/users3/uccibit/alexsayal/BIDS-BRAINPLAYBACK-TASK2/derivatives/mvpa_ls_a_data/sub-03_ses-01_task-02a_run-1_musicnoise_trial_types.txt',\n",
       " '/users3/uccibit/alexsayal/BIDS-BRAINPLAYBACK-TASK2/derivatives/mvpa_ls_a_data/sub-03_ses-01_task-02a_run-2_musicnoise_trial_types.txt',\n",
       " '/users3/uccibit/alexsayal/BIDS-BRAINPLAYBACK-TASK2/derivatives/mvpa_ls_a_data/sub-03_ses-01_task-02a_run-3_musicnoise_trial_types.txt',\n",
       " '/users3/uccibit/alexsayal/BIDS-BRAINPLAYBACK-TASK2/derivatives/mvpa_ls_a_data/sub-03_ses-01_task-02a_run-4_musicnoise_trial_types.txt',\n",
       " '/users3/uccibit/alexsayal/BIDS-BRAINPLAYBACK-TASK2/derivatives/mvpa_ls_a_data/sub-04_ses-01_task-02a_run-1_musicnoise_trial_types.txt',\n",
       " '/users3/uccibit/alexsayal/BIDS-BRAINPLAYBACK-TASK2/derivatives/mvpa_ls_a_data/sub-04_ses-01_task-02a_run-2_musicnoise_trial_types.txt',\n",
       " '/users3/uccibit/alexsayal/BIDS-BRAINPLAYBACK-TASK2/derivatives/mvpa_ls_a_data/sub-04_ses-01_task-02a_run-3_musicnoise_trial_types.txt',\n",
       " '/users3/uccibit/alexsayal/BIDS-BRAINPLAYBACK-TASK2/derivatives/mvpa_ls_a_data/sub-04_ses-01_task-02a_run-4_musicnoise_trial_types.txt',\n",
       " '/users3/uccibit/alexsayal/BIDS-BRAINPLAYBACK-TASK2/derivatives/mvpa_ls_a_data/sub-05_ses-01_task-02a_run-1_musicnoise_trial_types.txt',\n",
       " '/users3/uccibit/alexsayal/BIDS-BRAINPLAYBACK-TASK2/derivatives/mvpa_ls_a_data/sub-05_ses-01_task-02a_run-2_musicnoise_trial_types.txt',\n",
       " '/users3/uccibit/alexsayal/BIDS-BRAINPLAYBACK-TASK2/derivatives/mvpa_ls_a_data/sub-05_ses-01_task-02a_run-3_musicnoise_trial_types.txt',\n",
       " '/users3/uccibit/alexsayal/BIDS-BRAINPLAYBACK-TASK2/derivatives/mvpa_ls_a_data/sub-05_ses-01_task-02a_run-4_musicnoise_trial_types.txt',\n",
       " '/users3/uccibit/alexsayal/BIDS-BRAINPLAYBACK-TASK2/derivatives/mvpa_ls_a_data/sub-06_ses-01_task-02a_run-1_musicnoise_trial_types.txt',\n",
       " '/users3/uccibit/alexsayal/BIDS-BRAINPLAYBACK-TASK2/derivatives/mvpa_ls_a_data/sub-06_ses-01_task-02a_run-2_musicnoise_trial_types.txt',\n",
       " '/users3/uccibit/alexsayal/BIDS-BRAINPLAYBACK-TASK2/derivatives/mvpa_ls_a_data/sub-06_ses-01_task-02a_run-3_musicnoise_trial_types.txt',\n",
       " '/users3/uccibit/alexsayal/BIDS-BRAINPLAYBACK-TASK2/derivatives/mvpa_ls_a_data/sub-06_ses-01_task-02a_run-4_musicnoise_trial_types.txt',\n",
       " '/users3/uccibit/alexsayal/BIDS-BRAINPLAYBACK-TASK2/derivatives/mvpa_ls_a_data/sub-07_ses-01_task-02a_run-1_musicnoise_trial_types.txt',\n",
       " '/users3/uccibit/alexsayal/BIDS-BRAINPLAYBACK-TASK2/derivatives/mvpa_ls_a_data/sub-07_ses-01_task-02a_run-2_musicnoise_trial_types.txt',\n",
       " '/users3/uccibit/alexsayal/BIDS-BRAINPLAYBACK-TASK2/derivatives/mvpa_ls_a_data/sub-07_ses-01_task-02a_run-3_musicnoise_trial_types.txt',\n",
       " '/users3/uccibit/alexsayal/BIDS-BRAINPLAYBACK-TASK2/derivatives/mvpa_ls_a_data/sub-07_ses-01_task-02a_run-4_musicnoise_trial_types.txt',\n",
       " '/users3/uccibit/alexsayal/BIDS-BRAINPLAYBACK-TASK2/derivatives/mvpa_ls_a_data/sub-08_ses-01_task-02a_run-1_musicnoise_trial_types.txt',\n",
       " '/users3/uccibit/alexsayal/BIDS-BRAINPLAYBACK-TASK2/derivatives/mvpa_ls_a_data/sub-08_ses-01_task-02a_run-2_musicnoise_trial_types.txt',\n",
       " '/users3/uccibit/alexsayal/BIDS-BRAINPLAYBACK-TASK2/derivatives/mvpa_ls_a_data/sub-08_ses-01_task-02a_run-3_musicnoise_trial_types.txt',\n",
       " '/users3/uccibit/alexsayal/BIDS-BRAINPLAYBACK-TASK2/derivatives/mvpa_ls_a_data/sub-08_ses-01_task-02a_run-4_musicnoise_trial_types.txt',\n",
       " '/users3/uccibit/alexsayal/BIDS-BRAINPLAYBACK-TASK2/derivatives/mvpa_ls_a_data/sub-09_ses-01_task-02a_run-1_musicnoise_trial_types.txt',\n",
       " '/users3/uccibit/alexsayal/BIDS-BRAINPLAYBACK-TASK2/derivatives/mvpa_ls_a_data/sub-09_ses-01_task-02a_run-2_musicnoise_trial_types.txt',\n",
       " '/users3/uccibit/alexsayal/BIDS-BRAINPLAYBACK-TASK2/derivatives/mvpa_ls_a_data/sub-09_ses-01_task-02a_run-3_musicnoise_trial_types.txt',\n",
       " '/users3/uccibit/alexsayal/BIDS-BRAINPLAYBACK-TASK2/derivatives/mvpa_ls_a_data/sub-09_ses-01_task-02a_run-4_musicnoise_trial_types.txt',\n",
       " '/users3/uccibit/alexsayal/BIDS-BRAINPLAYBACK-TASK2/derivatives/mvpa_ls_a_data/sub-10_ses-01_task-02a_run-1_musicnoise_trial_types.txt',\n",
       " '/users3/uccibit/alexsayal/BIDS-BRAINPLAYBACK-TASK2/derivatives/mvpa_ls_a_data/sub-10_ses-01_task-02a_run-2_musicnoise_trial_types.txt',\n",
       " '/users3/uccibit/alexsayal/BIDS-BRAINPLAYBACK-TASK2/derivatives/mvpa_ls_a_data/sub-10_ses-01_task-02a_run-3_musicnoise_trial_types.txt',\n",
       " '/users3/uccibit/alexsayal/BIDS-BRAINPLAYBACK-TASK2/derivatives/mvpa_ls_a_data/sub-10_ses-01_task-02a_run-4_musicnoise_trial_types.txt',\n",
       " '/users3/uccibit/alexsayal/BIDS-BRAINPLAYBACK-TASK2/derivatives/mvpa_ls_a_data/sub-11_ses-01_task-02a_run-1_musicnoise_trial_types.txt',\n",
       " '/users3/uccibit/alexsayal/BIDS-BRAINPLAYBACK-TASK2/derivatives/mvpa_ls_a_data/sub-11_ses-01_task-02a_run-2_musicnoise_trial_types.txt',\n",
       " '/users3/uccibit/alexsayal/BIDS-BRAINPLAYBACK-TASK2/derivatives/mvpa_ls_a_data/sub-11_ses-01_task-02a_run-3_musicnoise_trial_types.txt',\n",
       " '/users3/uccibit/alexsayal/BIDS-BRAINPLAYBACK-TASK2/derivatives/mvpa_ls_a_data/sub-11_ses-01_task-02a_run-4_musicnoise_trial_types.txt',\n",
       " '/users3/uccibit/alexsayal/BIDS-BRAINPLAYBACK-TASK2/derivatives/mvpa_ls_a_data/sub-12_ses-01_task-02a_run-1_musicnoise_trial_types.txt',\n",
       " '/users3/uccibit/alexsayal/BIDS-BRAINPLAYBACK-TASK2/derivatives/mvpa_ls_a_data/sub-12_ses-01_task-02a_run-2_musicnoise_trial_types.txt',\n",
       " '/users3/uccibit/alexsayal/BIDS-BRAINPLAYBACK-TASK2/derivatives/mvpa_ls_a_data/sub-12_ses-01_task-02a_run-3_musicnoise_trial_types.txt',\n",
       " '/users3/uccibit/alexsayal/BIDS-BRAINPLAYBACK-TASK2/derivatives/mvpa_ls_a_data/sub-12_ses-01_task-02a_run-4_musicnoise_trial_types.txt',\n",
       " '/users3/uccibit/alexsayal/BIDS-BRAINPLAYBACK-TASK2/derivatives/mvpa_ls_a_data/sub-13_ses-01_task-02a_run-1_musicnoise_trial_types.txt',\n",
       " '/users3/uccibit/alexsayal/BIDS-BRAINPLAYBACK-TASK2/derivatives/mvpa_ls_a_data/sub-13_ses-01_task-02a_run-2_musicnoise_trial_types.txt',\n",
       " '/users3/uccibit/alexsayal/BIDS-BRAINPLAYBACK-TASK2/derivatives/mvpa_ls_a_data/sub-13_ses-01_task-02a_run-3_musicnoise_trial_types.txt',\n",
       " '/users3/uccibit/alexsayal/BIDS-BRAINPLAYBACK-TASK2/derivatives/mvpa_ls_a_data/sub-13_ses-01_task-02a_run-4_musicnoise_trial_types.txt']"
      ]
     },
     "execution_count": 5,
     "metadata": {},
     "output_type": "execute_result"
    }
   ],
   "source": [
    "label_files"
   ]
  },
  {
   "cell_type": "code",
   "execution_count": 6,
   "metadata": {},
   "outputs": [
    {
     "name": "stdout",
     "output_type": "stream",
     "text": [
      "/users3/uccibit/alexsayal/BIDS-BRAINPLAYBACK-TASK2/derivatives/mvpa_ls_a_data/sub-01_ses-01_task-02a_run-1_dataset.nii.gz float64 [ 97, 115,  97,  18] 2.00x2.00x2.00x1.00\n",
      "\n",
      "/users3/uccibit/alexsayal/BIDS-BRAINPLAYBACK-TASK2/derivatives/mvpa_ls_a_data/sub-01_ses-01_task-02a_run-2_dataset.nii.gz float64 [ 97, 115,  97,  18] 2.00x2.00x2.00x1.00\n",
      "\n",
      "/users3/uccibit/alexsayal/BIDS-BRAINPLAYBACK-TASK2/derivatives/mvpa_ls_a_data/sub-01_ses-01_task-02a_run-3_dataset.nii.gz float64 [ 97, 115,  97,  18] 2.00x2.00x2.00x1.00\n",
      "\n",
      "/users3/uccibit/alexsayal/BIDS-BRAINPLAYBACK-TASK2/derivatives/mvpa_ls_a_data/sub-01_ses-01_task-02a_run-4_dataset.nii.gz float64 [ 97, 115,  97,  18] 2.00x2.00x2.00x1.00\n",
      "\n",
      "/users3/uccibit/alexsayal/BIDS-BRAINPLAYBACK-TASK2/derivatives/mvpa_ls_a_data/sub-02_ses-01_task-02a_run-1_dataset.nii.gz float64 [ 97, 115,  97,  18] 2.00x2.00x2.00x1.00\n",
      "\n",
      "/users3/uccibit/alexsayal/BIDS-BRAINPLAYBACK-TASK2/derivatives/mvpa_ls_a_data/sub-02_ses-01_task-02a_run-2_dataset.nii.gz float64 [ 97, 115,  97,  18] 2.00x2.00x2.00x1.00\n",
      "\n",
      "/users3/uccibit/alexsayal/BIDS-BRAINPLAYBACK-TASK2/derivatives/mvpa_ls_a_data/sub-02_ses-01_task-02a_run-3_dataset.nii.gz float64 [ 97, 115,  97,  18] 2.00x2.00x2.00x1.00\n",
      "\n",
      "/users3/uccibit/alexsayal/BIDS-BRAINPLAYBACK-TASK2/derivatives/mvpa_ls_a_data/sub-02_ses-01_task-02a_run-4_dataset.nii.gz float64 [ 97, 115,  97,  18] 2.00x2.00x2.00x1.00\n",
      "\n",
      "/users3/uccibit/alexsayal/BIDS-BRAINPLAYBACK-TASK2/derivatives/mvpa_ls_a_data/sub-03_ses-01_task-02a_run-1_dataset.nii.gz float64 [ 97, 115,  97,  18] 2.00x2.00x2.00x1.00\n",
      "\n",
      "/users3/uccibit/alexsayal/BIDS-BRAINPLAYBACK-TASK2/derivatives/mvpa_ls_a_data/sub-03_ses-01_task-02a_run-2_dataset.nii.gz float64 [ 97, 115,  97,  18] 2.00x2.00x2.00x1.00\n",
      "\n",
      "/users3/uccibit/alexsayal/BIDS-BRAINPLAYBACK-TASK2/derivatives/mvpa_ls_a_data/sub-03_ses-01_task-02a_run-3_dataset.nii.gz float64 [ 97, 115,  97,  18] 2.00x2.00x2.00x1.00\n",
      "\n",
      "/users3/uccibit/alexsayal/BIDS-BRAINPLAYBACK-TASK2/derivatives/mvpa_ls_a_data/sub-03_ses-01_task-02a_run-4_dataset.nii.gz float64 [ 97, 115,  97,  18] 2.00x2.00x2.00x1.00\n",
      "\n",
      "/users3/uccibit/alexsayal/BIDS-BRAINPLAYBACK-TASK2/derivatives/mvpa_ls_a_data/sub-04_ses-01_task-02a_run-1_dataset.nii.gz float64 [ 97, 115,  97,  18] 2.00x2.00x2.00x1.00\n",
      "\n",
      "/users3/uccibit/alexsayal/BIDS-BRAINPLAYBACK-TASK2/derivatives/mvpa_ls_a_data/sub-04_ses-01_task-02a_run-2_dataset.nii.gz float64 [ 97, 115,  97,  18] 2.00x2.00x2.00x1.00\n",
      "\n",
      "/users3/uccibit/alexsayal/BIDS-BRAINPLAYBACK-TASK2/derivatives/mvpa_ls_a_data/sub-04_ses-01_task-02a_run-3_dataset.nii.gz float64 [ 97, 115,  97,  18] 2.00x2.00x2.00x1.00\n",
      "\n",
      "/users3/uccibit/alexsayal/BIDS-BRAINPLAYBACK-TASK2/derivatives/mvpa_ls_a_data/sub-04_ses-01_task-02a_run-4_dataset.nii.gz float64 [ 97, 115,  97,  18] 2.00x2.00x2.00x1.00\n",
      "\n",
      "/users3/uccibit/alexsayal/BIDS-BRAINPLAYBACK-TASK2/derivatives/mvpa_ls_a_data/sub-05_ses-01_task-02a_run-1_dataset.nii.gz float64 [ 97, 115,  97,  18] 2.00x2.00x2.00x1.00\n",
      "\n",
      "/users3/uccibit/alexsayal/BIDS-BRAINPLAYBACK-TASK2/derivatives/mvpa_ls_a_data/sub-05_ses-01_task-02a_run-2_dataset.nii.gz float64 [ 97, 115,  97,  18] 2.00x2.00x2.00x1.00\n",
      "\n",
      "/users3/uccibit/alexsayal/BIDS-BRAINPLAYBACK-TASK2/derivatives/mvpa_ls_a_data/sub-05_ses-01_task-02a_run-3_dataset.nii.gz float64 [ 97, 115,  97,  18] 2.00x2.00x2.00x1.00\n",
      "\n",
      "/users3/uccibit/alexsayal/BIDS-BRAINPLAYBACK-TASK2/derivatives/mvpa_ls_a_data/sub-05_ses-01_task-02a_run-4_dataset.nii.gz float64 [ 97, 115,  97,  18] 2.00x2.00x2.00x1.00\n",
      "\n",
      "/users3/uccibit/alexsayal/BIDS-BRAINPLAYBACK-TASK2/derivatives/mvpa_ls_a_data/sub-06_ses-01_task-02a_run-1_dataset.nii.gz float64 [ 97, 115,  97,  18] 2.00x2.00x2.00x1.00\n",
      "\n",
      "/users3/uccibit/alexsayal/BIDS-BRAINPLAYBACK-TASK2/derivatives/mvpa_ls_a_data/sub-06_ses-01_task-02a_run-2_dataset.nii.gz float64 [ 97, 115,  97,  18] 2.00x2.00x2.00x1.00\n",
      "\n",
      "/users3/uccibit/alexsayal/BIDS-BRAINPLAYBACK-TASK2/derivatives/mvpa_ls_a_data/sub-06_ses-01_task-02a_run-3_dataset.nii.gz float64 [ 97, 115,  97,  18] 2.00x2.00x2.00x1.00\n",
      "\n",
      "/users3/uccibit/alexsayal/BIDS-BRAINPLAYBACK-TASK2/derivatives/mvpa_ls_a_data/sub-06_ses-01_task-02a_run-4_dataset.nii.gz float64 [ 97, 115,  97,  18] 2.00x2.00x2.00x1.00\n",
      "\n",
      "/users3/uccibit/alexsayal/BIDS-BRAINPLAYBACK-TASK2/derivatives/mvpa_ls_a_data/sub-07_ses-01_task-02a_run-1_dataset.nii.gz float64 [ 97, 115,  97,  18] 2.00x2.00x2.00x1.00\n",
      "\n",
      "/users3/uccibit/alexsayal/BIDS-BRAINPLAYBACK-TASK2/derivatives/mvpa_ls_a_data/sub-07_ses-01_task-02a_run-2_dataset.nii.gz float64 [ 97, 115,  97,  18] 2.00x2.00x2.00x1.00\n",
      "\n",
      "/users3/uccibit/alexsayal/BIDS-BRAINPLAYBACK-TASK2/derivatives/mvpa_ls_a_data/sub-07_ses-01_task-02a_run-3_dataset.nii.gz float64 [ 97, 115,  97,  18] 2.00x2.00x2.00x1.00\n",
      "\n",
      "/users3/uccibit/alexsayal/BIDS-BRAINPLAYBACK-TASK2/derivatives/mvpa_ls_a_data/sub-07_ses-01_task-02a_run-4_dataset.nii.gz float64 [ 97, 115,  97,  18] 2.00x2.00x2.00x1.00\n",
      "\n",
      "/users3/uccibit/alexsayal/BIDS-BRAINPLAYBACK-TASK2/derivatives/mvpa_ls_a_data/sub-08_ses-01_task-02a_run-1_dataset.nii.gz float64 [ 97, 115,  97,  18] 2.00x2.00x2.00x1.00\n",
      "\n",
      "/users3/uccibit/alexsayal/BIDS-BRAINPLAYBACK-TASK2/derivatives/mvpa_ls_a_data/sub-08_ses-01_task-02a_run-2_dataset.nii.gz float64 [ 97, 115,  97,  18] 2.00x2.00x2.00x1.00\n",
      "\n",
      "/users3/uccibit/alexsayal/BIDS-BRAINPLAYBACK-TASK2/derivatives/mvpa_ls_a_data/sub-08_ses-01_task-02a_run-3_dataset.nii.gz float64 [ 97, 115,  97,  18] 2.00x2.00x2.00x1.00\n",
      "\n",
      "/users3/uccibit/alexsayal/BIDS-BRAINPLAYBACK-TASK2/derivatives/mvpa_ls_a_data/sub-08_ses-01_task-02a_run-4_dataset.nii.gz float64 [ 97, 115,  97,  18] 2.00x2.00x2.00x1.00\n",
      "\n",
      "/users3/uccibit/alexsayal/BIDS-BRAINPLAYBACK-TASK2/derivatives/mvpa_ls_a_data/sub-09_ses-01_task-02a_run-1_dataset.nii.gz float64 [ 97, 115,  97,  18] 2.00x2.00x2.00x1.00\n",
      "\n",
      "/users3/uccibit/alexsayal/BIDS-BRAINPLAYBACK-TASK2/derivatives/mvpa_ls_a_data/sub-09_ses-01_task-02a_run-2_dataset.nii.gz float64 [ 97, 115,  97,  18] 2.00x2.00x2.00x1.00\n",
      "\n",
      "/users3/uccibit/alexsayal/BIDS-BRAINPLAYBACK-TASK2/derivatives/mvpa_ls_a_data/sub-09_ses-01_task-02a_run-3_dataset.nii.gz float64 [ 97, 115,  97,  18] 2.00x2.00x2.00x1.00\n",
      "\n",
      "/users3/uccibit/alexsayal/BIDS-BRAINPLAYBACK-TASK2/derivatives/mvpa_ls_a_data/sub-09_ses-01_task-02a_run-4_dataset.nii.gz float64 [ 97, 115,  97,  18] 2.00x2.00x2.00x1.00\n",
      "\n",
      "/users3/uccibit/alexsayal/BIDS-BRAINPLAYBACK-TASK2/derivatives/mvpa_ls_a_data/sub-10_ses-01_task-02a_run-1_dataset.nii.gz float64 [ 97, 115,  97,  18] 2.00x2.00x2.00x1.00\n",
      "\n",
      "/users3/uccibit/alexsayal/BIDS-BRAINPLAYBACK-TASK2/derivatives/mvpa_ls_a_data/sub-10_ses-01_task-02a_run-2_dataset.nii.gz float64 [ 97, 115,  97,  18] 2.00x2.00x2.00x1.00\n",
      "\n",
      "/users3/uccibit/alexsayal/BIDS-BRAINPLAYBACK-TASK2/derivatives/mvpa_ls_a_data/sub-10_ses-01_task-02a_run-3_dataset.nii.gz float64 [ 97, 115,  97,  18] 2.00x2.00x2.00x1.00\n",
      "\n",
      "/users3/uccibit/alexsayal/BIDS-BRAINPLAYBACK-TASK2/derivatives/mvpa_ls_a_data/sub-10_ses-01_task-02a_run-4_dataset.nii.gz float64 [ 97, 115,  97,  18] 2.00x2.00x2.00x1.00\n",
      "\n",
      "/users3/uccibit/alexsayal/BIDS-BRAINPLAYBACK-TASK2/derivatives/mvpa_ls_a_data/sub-11_ses-01_task-02a_run-1_dataset.nii.gz float64 [ 97, 115,  97,  18] 2.00x2.00x2.00x1.00\n",
      "\n",
      "/users3/uccibit/alexsayal/BIDS-BRAINPLAYBACK-TASK2/derivatives/mvpa_ls_a_data/sub-11_ses-01_task-02a_run-2_dataset.nii.gz float64 [ 97, 115,  97,  18] 2.00x2.00x2.00x1.00\n",
      "\n",
      "/users3/uccibit/alexsayal/BIDS-BRAINPLAYBACK-TASK2/derivatives/mvpa_ls_a_data/sub-11_ses-01_task-02a_run-3_dataset.nii.gz float64 [ 97, 115,  97,  18] 2.00x2.00x2.00x1.00\n",
      "\n",
      "/users3/uccibit/alexsayal/BIDS-BRAINPLAYBACK-TASK2/derivatives/mvpa_ls_a_data/sub-11_ses-01_task-02a_run-4_dataset.nii.gz float64 [ 97, 115,  97,  18] 2.00x2.00x2.00x1.00\n",
      "\n",
      "/users3/uccibit/alexsayal/BIDS-BRAINPLAYBACK-TASK2/derivatives/mvpa_ls_a_data/sub-12_ses-01_task-02a_run-1_dataset.nii.gz float64 [ 97, 115,  97,  18] 2.00x2.00x2.00x1.00\n",
      "\n",
      "/users3/uccibit/alexsayal/BIDS-BRAINPLAYBACK-TASK2/derivatives/mvpa_ls_a_data/sub-12_ses-01_task-02a_run-2_dataset.nii.gz float64 [ 97, 115,  97,  18] 2.00x2.00x2.00x1.00\n",
      "\n",
      "/users3/uccibit/alexsayal/BIDS-BRAINPLAYBACK-TASK2/derivatives/mvpa_ls_a_data/sub-12_ses-01_task-02a_run-3_dataset.nii.gz float64 [ 97, 115,  97,  18] 2.00x2.00x2.00x1.00\n",
      "\n",
      "/users3/uccibit/alexsayal/BIDS-BRAINPLAYBACK-TASK2/derivatives/mvpa_ls_a_data/sub-12_ses-01_task-02a_run-4_dataset.nii.gz float64 [ 97, 115,  97,  18] 2.00x2.00x2.00x1.00\n",
      "\n",
      "/users3/uccibit/alexsayal/BIDS-BRAINPLAYBACK-TASK2/derivatives/mvpa_ls_a_data/sub-13_ses-01_task-02a_run-1_dataset.nii.gz float64 [ 97, 115,  97,  18] 2.00x2.00x2.00x1.00\n",
      "\n",
      "/users3/uccibit/alexsayal/BIDS-BRAINPLAYBACK-TASK2/derivatives/mvpa_ls_a_data/sub-13_ses-01_task-02a_run-2_dataset.nii.gz float64 [ 97, 115,  97,  18] 2.00x2.00x2.00x1.00\n",
      "\n",
      "/users3/uccibit/alexsayal/BIDS-BRAINPLAYBACK-TASK2/derivatives/mvpa_ls_a_data/sub-13_ses-01_task-02a_run-3_dataset.nii.gz float64 [ 97, 115,  97,  18] 2.00x2.00x2.00x1.00\n",
      "\n",
      "/users3/uccibit/alexsayal/BIDS-BRAINPLAYBACK-TASK2/derivatives/mvpa_ls_a_data/sub-13_ses-01_task-02a_run-4_dataset.nii.gz float64 [ 97, 115,  97,  18] 2.00x2.00x2.00x1.00\n",
      "\n"
     ]
    }
   ],
   "source": [
    "#for dd in dataset_files:\n",
    "#    !nib-ls $dd"
   ]
  },
  {
   "cell_type": "code",
   "execution_count": 6,
   "metadata": {},
   "outputs": [],
   "source": [
    "# concatenate all datasets\n",
    "D = nb.concat_images(dataset_files, axis=3)"
   ]
  },
  {
   "cell_type": "code",
   "execution_count": 7,
   "metadata": {},
   "outputs": [
    {
     "data": {
      "text/plain": [
       "(97, 115, 97, 1924)"
      ]
     },
     "execution_count": 7,
     "metadata": {},
     "output_type": "execute_result"
    }
   ],
   "source": [
    "D.shape"
   ]
  },
  {
   "cell_type": "code",
   "execution_count": 8,
   "metadata": {},
   "outputs": [],
   "source": [
    "# concatenate all labels into a single string array\n",
    "labels = np.concatenate([np.loadtxt(l, dtype=str) for l in label_files])\n",
    "\n",
    "# trim each label to remove '___1' and '___2' suffixes\n",
    "#labels = np.array([l.split('___')[0] for l in labels])"
   ]
  },
  {
   "cell_type": "code",
   "execution_count": 9,
   "metadata": {},
   "outputs": [
    {
     "data": {
      "text/plain": [
       "(1924,)"
      ]
     },
     "execution_count": 9,
     "metadata": {},
     "output_type": "execute_result"
    }
   ],
   "source": [
    "labels.shape"
   ]
  },
  {
   "cell_type": "code",
   "execution_count": 10,
   "metadata": {},
   "outputs": [
    {
     "name": "stdout",
     "output_type": "stream",
     "text": [
      "[[0. 0. 0. ... 0. 0. 0.]\n",
      " [0. 0. 0. ... 0. 0. 0.]\n",
      " [0. 0. 0. ... 0. 0. 0.]\n",
      " ...\n",
      " [0. 0. 0. ... 0. 0. 0.]\n",
      " [0. 0. 0. ... 0. 0. 0.]\n",
      " [0. 0. 0. ... 0. 0. 0.]]\n"
     ]
    }
   ],
   "source": [
    "mask = nb.load(mask_dir)\n",
    "mask_downsampled = nbp.resample_to_output(mask, [2,2,2])\n",
    "\n",
    "mask_resampled = resample_to_img(mask_downsampled, D)\n",
    "\n",
    "# Binarize ROI template\n",
    "data_binary = np.array(mask_resampled.get_fdata()>=1, dtype=np.int8)\n",
    "\n",
    "# Dilate binary mask once\n",
    "from scipy.ndimage import binary_dilation\n",
    "data_dilated = binary_dilation(data_binary, iterations=2).astype(np.int8)\n",
    "\n",
    "# Save binary mask in NIfTI image\n",
    "mask_resampled2 = nb.Nifti1Image(data_dilated, mask_resampled.affine, mask_resampled.header)\n",
    "mask_resampled2.set_data_dtype('i1')\n",
    "\n",
    "from nilearn.input_data import NiftiMasker\n",
    "masker = NiftiMasker(mask_img=mask_resampled2, standardize=False, detrend=False)\n",
    "samples = masker.fit_transform(D)\n",
    "print(samples)\n"
   ]
  },
  {
   "cell_type": "code",
   "execution_count": 11,
   "metadata": {},
   "outputs": [
    {
     "name": "stdout",
     "output_type": "stream",
     "text": [
      "(1924, 260741)\n"
     ]
    }
   ],
   "source": [
    "print(samples.shape)"
   ]
  },
  {
   "cell_type": "code",
   "execution_count": 12,
   "metadata": {},
   "outputs": [],
   "source": [
    "masked_epi = masker.inverse_transform(samples)"
   ]
  },
  {
   "cell_type": "code",
   "execution_count": 13,
   "metadata": {},
   "outputs": [
    {
     "data": {
      "text/plain": [
       "<nilearn.plotting.displays._slicers.OrthoSlicer at 0x7fff36448ad0>"
      ]
     },
     "execution_count": 13,
     "metadata": {},
     "output_type": "execute_result"
    },
    {
     "data": {
      "image/png": "[encoded data removed]",
      "text/plain": [
       "<Figure size 660x350 with 4 Axes>"
      ]
     },
     "metadata": {},
     "output_type": "display_data"
    }
   ],
   "source": [
    "from nilearn.image import math_img\n",
    "from nilearn.plotting import plot_stat_map\n",
    "\n",
    "max_zscores = math_img(\"np.abs(img).max(axis=3)\", img=masked_epi)\n",
    "plot_stat_map(max_zscores, dim=-.5, cut_coords=[33, -20, 20],\n",
    "              draw_cross=False, annotate=False, colorbar=False,\n",
    "              title='Maximum Amplitude per Voxel in Mask')"
   ]
  },
  {
   "cell_type": "code",
   "execution_count": 14,
   "metadata": {},
   "outputs": [
    {
     "data": {
      "text/plain": [
       "(1924,)"
      ]
     },
     "execution_count": 14,
     "metadata": {},
     "output_type": "execute_result"
    }
   ],
   "source": [
    "# generate an array of chunk labels\n",
    "# so 2 x 4 x 9 ones, 2 x 4 x 9 twos, etc. up to twelve\n",
    "chunks = np.repeat(np.arange(1,14), 18*4+19*4)\n",
    "#chunks = np.ravel([np.zeros(9),np.ones(9)])\n",
    "chunks.shape"
   ]
  },
  {
   "cell_type": "code",
   "execution_count": 15,
   "metadata": {},
   "outputs": [],
   "source": [
    "# Let's specify the classifier\n",
    "from sklearn.svm import LinearSVC\n",
    "clf = LinearSVC(penalty='l2', loss='squared_hinge', max_iter=1000)"
   ]
  },
  {
   "cell_type": "code",
   "execution_count": 16,
   "metadata": {},
   "outputs": [
    {
     "name": "stderr",
     "output_type": "stream",
     "text": [
      "[Parallel(n_jobs=30)]: Using backend LokyBackend with 30 concurrent workers.\n"
     ]
    },
    {
     "ename": "",
     "evalue": "",
     "output_type": "error",
     "traceback": [
      "\u001b[1;31mThe Kernel crashed while executing code in the current cell or a previous cell. \n",
      "\u001b[1;31mPlease review the code in the cell(s) to identify a possible cause of the failure. \n",
      "\u001b[1;31mClick <a href='https://aka.ms/vscodeJupyterKernelCrash'>here</a> for more info. \n",
      "\u001b[1;31mView Jupyter <a href='command:jupyter.viewOutput'>log</a> for further details."
     ]
    },
    {
     "ename": "",
     "evalue": "",
     "output_type": "error",
     "traceback": [
      "\u001b[1;31mCanceled future for execute_request message before replies were done"
     ]
    },
    {
     "ename": "",
     "evalue": "",
     "output_type": "error",
     "traceback": [
      "\u001b[1;31mCanceled future for execute_request message before replies were done. \n",
      "\u001b[1;31mView Jupyter <a href='command:jupyter.viewOutput'>log</a> for further details."
     ]
    }
   ],
   "source": [
    "# Perform the cross validation (takes time to compute)\n",
    "from sklearn.model_selection import LeaveOneGroupOut, cross_val_score\n",
    "cv_scores = cross_val_score(estimator=clf,\n",
    "                            X=samples,\n",
    "                            y=labels,\n",
    "                            groups=chunks,\n",
    "                            cv=LeaveOneGroupOut(),\n",
    "                            n_jobs=30,\n",
    "                            verbose=1)"
   ]
  },
  {
   "cell_type": "code",
   "execution_count": 21,
   "metadata": {},
   "outputs": [
    {
     "name": "stdout",
     "output_type": "stream",
     "text": [
      "Average accuracy = 11.97 percent\n",
      "\n",
      "Accuracy per fold:\n",
      "[0.11111111 0.15277778 0.15277778 0.19444444 0.09722222 0.13888889\n",
      " 0.06944444 0.13888889 0.09722222 0.06944444 0.11111111 0.08333333\n",
      " 0.13888889]\n"
     ]
    }
   ],
   "source": [
    "print('Average accuracy = %.02f percent\\n' % (cv_scores.mean() * 100))\n",
    "print('Accuracy per fold:', cv_scores, sep='\\n')"
   ]
  },
  {
   "cell_type": "code",
   "execution_count": 19,
   "metadata": {},
   "outputs": [],
   "source": [
    "# Import the permuation function\n",
    "# from sklearn.model_selection import permutation_test_score"
   ]
  },
  {
   "cell_type": "code",
   "execution_count": 20,
   "metadata": {},
   "outputs": [],
   "source": [
    "# Run the permuation cross-validation\n",
    "# null_cv_scores = permutation_test_score(estimator=clf,\n",
    "#                                         X=samples,\n",
    "#                                         y=labels,\n",
    "#                                         groups=chunks,\n",
    "#                                         cv=LeaveOneGroupOut(),\n",
    "#                                         n_permutations=100,\n",
    "#                                         n_jobs=30,\n",
    "#                                         verbose=1)"
   ]
  },
  {
   "cell_type": "code",
   "execution_count": 21,
   "metadata": {},
   "outputs": [
    {
     "ename": "NameError",
     "evalue": "name 'null_cv_scores' is not defined",
     "output_type": "error",
     "traceback": [
      "\u001b[0;31m---------------------------------------------------------------------------\u001b[0m",
      "\u001b[0;31mNameError\u001b[0m                                 Traceback (most recent call last)",
      "Cell \u001b[0;32mIn[21], line 1\u001b[0m\n\u001b[0;32m----> 1\u001b[0m \u001b[38;5;28mprint\u001b[39m(\u001b[38;5;124m'\u001b[39m\u001b[38;5;124mPrediction accuracy: \u001b[39m\u001b[38;5;132;01m%.02f\u001b[39;00m\u001b[38;5;124m'\u001b[39m \u001b[38;5;241m%\u001b[39m (\u001b[43mnull_cv_scores\u001b[49m[\u001b[38;5;241m0\u001b[39m] \u001b[38;5;241m*\u001b[39m \u001b[38;5;241m100\u001b[39m),\n\u001b[1;32m      2\u001b[0m       \u001b[38;5;124m'\u001b[39m\u001b[38;5;124mp-value: \u001b[39m\u001b[38;5;132;01m%.04f\u001b[39;00m\u001b[38;5;124m'\u001b[39m \u001b[38;5;241m%\u001b[39m (null_cv_scores[\u001b[38;5;241m2\u001b[39m]),\n\u001b[1;32m      3\u001b[0m       sep\u001b[38;5;241m=\u001b[39m\u001b[38;5;124m'\u001b[39m\u001b[38;5;130;01m\\n\u001b[39;00m\u001b[38;5;124m'\u001b[39m)\n",
      "\u001b[0;31mNameError\u001b[0m: name 'null_cv_scores' is not defined"
     ]
    }
   ],
   "source": [
    "print('Prediction accuracy: %.02f' % (null_cv_scores[0] * 100),\n",
    "      'p-value: %.04f' % (null_cv_scores[2]),\n",
    "      sep='\\n')"
   ]
  }
 ],
 "metadata": {
  "kernelspec": {
   "display_name": "Python 3 (ipykernel)",
   "language": "python",
   "name": "python3"
  }
 },
 "nbformat": 4,
 "nbformat_minor": 2
}
