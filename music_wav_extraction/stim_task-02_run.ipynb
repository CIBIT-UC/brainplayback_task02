{
 "cells": [
  {
   "attachments": {},
   "cell_type": "markdown",
   "id": "26574d7f-f5dc-4be6-9aa4-4ac34d67f17f",
   "metadata": {},
   "source": [
    "# Task02\n",
    "Needs Blackhole configured"
   ]
  },
  {
   "cell_type": "code",
   "execution_count": 8,
   "id": "9b72c0a3-e36f-4501-8724-62cf50f61f2f",
   "metadata": {
    "tags": []
   },
   "outputs": [],
   "source": [
    "# Import requirements\n",
    "import spotipy\n",
    "import pandas\n",
    "import random\n",
    "import numpy\n",
    "import os"
   ]
  },
  {
   "cell_type": "code",
   "execution_count": 9,
   "id": "c51ba455",
   "metadata": {},
   "outputs": [],
   "source": [
    "import sounddevice as sd\n",
    "from scipy.io.wavfile import write\n",
    "\n",
    "fs = 44100  # Sample rate\n",
    "seconds = 24  # Duration of recording"
   ]
  },
  {
   "cell_type": "code",
   "execution_count": 10,
   "id": "b9ee45d4-8c51-47ea-b509-1c29cbcc07c9",
   "metadata": {
    "tags": []
   },
   "outputs": [],
   "source": [
    "# Import specific functions\n",
    "from lib import *"
   ]
  },
  {
   "cell_type": "code",
   "execution_count": 11,
   "id": "6dd1e4a7-d013-4f57-9756-541f9081a87d",
   "metadata": {
    "tags": []
   },
   "outputs": [],
   "source": [
    "# subject name/id\n",
    "subject_id = 'sub-09'"
   ]
  },
  {
   "cell_type": "code",
   "execution_count": 12,
   "id": "368cdbeb-78d6-4d82-8f1f-884197de4f3f",
   "metadata": {
    "tags": []
   },
   "outputs": [],
   "source": [
    "# Setup Spotipy\n",
    "scope = \"user-library-read,user-read-playback-state,user-modify-playback-state\"\n",
    "sp = spotipy.Spotify(\n",
    "    auth_manager=spotipy.oauth2.SpotifyOAuth(scope=scope,client_id='253a1345850d4a5c94995c1159d286e4',\n",
    "                                             client_secret='9a03e1bcb8124eed9b661991e84bf477',\n",
    "                                             redirect_uri='http://127.0.0.1:9090'),\n",
    ")\n",
    "\n",
    "# choose deviceID (1st)\n",
    "res = sp.devices()\n",
    "devID = res['devices'][0]['id']"
   ]
  },
  {
   "attachments": {},
   "cell_type": "markdown",
   "id": "c75db288-be97-40ae-bd90-08d83a25a573",
   "metadata": {},
   "source": [
    "## Import subject-specific selection of songs"
   ]
  },
  {
   "cell_type": "code",
   "execution_count": 13,
   "id": "c8b4a5c7-c015-4fe3-8bb4-5e65a3aaed73",
   "metadata": {
    "tags": []
   },
   "outputs": [],
   "source": [
    "# read file\n",
    "D = pandas.read_table(os.path.join('..','data','music_matrices',\n",
    "                                   f\"music_{subject_id}.tsv\"),\n",
    "                                index_col = \"Emotion\")\n",
    "\n",
    "# extract list of emotions\n",
    "emotionList = D.index.values\n",
    "\n",
    "# Generate two new columns (start1MS and start2MS) in milliseconds for each song\n",
    "for emotion in emotionList:\n",
    "    D.loc[emotion,\"startMS1\"] = (int(D.start1[emotion][1:3])*60 + int(D.start1[emotion][4:6])) * 1000\n",
    "    D.loc[emotion,\"startMS2\"] = (int(D.start2[emotion][1:3])*60 + int(D.start2[emotion][4:6])) * 1000"
   ]
  },
  {
   "attachments": {},
   "cell_type": "markdown",
   "id": "4ebfc2c2-0a83-4d09-9abf-9af5569ddec0",
   "metadata": {},
   "source": [
    "## Version 0.2a - 2 songs coupled by emotion"
   ]
  },
  {
   "cell_type": "code",
   "execution_count": 14,
   "id": "7a46dbe4-6543-44be-8ed8-b194060efc04",
   "metadata": {
    "tags": []
   },
   "outputs": [
    {
     "name": "stdout",
     "output_type": "stream",
     "text": [
      "Now playing: Peacefulness\n",
      "Now playing: 6J2LdBN97cDWn0MLxYh9HB starting at 75000.0\n",
      "Now playing: 1OU4E4HiVjdak0mL4blVWT starting at 62000.0\n",
      "Now playing: Wonder\n",
      "Now playing: 1tLp9KH0j1HoKdS1vnvkxO starting at 243000.0\n",
      "Now playing: 0XXkQk83TjaGoPndxWLHKr starting at 48000.0\n",
      "Now playing: Nostalgia\n",
      "Now playing: 1TQ2UYCN7nhfj3cfcFC76V starting at 2000.0\n",
      "Now playing: 4QTFU7BukoyDtyyemGPNCX starting at 9000.0\n",
      "Now playing: Sadness\n",
      "Now playing: 0pwnoUhy57HdGjj1zNzzNV starting at 81000.0\n",
      "Now playing: 50Td3qilgs8BLtv8mHyT1t starting at 0.0\n",
      "Now playing: Tension\n",
      "Now playing: 70gOupwTsC5iq2x3i6Q8f3 starting at 0.0\n",
      "Now playing: 1AUyzuh7CIr1yDYPTOgQQL starting at 194000.0\n",
      "Now playing: Joyful activation\n",
      "Now playing: 70t7Q6AYG6ZgTYmJWcnkUM starting at 50000.0\n",
      "Now playing: 71ax09SvKzLb1mwlQeAYMU starting at 60000.0\n",
      "Now playing: Transcendence\n",
      "Now playing: 3nSglalUiJYQfUsnzvI5Px starting at 63000.0\n",
      "Now playing: 5ky71GXSi2Rt2sgmbVGuqK starting at 90000.0\n",
      "Now playing: Power\n",
      "Now playing: 3kG6GPkDkV2RQTm9QdYN9Z starting at 210000.0\n",
      "Now playing: 1S85LGnDPKKOkfuFaK6vFu starting at 33000.0\n",
      "Now playing: Tenderness\n",
      "Now playing: 5nkUIVKqOqdpB6ApKgEMkv starting at 44000.0\n",
      "Now playing: 6cx5CvFhqN19efStehJqoW starting at 8000.0\n",
      "Done!\n"
     ]
    }
   ],
   "source": [
    "run_id = 'task-02a_run-1'\n",
    "\n",
    "# create a new list with the same elements as emotionList, but in a random order\n",
    "randomEmotionList = emotionList.copy()\n",
    "random.shuffle(randomEmotionList)\n",
    "\n",
    "# Initialize Dataframe to record timestamps\n",
    "timeMatrix = pandas.DataFrame(columns=[\"emotion\",\"trackID\",\"timestamp0\",\"before_music_start\", \"after_music_start\", \"before_noise_start\", \"after_noise_start\"])\n",
    "\n",
    "# set initial volume\n",
    "sp.volume(60,devID)\n",
    "\n",
    "# first baseline\n",
    "timestamp0 = time.time()\n",
    "sp.start_playback(uris=['spotify:track:7Ipe9FfRceDN51YMyd99pO'],position_ms=1000,device_id=devID)\n",
    "wait_until(timestamp0 + 2)\n",
    "\n",
    "# trial loop\n",
    "for emotion in randomEmotionList:\n",
    "    print(f\"Now playing: {emotion}\")\n",
    "\n",
    "    for i in range(1,3):\n",
    "        song = D[f\"trackID{str(i)}\"][emotion]\n",
    "        start_time = D[f\"startMS{str(i)}\"][emotion].item()\n",
    "\n",
    "        print(f\"Now playing: {song} starting at {str(start_time)}\")\n",
    "\n",
    "        timestamp1 = time.time()\n",
    "\n",
    "        sp.start_playback(\n",
    "            uris=[f'spotify:track:{song}'],\n",
    "            position_ms=start_time,\n",
    "            device_id=devID,\n",
    "        )\n",
    "        myrecording = sd.rec(int(seconds * fs), samplerate=fs, channels=2)\n",
    "        sd.wait()  # Wait until recording is finished\n",
    "        write(os.path.join('..','data','wav_files',\n",
    "                           f'{subject_id}_{emotion.replace(\" \", \"\")}_{song}.wav'),\n",
    "                         fs, myrecording)  # Save as WAV file\n",
    "\n",
    "        timestamp2 = time.time()\n",
    "\n",
    "        fade_in(sp,devID,duration=2,steps=5,t1=timestamp1)\n",
    "\n",
    "        wait_until(timestamp1 + 22)\n",
    "\n",
    "        fade_out(sp,devID,duration=2,steps=5,t1=timestamp1+22)\n",
    "\n",
    "        timestamp3 = time.time()\n",
    "\n",
    "        sp.start_playback(\n",
    "            uris=['spotify:track:7Ipe9FfRceDN51YMyd99pO'],\n",
    "            position_ms=1000,\n",
    "            device_id=devID,\n",
    "        )\n",
    "\n",
    "        timestamp4 = time.time()\n",
    "\n",
    "        wait_until(timestamp3 + 6)\n",
    "\n",
    "    wait_until(timestamp3 + 6 + 12)\n",
    "\n",
    "sp.pause_playback()\n",
    "\n",
    "print('Done!')"
   ]
  }
 ],
 "metadata": {
  "kernelspec": {
   "display_name": "Python 3 (ipykernel)",
   "language": "python",
   "name": "python3"
  },
  "language_info": {
   "codemirror_mode": {
    "name": "ipython",
    "version": 3
   },
   "file_extension": ".py",
   "mimetype": "text/x-python",
   "name": "python",
   "nbconvert_exporter": "python",
   "pygments_lexer": "ipython3",
   "version": "3.11.8"
  }
 },
 "nbformat": 4,
 "nbformat_minor": 5
}
