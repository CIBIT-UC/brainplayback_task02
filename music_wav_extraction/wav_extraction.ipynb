{
 "cells": [
  {
   "attachments": {},
   "cell_type": "markdown",
   "id": "26574d7f-f5dc-4be6-9aa4-4ac34d67f17f",
   "metadata": {},
   "source": [
    "# Task02\n",
    "Needs Blackhole configured"
   ]
  },
  {
   "cell_type": "code",
   "execution_count": 184,
   "id": "9b72c0a3-e36f-4501-8724-62cf50f61f2f",
   "metadata": {
    "tags": []
   },
   "outputs": [],
   "source": [
    "# Import requirements\n",
    "import spotipy\n",
    "import pandas\n",
    "import random\n",
    "import numpy\n",
    "import os"
   ]
  },
  {
   "cell_type": "code",
   "execution_count": 185,
   "id": "c51ba455",
   "metadata": {},
   "outputs": [],
   "source": [
    "import sounddevice as sd\n",
    "from scipy.io.wavfile import write\n",
    "\n",
    "fs = 44100  # Sample rate\n",
    "seconds = 24  # Duration of recording"
   ]
  },
  {
   "cell_type": "code",
   "execution_count": 186,
   "id": "b9ee45d4-8c51-47ea-b509-1c29cbcc07c9",
   "metadata": {
    "tags": []
   },
   "outputs": [],
   "source": [
    "# Import specific functions\n",
    "from lib import *"
   ]
  },
  {
   "cell_type": "code",
   "execution_count": 187,
   "id": "6dd1e4a7-d013-4f57-9756-541f9081a87d",
   "metadata": {
    "tags": []
   },
   "outputs": [],
   "source": [
    "# subject name/id\n",
    "subject_id = 'sub-12'"
   ]
  },
  {
   "cell_type": "code",
   "execution_count": 188,
   "id": "368cdbeb-78d6-4d82-8f1f-884197de4f3f",
   "metadata": {
    "tags": []
   },
   "outputs": [],
   "source": [
    "# Setup Spotipy\n",
    "scope = \"user-library-read,user-read-playback-state,user-modify-playback-state\"\n",
    "sp = spotipy.Spotify(\n",
    "    auth_manager=spotipy.oauth2.SpotifyOAuth(scope=scope,client_id='253a1345850d4a5c94995c1159d286e4',\n",
    "                                             client_secret='9a03e1bcb8124eed9b661991e84bf477',\n",
    "                                             redirect_uri='http://127.0.0.1:9090'),\n",
    ")\n",
    "\n",
    "# choose deviceID (1st)\n",
    "res = sp.devices()\n",
    "devID = res['devices'][0]['id']"
   ]
  },
  {
   "attachments": {},
   "cell_type": "markdown",
   "id": "c75db288-be97-40ae-bd90-08d83a25a573",
   "metadata": {},
   "source": [
    "## Import subject-specific selection of songs"
   ]
  },
  {
   "cell_type": "code",
   "execution_count": 201,
   "id": "c8b4a5c7-c015-4fe3-8bb4-5e65a3aaed73",
   "metadata": {
    "tags": []
   },
   "outputs": [],
   "source": [
    "# read file\n",
    "D = pandas.read_table(os.path.join('..','data','music_matrices',\n",
    "                                   f\"music_{subject_id}.tsv\"),\n",
    "                                index_col = \"Emotion\")\n",
    "\n",
    "# extract list of emotions\n",
    "emotionList = D.index.values\n",
    "\n",
    "# Generate two new columns (start1MS and start2MS) in milliseconds for each song\n",
    "for emotion in emotionList:\n",
    "    D.loc[emotion,\"startMS1\"] = (int(D.start1[emotion][1:3])*60 + int(D.start1[emotion][4:6])) * 1000\n",
    "    D.loc[emotion,\"startMS2\"] = (int(D.start2[emotion][1:3])*60 + int(D.start2[emotion][4:6])) * 1000"
   ]
  },
  {
   "attachments": {},
   "cell_type": "markdown",
   "id": "4ebfc2c2-0a83-4d09-9abf-9af5569ddec0",
   "metadata": {},
   "source": [
    "## Version 0.2a - 2 songs coupled by emotion"
   ]
  },
  {
   "cell_type": "code",
   "execution_count": 204,
   "id": "7a46dbe4-6543-44be-8ed8-b194060efc04",
   "metadata": {
    "tags": []
   },
   "outputs": [
    {
     "name": "stdout",
     "output_type": "stream",
     "text": [
      "Now playing: Joyful activation\n",
      "Now playing: 6m5NwZvZ8qeNVPeF4sSN3A starting at 110000.0\n",
      "Now playing: 5FiB1uNoGZE4PenzZd7Imu starting at 102000.0\n",
      "Now playing: Transcendence\n",
      "Now playing: 7yWT9m9UEI06Be9nb7M5LB starting at 377000.0\n",
      "Now playing: 4T2PrxnP1BnBe5Kwilx0ul starting at 247000.0\n"
     ]
    },
    {
     "name": "stderr",
     "output_type": "stream",
     "text": [
      "HTTP Error for PUT to https://api.spotify.com/v1/me/player/pause with Params: {} returned 403 due to Player command failed: Restriction violated\n"
     ]
    },
    {
     "ename": "SpotifyException",
     "evalue": "http status: 403, code:-1 - https://api.spotify.com/v1/me/player/pause:\n Player command failed: Restriction violated, reason: UNKNOWN",
     "output_type": "error",
     "traceback": [
      "\u001b[0;31m---------------------------------------------------------------------------\u001b[0m",
      "\u001b[0;31mHTTPError\u001b[0m                                 Traceback (most recent call last)",
      "File \u001b[0;32m/opt/anaconda3/envs/brainplayback_task02/lib/python3.11/site-packages/spotipy/client.py:275\u001b[0m, in \u001b[0;36mSpotify._internal_call\u001b[0;34m(self, method, url, payload, params)\u001b[0m\n\u001b[1;32m    270\u001b[0m response \u001b[38;5;241m=\u001b[39m \u001b[38;5;28mself\u001b[39m\u001b[38;5;241m.\u001b[39m_session\u001b[38;5;241m.\u001b[39mrequest(\n\u001b[1;32m    271\u001b[0m     method, url, headers\u001b[38;5;241m=\u001b[39mheaders, proxies\u001b[38;5;241m=\u001b[39m\u001b[38;5;28mself\u001b[39m\u001b[38;5;241m.\u001b[39mproxies,\n\u001b[1;32m    272\u001b[0m     timeout\u001b[38;5;241m=\u001b[39m\u001b[38;5;28mself\u001b[39m\u001b[38;5;241m.\u001b[39mrequests_timeout, \u001b[38;5;241m*\u001b[39m\u001b[38;5;241m*\u001b[39margs\n\u001b[1;32m    273\u001b[0m )\n\u001b[0;32m--> 275\u001b[0m \u001b[43mresponse\u001b[49m\u001b[38;5;241;43m.\u001b[39;49m\u001b[43mraise_for_status\u001b[49m\u001b[43m(\u001b[49m\u001b[43m)\u001b[49m\n\u001b[1;32m    276\u001b[0m results \u001b[38;5;241m=\u001b[39m response\u001b[38;5;241m.\u001b[39mjson()\n",
      "File \u001b[0;32m/opt/anaconda3/envs/brainplayback_task02/lib/python3.11/site-packages/requests/models.py:1021\u001b[0m, in \u001b[0;36mResponse.raise_for_status\u001b[0;34m(self)\u001b[0m\n\u001b[1;32m   1020\u001b[0m \u001b[38;5;28;01mif\u001b[39;00m http_error_msg:\n\u001b[0;32m-> 1021\u001b[0m     \u001b[38;5;28;01mraise\u001b[39;00m HTTPError(http_error_msg, response\u001b[38;5;241m=\u001b[39m\u001b[38;5;28mself\u001b[39m)\n",
      "\u001b[0;31mHTTPError\u001b[0m: 403 Client Error: Forbidden for url: https://api.spotify.com/v1/me/player/pause",
      "\nDuring handling of the above exception, another exception occurred:\n",
      "\u001b[0;31mSpotifyException\u001b[0m                          Traceback (most recent call last)",
      "Cell \u001b[0;32mIn[204], line 42\u001b[0m\n\u001b[1;32m     38\u001b[0m myrecording \u001b[38;5;241m=\u001b[39m sd\u001b[38;5;241m.\u001b[39mrec(\u001b[38;5;28mint\u001b[39m(seconds \u001b[38;5;241m*\u001b[39m fs), samplerate\u001b[38;5;241m=\u001b[39mfs, channels\u001b[38;5;241m=\u001b[39m\u001b[38;5;241m2\u001b[39m)\n\u001b[1;32m     40\u001b[0m sd\u001b[38;5;241m.\u001b[39mwait()  \u001b[38;5;66;03m# Wait until recording is finished\u001b[39;00m\n\u001b[0;32m---> 42\u001b[0m \u001b[43msp\u001b[49m\u001b[38;5;241;43m.\u001b[39;49m\u001b[43mpause_playback\u001b[49m\u001b[43m(\u001b[49m\u001b[43m)\u001b[49m\n\u001b[1;32m     44\u001b[0m write(os\u001b[38;5;241m.\u001b[39mpath\u001b[38;5;241m.\u001b[39mjoin(\u001b[38;5;124m'\u001b[39m\u001b[38;5;124m..\u001b[39m\u001b[38;5;124m'\u001b[39m,\u001b[38;5;124m'\u001b[39m\u001b[38;5;124mdata\u001b[39m\u001b[38;5;124m'\u001b[39m,\u001b[38;5;124m'\u001b[39m\u001b[38;5;124mwav_files\u001b[39m\u001b[38;5;124m'\u001b[39m,\n\u001b[1;32m     45\u001b[0m                    \u001b[38;5;124mf\u001b[39m\u001b[38;5;124m'\u001b[39m\u001b[38;5;132;01m{\u001b[39;00msubject_id\u001b[38;5;132;01m}\u001b[39;00m\u001b[38;5;124m_\u001b[39m\u001b[38;5;132;01m{\u001b[39;00memotion\u001b[38;5;241m.\u001b[39mreplace(\u001b[38;5;124m\"\u001b[39m\u001b[38;5;124m \u001b[39m\u001b[38;5;124m\"\u001b[39m,\u001b[38;5;250m \u001b[39m\u001b[38;5;124m\"\u001b[39m\u001b[38;5;124m\"\u001b[39m)\u001b[38;5;132;01m}\u001b[39;00m\u001b[38;5;124m_\u001b[39m\u001b[38;5;132;01m{\u001b[39;00msong\u001b[38;5;132;01m}\u001b[39;00m\u001b[38;5;124m.wav\u001b[39m\u001b[38;5;124m'\u001b[39m),\n\u001b[1;32m     46\u001b[0m                  fs, myrecording)  \u001b[38;5;66;03m# Save as WAV file\u001b[39;00m\n\u001b[1;32m     48\u001b[0m timestamp3 \u001b[38;5;241m=\u001b[39m time\u001b[38;5;241m.\u001b[39mtime()\n",
      "File \u001b[0;32m/opt/anaconda3/envs/brainplayback_task02/lib/python3.11/site-packages/spotipy/client.py:1847\u001b[0m, in \u001b[0;36mSpotify.pause_playback\u001b[0;34m(self, device_id)\u001b[0m\n\u001b[1;32m   1841\u001b[0m \u001b[38;5;28;01mdef\u001b[39;00m \u001b[38;5;21mpause_playback\u001b[39m(\u001b[38;5;28mself\u001b[39m, device_id\u001b[38;5;241m=\u001b[39m\u001b[38;5;28;01mNone\u001b[39;00m):\n\u001b[1;32m   1842\u001b[0m \u001b[38;5;250m    \u001b[39m\u001b[38;5;124;03m\"\"\" Pause user's playback.\u001b[39;00m\n\u001b[1;32m   1843\u001b[0m \n\u001b[1;32m   1844\u001b[0m \u001b[38;5;124;03m        Parameters:\u001b[39;00m\n\u001b[1;32m   1845\u001b[0m \u001b[38;5;124;03m            - device_id - device target for playback\u001b[39;00m\n\u001b[1;32m   1846\u001b[0m \u001b[38;5;124;03m    \"\"\"\u001b[39;00m\n\u001b[0;32m-> 1847\u001b[0m     \u001b[38;5;28;01mreturn\u001b[39;00m \u001b[38;5;28;43mself\u001b[39;49m\u001b[38;5;241;43m.\u001b[39;49m\u001b[43m_put\u001b[49m\u001b[43m(\u001b[49m\u001b[38;5;28;43mself\u001b[39;49m\u001b[38;5;241;43m.\u001b[39;49m\u001b[43m_append_device_id\u001b[49m\u001b[43m(\u001b[49m\u001b[38;5;124;43m\"\u001b[39;49m\u001b[38;5;124;43mme/player/pause\u001b[39;49m\u001b[38;5;124;43m\"\u001b[39;49m\u001b[43m,\u001b[49m\u001b[43m \u001b[49m\u001b[43mdevice_id\u001b[49m\u001b[43m)\u001b[49m\u001b[43m)\u001b[49m\n",
      "File \u001b[0;32m/opt/anaconda3/envs/brainplayback_task02/lib/python3.11/site-packages/spotipy/client.py:342\u001b[0m, in \u001b[0;36mSpotify._put\u001b[0;34m(self, url, args, payload, **kwargs)\u001b[0m\n\u001b[1;32m    340\u001b[0m \u001b[38;5;28;01mif\u001b[39;00m args:\n\u001b[1;32m    341\u001b[0m     kwargs\u001b[38;5;241m.\u001b[39mupdate(args)\n\u001b[0;32m--> 342\u001b[0m \u001b[38;5;28;01mreturn\u001b[39;00m \u001b[38;5;28;43mself\u001b[39;49m\u001b[38;5;241;43m.\u001b[39;49m\u001b[43m_internal_call\u001b[49m\u001b[43m(\u001b[49m\u001b[38;5;124;43m\"\u001b[39;49m\u001b[38;5;124;43mPUT\u001b[39;49m\u001b[38;5;124;43m\"\u001b[39;49m\u001b[43m,\u001b[49m\u001b[43m \u001b[49m\u001b[43murl\u001b[49m\u001b[43m,\u001b[49m\u001b[43m \u001b[49m\u001b[43mpayload\u001b[49m\u001b[43m,\u001b[49m\u001b[43m \u001b[49m\u001b[43mkwargs\u001b[49m\u001b[43m)\u001b[49m\n",
      "File \u001b[0;32m/opt/anaconda3/envs/brainplayback_task02/lib/python3.11/site-packages/spotipy/client.py:297\u001b[0m, in \u001b[0;36mSpotify._internal_call\u001b[0;34m(self, method, url, payload, params)\u001b[0m\n\u001b[1;32m    290\u001b[0m         reason \u001b[38;5;241m=\u001b[39m \u001b[38;5;28;01mNone\u001b[39;00m\n\u001b[1;32m    292\u001b[0m     logger\u001b[38;5;241m.\u001b[39merror(\n\u001b[1;32m    293\u001b[0m         \u001b[38;5;124m'\u001b[39m\u001b[38;5;124mHTTP Error for \u001b[39m\u001b[38;5;132;01m%s\u001b[39;00m\u001b[38;5;124m to \u001b[39m\u001b[38;5;132;01m%s\u001b[39;00m\u001b[38;5;124m with Params: \u001b[39m\u001b[38;5;132;01m%s\u001b[39;00m\u001b[38;5;124m returned \u001b[39m\u001b[38;5;132;01m%s\u001b[39;00m\u001b[38;5;124m due to \u001b[39m\u001b[38;5;132;01m%s\u001b[39;00m\u001b[38;5;124m'\u001b[39m,\n\u001b[1;32m    294\u001b[0m         method, url, args\u001b[38;5;241m.\u001b[39mget(\u001b[38;5;124m\"\u001b[39m\u001b[38;5;124mparams\u001b[39m\u001b[38;5;124m\"\u001b[39m), response\u001b[38;5;241m.\u001b[39mstatus_code, msg\n\u001b[1;32m    295\u001b[0m     )\n\u001b[0;32m--> 297\u001b[0m     \u001b[38;5;28;01mraise\u001b[39;00m SpotifyException(\n\u001b[1;32m    298\u001b[0m         response\u001b[38;5;241m.\u001b[39mstatus_code,\n\u001b[1;32m    299\u001b[0m         \u001b[38;5;241m-\u001b[39m\u001b[38;5;241m1\u001b[39m,\n\u001b[1;32m    300\u001b[0m         \u001b[38;5;124mf\u001b[39m\u001b[38;5;124m\"\u001b[39m\u001b[38;5;132;01m{\u001b[39;00mresponse\u001b[38;5;241m.\u001b[39murl\u001b[38;5;132;01m}\u001b[39;00m\u001b[38;5;124m:\u001b[39m\u001b[38;5;130;01m\\n\u001b[39;00m\u001b[38;5;124m \u001b[39m\u001b[38;5;132;01m{\u001b[39;00mmsg\u001b[38;5;132;01m}\u001b[39;00m\u001b[38;5;124m\"\u001b[39m,\n\u001b[1;32m    301\u001b[0m         reason\u001b[38;5;241m=\u001b[39mreason,\n\u001b[1;32m    302\u001b[0m         headers\u001b[38;5;241m=\u001b[39mresponse\u001b[38;5;241m.\u001b[39mheaders,\n\u001b[1;32m    303\u001b[0m     )\n\u001b[1;32m    304\u001b[0m \u001b[38;5;28;01mexcept\u001b[39;00m requests\u001b[38;5;241m.\u001b[39mexceptions\u001b[38;5;241m.\u001b[39mRetryError \u001b[38;5;28;01mas\u001b[39;00m retry_error:\n\u001b[1;32m    305\u001b[0m     request \u001b[38;5;241m=\u001b[39m retry_error\u001b[38;5;241m.\u001b[39mrequest\n",
      "\u001b[0;31mSpotifyException\u001b[0m: http status: 403, code:-1 - https://api.spotify.com/v1/me/player/pause:\n Player command failed: Restriction violated, reason: UNKNOWN"
     ]
    }
   ],
   "source": [
    "run_id = 'task-02a_run-1'\n",
    "\n",
    "# create a new list with the same elements as emotionList, but in a random order\n",
    "randomEmotionList = emotionList.copy()\n",
    "random.shuffle(randomEmotionList)\n",
    "\n",
    "# Initialize Dataframe to record timestamps\n",
    "timeMatrix = pandas.DataFrame(columns=[\"emotion\",\"trackID\",\"timestamp0\",\"before_music_start\", \"after_music_start\", \"before_noise_start\", \"after_noise_start\"])\n",
    "\n",
    "# set initial volume\n",
    "sp.volume(100,devID)\n",
    "\n",
    "# first baseline\n",
    "timestamp0 = time.time()\n",
    "#sp.start_playback(uris=['spotify:track:7Ipe9FfRceDN51YMyd99pO'],position_ms=1000,device_id=devID)\n",
    "#wait_until(timestamp0 + 2)\n",
    "\n",
    "# trial loop\n",
    "for emotion in randomEmotionList:\n",
    "    print(f\"Now playing: {emotion}\")\n",
    "\n",
    "    for i in range(1,3):\n",
    "        song = D[f\"trackID{str(i)}\"][emotion]\n",
    "        start_time = D[f\"startMS{str(i)}\"][emotion].item()\n",
    "\n",
    "        print(f\"Now playing: {song} starting at {str(start_time)}\")\n",
    "\n",
    "        timestamp1 = time.time()\n",
    "\n",
    "        sp.start_playback(\n",
    "            uris=[f'spotify:track:{song}'],\n",
    "            position_ms=start_time,\n",
    "            device_id=devID,\n",
    "        )\n",
    "\n",
    "        timestamp2 = time.time()\n",
    "\n",
    "        myrecording = sd.rec(int(seconds * fs), samplerate=fs, channels=2)\n",
    "\n",
    "        sd.wait()  # Wait until recording is finished\n",
    "        \n",
    "        sp.pause_playback()\n",
    "\n",
    "        write(os.path.join('..','data','wav_files',\n",
    "                           f'{subject_id}_{emotion.replace(\" \", \"\")}_{song}.wav'),\n",
    "                         fs, myrecording)  # Save as WAV file\n",
    "\n",
    "        timestamp3 = time.time()\n",
    "\n",
    "        wait_until(timestamp3 + 2)\n",
    "\n",
    "print('Done!')"
   ]
  }
 ],
 "metadata": {
  "kernelspec": {
   "display_name": "Python 3 (ipykernel)",
   "language": "python",
   "name": "python3"
  },
  "language_info": {
   "codemirror_mode": {
    "name": "ipython",
    "version": 3
   },
   "file_extension": ".py",
   "mimetype": "text/x-python",
   "name": "python",
   "nbconvert_exporter": "python",
   "pygments_lexer": "ipython3",
   "version": "3.11.8"
  }
 },
 "nbformat": 4,
 "nbformat_minor": 5
}
