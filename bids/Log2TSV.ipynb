{
 "cells": [
  {
   "attachments": {},
   "cell_type": "markdown",
   "id": "82983b46",
   "metadata": {},
   "source": [
    "# Convert the output of the stim to events.tsv in BIDS format\n",
    "Task 02"
   ]
  },
  {
   "cell_type": "code",
   "execution_count": 81,
   "id": "310f9559",
   "metadata": {},
   "outputs": [],
   "source": [
    "import pandas\n",
    "import os"
   ]
  },
  {
   "cell_type": "code",
   "execution_count": null,
   "id": "2796a27d-dfeb-49ea-acd4-ebc2eedaa204",
   "metadata": {},
   "outputs": [],
   "source": [
    "# Define important stuff\n",
    "subID = \"sub-20\"\n",
    "sesID = \"ses-01\"\n",
    "\n",
    "taskListBIDS = [\"task-02a_run-1\", \"task-02a_run-2\", \"task-02a_run-3\", \"task-02a_run-4\"]\n",
    "\n",
    "n_tasks = len(taskListBIDS)\n",
    "\n",
    "raw_log_folder = os.path.join(\n",
    "    os.path.dirname(os.getcwd()), \"data\", \"logfiles_task02_stim\"\n",
    ")\n",
    "\n",
    "#bids_folder = \"/Volumes/T7/BIDS-BRAINPLAYBACK-TASK2\" # mac folder\n",
    "bids_folder = \"/DATAPOOL/BRAINPLAYBACK/BIDS-BRAINPLAYBACK-TASK2\" # sim01 folder"
   ]
  },
  {
   "cell_type": "code",
   "execution_count": 83,
   "id": "c4c072c8",
   "metadata": {},
   "outputs": [],
   "source": [
    "# Define function to convert logfiles to TSV\n",
    "def log2tsv(subID, sesID, taskID, raw_log_folder, bids_folder):\n",
    "    tsv_name = f\"output_{subID}_{taskID}.tsv\"\n",
    "\n",
    "    # read in the tsv file\n",
    "    tsv_file = pandas.read_csv(os.path.join(raw_log_folder, tsv_name), sep=\"\\t\")\n",
    "\n",
    "    # get the row number\n",
    "    row_number = tsv_file.shape[0]\n",
    "\n",
    "    # replace all 'Joyful activation' with 'JoyfulActivation', as the space leads to problems later on\n",
    "    tsv_file[\"emotion\"] = tsv_file[\"emotion\"].replace(\n",
    "        \"Joyful activation\", \"JoyfulActivation\"\n",
    "    )\n",
    "\n",
    "    # initalize dataframe with three columns: onset, duration, trial_type\n",
    "    df = pandas.DataFrame(columns=[\"onset\", \"duration\", \"trial_type\"])\n",
    "\n",
    "    # start with the first noise block and add it to the dataframe (without using append)\n",
    "    df.loc[0] = [0, round(tsv_file.iloc[0][\"true_music_onset\"], 2), \"Noise_ToDiscard\"]\n",
    "\n",
    "    # iterator index for df\n",
    "    idx = 1\n",
    "\n",
    "    # then move on and read the tsv_file up to the before last row\n",
    "    for i in range(row_number - 1):\n",
    "        # get the row and the next row\n",
    "        row = tsv_file.iloc[i]\n",
    "        next_row = tsv_file.iloc[i + 1]\n",
    "\n",
    "        # get the music onset, duration, and emotion\n",
    "        onset_1 = round(row[\"true_music_onset\"], 2)\n",
    "        duration_1 = round(row[\"music_duration\"], 2)\n",
    "        trial_type_1 = row[\"emotion\"]\n",
    "\n",
    "        # get the noise onset, duration\n",
    "        onset_2 = round(row[\"true_noise_onset\"], 2)\n",
    "        duration_2 = round(next_row[\"true_music_onset\"] - row[\"true_noise_onset\"], 2)\n",
    "\n",
    "        # if the duration of the noise block is smaller than 10 seconds, we should call it Noise_InterSong\n",
    "        if duration_2 < 10:\n",
    "            trial_type_2 = \"Noise_InterSong\"\n",
    "        else:\n",
    "            trial_type_2 = \"Noise\"\n",
    "\n",
    "        # append both to the dataframe\n",
    "        df.loc[idx] = [onset_1, duration_1, trial_type_1]\n",
    "        df.loc[idx + 1] = [onset_2, duration_2, trial_type_2]\n",
    "\n",
    "        # update the iterator index\n",
    "        idx += 2\n",
    "\n",
    "    # now we have to add the last music and noise block\n",
    "    last_row = tsv_file.iloc[-1]\n",
    "\n",
    "    df.loc[idx] = [\n",
    "        round(last_row[\"true_music_onset\"], 2),\n",
    "        round(last_row[\"music_duration\"], 2),\n",
    "        last_row[\"emotion\"],\n",
    "    ]\n",
    "    df.loc[idx + 1] = [\n",
    "        round(last_row[\"true_noise_onset\"], 2),\n",
    "        round(660 - last_row[\"true_noise_onset\"], 2),\n",
    "        \"Noise\",\n",
    "    ]\n",
    "\n",
    "    # save the dataframe as a tsv file to the BIDS directory\n",
    "    df.to_csv(\n",
    "        os.path.join(\n",
    "            bids_folder, subID, sesID, \"func\", f\"{subID}_{sesID}_{taskID}_events.tsv\"\n",
    "        ),\n",
    "        sep=\"\\t\",\n",
    "        index=False,\n",
    "    )\n",
    "\n",
    "    print(\n",
    "        f\"File exported: {os.path.join(bids_folder, subID, sesID, 'func', f'{subID}_{sesID}_{taskID}_events.tsv')}\"\n",
    "    )"
   ]
  },
  {
   "cell_type": "code",
   "execution_count": 84,
   "id": "a66cf406",
   "metadata": {},
   "outputs": [
    {
     "name": "stdout",
     "output_type": "stream",
     "text": [
      "File exported: /DATAPOOL/BRAINPLAYBACK/BIDS-BRAINPLAYBACK-TASK2/sub-01/ses-01/func/sub-01_ses-01_task-02a_run-1_events.tsv\n",
      "File exported: /DATAPOOL/BRAINPLAYBACK/BIDS-BRAINPLAYBACK-TASK2/sub-01/ses-01/func/sub-01_ses-01_task-02a_run-2_events.tsv\n",
      "File exported: /DATAPOOL/BRAINPLAYBACK/BIDS-BRAINPLAYBACK-TASK2/sub-01/ses-01/func/sub-01_ses-01_task-02a_run-3_events.tsv\n",
      "File exported: /DATAPOOL/BRAINPLAYBACK/BIDS-BRAINPLAYBACK-TASK2/sub-01/ses-01/func/sub-01_ses-01_task-02a_run-4_events.tsv\n"
     ]
    }
   ],
   "source": [
    "# Iterate over all tasks\n",
    "for taskID in taskListBIDS:\n",
    "    log2tsv(subID, sesID, taskID, raw_log_folder, bids_folder)"
   ]
  }
 ],
 "metadata": {
  "kernelspec": {
   "display_name": "brainplayback_task02",
   "language": "python",
   "name": "python3"
  },
  "language_info": {
   "codemirror_mode": {
    "name": "ipython",
    "version": 3
   },
   "file_extension": ".py",
   "mimetype": "text/x-python",
   "name": "python",
   "nbconvert_exporter": "python",
   "pygments_lexer": "ipython3",
   "version": "3.11.9"
  }
 },
 "nbformat": 4,
 "nbformat_minor": 5
}
