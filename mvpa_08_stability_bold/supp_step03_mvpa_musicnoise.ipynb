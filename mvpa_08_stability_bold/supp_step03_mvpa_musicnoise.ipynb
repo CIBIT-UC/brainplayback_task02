{
 "cells": [
  {
   "cell_type": "markdown",
   "metadata": {},
   "source": [
    " # MVPA Per Subject"
   ]
  },
  {
   "cell_type": "code",
   "execution_count": 11,
   "metadata": {},
   "outputs": [],
   "source": [
    "import numpy as np\n",
    "import nibabel as nb\n",
    "import os"
   ]
  },
  {
   "cell_type": "code",
   "execution_count": 12,
   "metadata": {},
   "outputs": [],
   "source": [
    "# define paths\n",
    "# root_dir = \"/Volumes/T7/BIDS-BRAINPLAYBACK-TASK2\"\n",
    "root_dir = \"/DATAPOOL/BRAINPLAYBACK/BIDS-BRAINPLAYBACK-TASK2\"  # sim01 dir\n",
    "\n",
    "fmriprep_dir = os.path.join(root_dir, \"derivatives\", \"fmriprep23\")\n",
    "dataset_dir = os.path.join(root_dir, \"derivatives\", \"mvpa_08_stability_bold\", \"features_musicnoise\")"
   ]
  },
  {
   "cell_type": "code",
   "execution_count": 13,
   "metadata": {},
   "outputs": [],
   "source": [
    "# list datasets and concatenate\n",
    "\n",
    "# find all *_dataset.nii.gz files in dataset_dir\n",
    "dataset_files = [os.path.join(dataset_dir, f) for f in os.listdir(dataset_dir) if f.endswith(\"_features.npy\") & f.startswith(\"sub-\")]\n",
    "dataset_files.sort()\n",
    "\n",
    "# find all *_trial_types.txt files in dataset_dir\n",
    "label_files = [os.path.join(dataset_dir, f) for f in os.listdir(dataset_dir) if f.endswith(\"_labels.npy\") & f.startswith(\"sub-\")]\n",
    "label_files.sort()"
   ]
  },
  {
   "cell_type": "code",
   "execution_count": 14,
   "metadata": {},
   "outputs": [
    {
     "name": "stdout",
     "output_type": "stream",
     "text": [
      "Number of subjects found: 20.000000\n"
     ]
    }
   ],
   "source": [
    "# get number of subjects\n",
    "n_runs_per_sub = 4\n",
    "n_subjects = len(dataset_files) / n_runs_per_sub\n",
    "print(\"Number of subjects found: %f\" % n_subjects)"
   ]
  },
  {
   "cell_type": "code",
   "execution_count": 15,
   "metadata": {},
   "outputs": [
    {
     "name": "stdout",
     "output_type": "stream",
     "text": [
      "Estimated number of rows: 7680.0\n"
     ]
    }
   ],
   "source": [
    "# estimate expected number of rows\n",
    "# 20 subjects, 9 x 2 music for each of the 4 runs\n",
    "\n",
    "# n_music_trials = 9 * 2\n",
    "# n_music_splits = 4\n",
    "\n",
    "# n_rows_estimate_per_run = n_music_trials * n_music_splits\n",
    "# n_rows_estimate_per_sub = n_runs_per_sub * n_rows_estimate_per_run\n",
    "# n_rows_estimate = n_subjects * n_rows_estimate_per_sub\n",
    "# print(f\"Estimated number of rows: {n_rows_estimate}\")\n",
    "n_noise_trials = 8\n",
    "n_noise_splits = 3\n",
    "n_music_trials = 9 * 2\n",
    "n_music_splits = 4\n",
    "\n",
    "n_rows_estimate_per_run = n_noise_trials * n_noise_splits + n_music_trials * n_music_splits\n",
    "n_rows_estimate_per_sub = n_runs_per_sub * n_rows_estimate_per_run\n",
    "n_rows_estimate = n_subjects * n_rows_estimate_per_sub\n",
    "print(f\"Estimated number of rows: {n_rows_estimate}\")"
   ]
  },
  {
   "cell_type": "code",
   "execution_count": 16,
   "metadata": {},
   "outputs": [
    {
     "data": {
      "text/plain": [
       "(384,)"
      ]
     },
     "execution_count": 16,
     "metadata": {},
     "output_type": "execute_result"
    }
   ],
   "source": [
    "# generate an array of chunk labels\n",
    "chunks = np.repeat(np.arange(1, n_runs_per_sub + 1), n_rows_estimate_per_run)\n",
    "chunks.shape"
   ]
  },
  {
   "cell_type": "markdown",
   "metadata": {},
   "source": [
    "# Iteration"
   ]
  },
  {
   "cell_type": "code",
   "execution_count": 17,
   "metadata": {},
   "outputs": [],
   "source": [
    "from sklearn.metrics import balanced_accuracy_score\n",
    "import numpy as np\n",
    "from sklearn.svm import LinearSVC\n",
    "from concurrent.futures import ThreadPoolExecutor\n",
    "from sklearn.metrics import confusion_matrix\n",
    "from sklearn.model_selection import GridSearchCV\n",
    "\n",
    "n_classes = 2\n",
    "class_names = [\"Music\", \"Noise\"]  # alphabetical order\n",
    "n_folds = int(n_runs_per_sub)\n",
    "n_subjects = int(n_subjects)\n",
    "acc_array = np.zeros((n_subjects, n_folds))\n",
    "acc_bal_array = np.zeros((n_subjects, n_folds))\n",
    "confusion_matrix_array = np.zeros((n_subjects, n_classes, n_classes, n_folds))\n",
    "acc_train_cv_array = np.zeros((n_subjects, n_folds))\n",
    "c_train_cv_array = np.zeros((n_subjects, n_folds))\n",
    "weights_list = []\n",
    "\n",
    "\n",
    "def process_mvpa_sub(ss, chunks):\n",
    "    print(f\"subject {ss + 1}/{n_subjects}...\")\n",
    "\n",
    "    start_idx = (ss + 1 - 1) * n_runs_per_sub\n",
    "    end_idx = n_runs_per_sub * (ss + 1)\n",
    "    print(f\"Selection from {start_idx} to {end_idx}\")\n",
    "\n",
    "    samples = np.concatenate([np.load(f) for f in dataset_files[start_idx:end_idx]], axis=0)\n",
    "    labels = np.concatenate([np.load(f, allow_pickle=True) for f in label_files[start_idx:end_idx]], axis=0)\n",
    "\n",
    "    c_train_cv = np.zeros(n_folds)\n",
    "    acc_train_cv = np.zeros(n_folds)\n",
    "    acc = np.zeros(n_folds)\n",
    "    acc_bal = np.zeros(n_folds)\n",
    "    cm = np.zeros((n_classes, n_classes, n_folds))\n",
    "    weights = np.zeros((n_classes, samples.shape[1]))\n",
    "    current_acc = 0\n",
    "\n",
    "    for ff in range(n_folds):\n",
    "        print(f\"fold {ff + 1}/{n_folds}...\")\n",
    "\n",
    "        # split the data into training and test set\n",
    "        train_mask = chunks != ff + 1\n",
    "        test_mask = chunks == ff + 1\n",
    "\n",
    "        X_train = samples[train_mask, :]\n",
    "        y_train = labels[train_mask]\n",
    "        X_test = samples[test_mask, :]\n",
    "        y_test = labels[test_mask]\n",
    "\n",
    "        # GridSearch + Training\n",
    "        parameters = {\"C\": range(1, 21)}\n",
    "\n",
    "        svc = LinearSVC(multi_class=\"ovr\", max_iter=5000, class_weight=\"balanced\", dual=\"auto\")\n",
    "\n",
    "        clf = GridSearchCV(svc, parameters, return_train_score=True, cv=3, n_jobs=3)\n",
    "\n",
    "        clf.fit(X_train, y_train)\n",
    "\n",
    "        # Store the best parameters\n",
    "        c_train_cv[ff] = clf.best_params_[\"C\"]\n",
    "        acc_train_cv[ff] = clf.best_score_\n",
    "\n",
    "        # Store the weights if the current model is better\n",
    "        if clf.best_score_ > current_acc:\n",
    "            weights = clf.best_estimator_.coef_\n",
    "            current_acc = clf.best_score_\n",
    "\n",
    "        # Testing\n",
    "        y_pred = clf.best_estimator_.predict(X_test)\n",
    "\n",
    "        # Compute the prediction accuracy for the different labels\n",
    "        acc[ff] = (y_pred == y_test).mean()\n",
    "        acc_bal[ff] = balanced_accuracy_score(y_test, y_pred)\n",
    "\n",
    "        # confusion matrix\n",
    "        cm[..., ff] = confusion_matrix(y_test, y_pred, normalize=\"true\")\n",
    "\n",
    "    return ss, acc, acc_bal, cm, acc_train_cv, c_train_cv, weights"
   ]
  },
  {
   "cell_type": "code",
   "execution_count": 18,
   "metadata": {},
   "outputs": [
    {
     "name": "stdout",
     "output_type": "stream",
     "text": [
      "subject 1/20...\n",
      "Selection from 0 to 4\n",
      "subject 2/20...\n",
      "Selection from 4 to 8\n",
      "subject 3/20...\n",
      "Selection from 8 to 12\n",
      "fold 1/4...\n",
      "fold 1/4...\n",
      "fold 1/4...\n",
      "fold 2/4...\n",
      "fold 2/4...\n",
      "fold 2/4...\n",
      "fold 3/4...\n",
      "fold 3/4...\n",
      "fold 3/4...\n",
      "fold 4/4...\n",
      "fold 4/4...\n",
      "fold 4/4...\n",
      "subject 4/20...\n",
      "Selection from 12 to 16\n",
      "fold 1/4...\n",
      "subject 5/20...\n",
      "Selection from 16 to 20\n",
      "fold 1/4...\n",
      "subject 6/20...\n",
      "Selection from 20 to 24\n",
      "fold 1/4...\n",
      "fold 2/4...\n",
      "fold 2/4...\n",
      "fold 2/4...\n",
      "fold 3/4...\n",
      "fold 3/4...\n",
      "fold 3/4...\n",
      "fold 4/4...\n",
      "fold 4/4...\n",
      "fold 4/4...\n",
      "subject 7/20...\n",
      "Selection from 24 to 28\n",
      "fold 1/4...\n",
      "subject 8/20...\n",
      "Selection from 28 to 32\n",
      "fold 1/4...\n",
      "subject 9/20...\n",
      "Selection from 32 to 36\n",
      "fold 1/4...\n",
      "fold 2/4...\n",
      "fold 2/4...\n",
      "fold 2/4...\n",
      "fold 3/4...\n",
      "fold 3/4...\n",
      "fold 3/4...\n",
      "fold 4/4...\n",
      "fold 4/4...\n",
      "fold 4/4...\n",
      "subject 10/20...\n",
      "Selection from 36 to 40\n",
      "fold 1/4...\n",
      "subject 11/20...\n",
      "Selection from 40 to 44\n",
      "fold 1/4...\n",
      "subject 12/20...\n",
      "Selection from 44 to 48\n",
      "fold 1/4...\n",
      "fold 2/4...\n",
      "fold 2/4...\n",
      "fold 2/4...\n",
      "fold 3/4...\n",
      "fold 3/4...\n",
      "fold 3/4...\n",
      "fold 4/4...\n",
      "fold 4/4...\n",
      "fold 4/4...\n",
      "subject 13/20...\n",
      "Selection from 48 to 52\n",
      "fold 1/4...\n",
      "subject 14/20...\n",
      "Selection from 52 to 56\n",
      "fold 1/4...\n",
      "subject 15/20...\n",
      "Selection from 56 to 60\n",
      "fold 1/4...\n",
      "fold 2/4...\n",
      "fold 2/4...\n",
      "fold 2/4...\n",
      "fold 3/4...\n",
      "fold 3/4...\n",
      "fold 3/4...\n",
      "fold 4/4...\n",
      "fold 4/4...\n",
      "fold 4/4...\n",
      "subject 16/20...\n",
      "Selection from 60 to 64\n",
      "fold 1/4...\n",
      "subject 17/20...\n",
      "Selection from 64 to 68\n",
      "fold 1/4...\n",
      "subject 18/20...\n",
      "Selection from 68 to 72\n",
      "fold 1/4...\n",
      "fold 2/4...\n",
      "fold 2/4...\n",
      "fold 2/4...\n",
      "fold 3/4...\n",
      "fold 3/4...\n",
      "fold 3/4...\n"
     ]
    },
    {
     "name": "stderr",
     "output_type": "stream",
     "text": [
      "/DATAPOOL/home/alexandresayal/anaconda3/envs/brainplayback_task02/lib/python3.11/site-packages/sklearn/svm/_base.py:1235: ConvergenceWarning: Liblinear failed to converge, increase the number of iterations.\n",
      "  warnings.warn(\n",
      "/DATAPOOL/home/alexandresayal/anaconda3/envs/brainplayback_task02/lib/python3.11/site-packages/sklearn/svm/_base.py:1235: ConvergenceWarning: Liblinear failed to converge, increase the number of iterations.\n",
      "  warnings.warn(\n",
      "/DATAPOOL/home/alexandresayal/anaconda3/envs/brainplayback_task02/lib/python3.11/site-packages/sklearn/svm/_base.py:1235: ConvergenceWarning: Liblinear failed to converge, increase the number of iterations.\n",
      "  warnings.warn(\n"
     ]
    },
    {
     "name": "stdout",
     "output_type": "stream",
     "text": [
      "fold 4/4...\n"
     ]
    },
    {
     "name": "stderr",
     "output_type": "stream",
     "text": [
      "/DATAPOOL/home/alexandresayal/anaconda3/envs/brainplayback_task02/lib/python3.11/site-packages/sklearn/svm/_base.py:1235: ConvergenceWarning: Liblinear failed to converge, increase the number of iterations.\n",
      "  warnings.warn(\n",
      "/DATAPOOL/home/alexandresayal/anaconda3/envs/brainplayback_task02/lib/python3.11/site-packages/sklearn/svm/_base.py:1235: ConvergenceWarning: Liblinear failed to converge, increase the number of iterations.\n",
      "  warnings.warn(\n",
      "/DATAPOOL/home/alexandresayal/anaconda3/envs/brainplayback_task02/lib/python3.11/site-packages/sklearn/svm/_base.py:1235: ConvergenceWarning: Liblinear failed to converge, increase the number of iterations.\n",
      "  warnings.warn(\n"
     ]
    },
    {
     "name": "stdout",
     "output_type": "stream",
     "text": [
      "fold 4/4...\n"
     ]
    },
    {
     "name": "stderr",
     "output_type": "stream",
     "text": [
      "/DATAPOOL/home/alexandresayal/anaconda3/envs/brainplayback_task02/lib/python3.11/site-packages/sklearn/svm/_base.py:1235: ConvergenceWarning: Liblinear failed to converge, increase the number of iterations.\n",
      "  warnings.warn(\n",
      "/DATAPOOL/home/alexandresayal/anaconda3/envs/brainplayback_task02/lib/python3.11/site-packages/sklearn/svm/_base.py:1235: ConvergenceWarning: Liblinear failed to converge, increase the number of iterations.\n",
      "  warnings.warn(\n",
      "/DATAPOOL/home/alexandresayal/anaconda3/envs/brainplayback_task02/lib/python3.11/site-packages/sklearn/svm/_base.py:1235: ConvergenceWarning: Liblinear failed to converge, increase the number of iterations.\n",
      "  warnings.warn(\n"
     ]
    },
    {
     "name": "stdout",
     "output_type": "stream",
     "text": [
      "subject 19/20...\n",
      "Selection from 72 to 76\n",
      "fold 1/4...\n",
      "subject 20/20...\n",
      "Selection from 76 to 80\n",
      "fold 1/4...\n",
      "fold 2/4...\n",
      "fold 2/4...\n",
      "fold 3/4...\n",
      "fold 3/4...\n",
      "fold 4/4...\n",
      "fold 4/4...\n"
     ]
    },
    {
     "name": "stderr",
     "output_type": "stream",
     "text": [
      "/DATAPOOL/home/alexandresayal/anaconda3/envs/brainplayback_task02/lib/python3.11/site-packages/sklearn/svm/_base.py:1235: ConvergenceWarning: Liblinear failed to converge, increase the number of iterations.\n",
      "  warnings.warn(\n"
     ]
    },
    {
     "name": "stdout",
     "output_type": "stream",
     "text": [
      "fold 4/4...\n"
     ]
    },
    {
     "name": "stderr",
     "output_type": "stream",
     "text": [
      "/DATAPOOL/home/alexandresayal/anaconda3/envs/brainplayback_task02/lib/python3.11/site-packages/sklearn/svm/_base.py:1235: ConvergenceWarning: Liblinear failed to converge, increase the number of iterations.\n",
      "  warnings.warn(\n",
      "/DATAPOOL/home/alexandresayal/anaconda3/envs/brainplayback_task02/lib/python3.11/site-packages/sklearn/svm/_base.py:1235: ConvergenceWarning: Liblinear failed to converge, increase the number of iterations.\n",
      "  warnings.warn(\n",
      "/DATAPOOL/home/alexandresayal/anaconda3/envs/brainplayback_task02/lib/python3.11/site-packages/sklearn/svm/_base.py:1235: ConvergenceWarning: Liblinear failed to converge, increase the number of iterations.\n",
      "  warnings.warn(\n",
      "/DATAPOOL/home/alexandresayal/anaconda3/envs/brainplayback_task02/lib/python3.11/site-packages/sklearn/svm/_base.py:1235: ConvergenceWarning: Liblinear failed to converge, increase the number of iterations.\n",
      "  warnings.warn(\n",
      "/DATAPOOL/home/alexandresayal/anaconda3/envs/brainplayback_task02/lib/python3.11/site-packages/sklearn/svm/_base.py:1235: ConvergenceWarning: Liblinear failed to converge, increase the number of iterations.\n",
      "  warnings.warn(\n",
      "/DATAPOOL/home/alexandresayal/anaconda3/envs/brainplayback_task02/lib/python3.11/site-packages/sklearn/svm/_base.py:1235: ConvergenceWarning: Liblinear failed to converge, increase the number of iterations.\n",
      "  warnings.warn(\n",
      "/DATAPOOL/home/alexandresayal/anaconda3/envs/brainplayback_task02/lib/python3.11/site-packages/sklearn/svm/_base.py:1235: ConvergenceWarning: Liblinear failed to converge, increase the number of iterations.\n",
      "  warnings.warn(\n",
      "/DATAPOOL/home/alexandresayal/anaconda3/envs/brainplayback_task02/lib/python3.11/site-packages/sklearn/svm/_base.py:1235: ConvergenceWarning: Liblinear failed to converge, increase the number of iterations.\n",
      "  warnings.warn(\n",
      "/DATAPOOL/home/alexandresayal/anaconda3/envs/brainplayback_task02/lib/python3.11/site-packages/sklearn/svm/_base.py:1235: ConvergenceWarning: Liblinear failed to converge, increase the number of iterations.\n",
      "  warnings.warn(\n"
     ]
    }
   ],
   "source": [
    "# execute the process_fold function with the chunks argument\n",
    "with ThreadPoolExecutor(max_workers=3) as executor:\n",
    "    results = list(executor.map(process_mvpa_sub, range(int(n_subjects)), [chunks] * int(n_subjects)))\n",
    "\n",
    "# sort by the first element of the tuple (the subject index)\n",
    "results.sort(key=lambda x: x[0])\n",
    "\n",
    "# Update the accuracy arrays with the results\n",
    "for ss, acc, acc_bal, cm, acc_train_cv, c_train_cv, weights in results:\n",
    "    acc_array[ss, :] = acc\n",
    "    acc_bal_array[ss, :] = acc_bal\n",
    "    confusion_matrix_array[ss, ...] = cm\n",
    "    acc_train_cv_array[ss, :] = acc_train_cv\n",
    "    c_train_cv_array[ss, :] = c_train_cv\n",
    "    weights_list.append(weights)"
   ]
  },
  {
   "cell_type": "code",
   "execution_count": 19,
   "metadata": {},
   "outputs": [],
   "source": [
    "# save the results\n",
    "import pickle\n",
    "\n",
    "data_to_save = {\n",
    "    \"results\": results,\n",
    "    \"acc_array\": acc_array,\n",
    "    \"acc_bal_array\": acc_bal_array,\n",
    "    \"confusion_matrix_array\": confusion_matrix_array,\n",
    "    \"acc_train_cv_array\": acc_train_cv_array,\n",
    "    \"c_train_cv_array\": c_train_cv_array,\n",
    "    \"weights_list\": weights_list,\n",
    "}\n",
    "\n",
    "# Save the data to a file\n",
    "with open(\"results_mvpa_08_musicnoise.pkl\", \"wb\") as file:\n",
    "    pickle.dump(data_to_save, file)\n"
   ]
  },
  {
   "cell_type": "markdown",
   "metadata": {},
   "source": [
    "# Load and visualize"
   ]
  },
  {
   "cell_type": "code",
   "execution_count": 20,
   "metadata": {},
   "outputs": [],
   "source": [
    "import pickle\n",
    "\n",
    "# Load the data from the file\n",
    "with open(\"results_mvpa_08_musicnoise.pkl\", \"rb\") as file:\n",
    "    data_loaded = pickle.load(file)\n",
    "\n",
    "# Access the variables\n",
    "results = data_loaded[\"results\"]\n",
    "acc_array = data_loaded[\"acc_array\"]\n",
    "acc_bal_array = data_loaded[\"acc_bal_array\"]\n",
    "confusion_matrix_array = data_loaded[\"confusion_matrix_array\"]\n",
    "acc_train_cv_array = data_loaded[\"acc_train_cv_array\"]\n",
    "c_train_cv_array = data_loaded[\"c_train_cv_array\"]\n",
    "weights_list = data_loaded[\"weights_list\"]\n",
    "\n",
    "class_names = [\"Music\", \"Noise\"]\n"
   ]
  },
  {
   "cell_type": "code",
   "execution_count": 21,
   "metadata": {},
   "outputs": [],
   "source": [
    "m_s = np.mean(np.mean(acc_array, 1)) * 100\n",
    "s_s = np.std(np.mean(acc_array, 1)) * 100\n",
    "\n",
    "m_b_s = np.mean(np.mean(acc_bal_array, 1)) * 100\n",
    "s_b_s = np.std(np.mean(acc_bal_array, 1)) * 100\n",
    "\n",
    "m_t = np.mean(np.mean(acc_train_cv_array, 1)) * 100  # training accuracy from grid search\n",
    "s_t = np.std(np.mean(acc_train_cv_array, 1)) * 100\n",
    "\n",
    "c_t = np.mean(np.mean(c_train_cv_array, 1))  # training C from grid search\n",
    "s_c = np.std(np.mean(c_train_cv_array, 1))"
   ]
  },
  {
   "cell_type": "code",
   "execution_count": 22,
   "metadata": {},
   "outputs": [
    {
     "name": "stdout",
     "output_type": "stream",
     "text": [
      "Mean test accuracy across subs: 92.5% ± 3.0%\n",
      "Mean test balanced accuracy across subs: 94.2% ± 3.2%\n",
      "Mean grid CV training accuracy across subs: 91.4% ± 3.0%\n",
      "Mean grid CV training C parameter across subs: 1.0 ± 0.1\n"
     ]
    }
   ],
   "source": [
    "print(f\"Mean test accuracy across subs: {m_s:0.1f}% \\u00b1 {s_s:0.1f}%\")\n",
    "print(f\"Mean test balanced accuracy across subs: {m_b_s:0.1f}% \\u00b1 {s_b_s:0.1f}%\")\n",
    "print(f\"Mean grid CV training accuracy across subs: {m_t:0.1f}% \\u00b1 {s_t:0.1f}%\")\n",
    "print(f\"Mean grid CV training C parameter across subs: {c_t:0.1f} \\u00b1 {s_c:0.1f}\")"
   ]
  },
  {
   "cell_type": "code",
   "execution_count": 23,
   "metadata": {},
   "outputs": [],
   "source": [
    "M = np.mean(np.mean(confusion_matrix_array, 3), 0) * 100\n",
    "\n",
    "M_annot = []\n",
    "\n",
    "for i in range(M.shape[0]):\n",
    "    for j in range(M.shape[1]):\n",
    "        aux = f\"{M[i, j]:0.1f}%\"\n",
    "        M_annot.append(aux)\n",
    "\n",
    "M_annot_plot = np.array(M_annot).reshape(M.shape)"
   ]
  },
  {
   "cell_type": "code",
   "execution_count": 24,
   "metadata": {},
   "outputs": [
    {
     "data": {
      "image/png": "[encoded data removed]",
      "text/plain": [
       "<Figure size 800x600 with 2 Axes>"
      ]
     },
     "metadata": {},
     "output_type": "display_data"
    }
   ],
   "source": [
    "# | label: mvpa_confusion_matrix\n",
    "import matplotlib.pyplot as plt\n",
    "import seaborn as sns\n",
    "\n",
    "plt.figure(figsize=(8, 6))\n",
    "sns.heatmap(\n",
    "    M,\n",
    "    annot=M_annot_plot,\n",
    "    fmt=\"\",\n",
    "    cmap=\"Blues\",\n",
    "    vmin=0,\n",
    "    vmax=100,\n",
    "    xticklabels=class_names,\n",
    "    yticklabels=class_names,\n",
    "    annot_kws={\"size\": 8},\n",
    "    cbar_kws={\"label\": \"Percentage of true labels\"},\n",
    ")\n",
    "plt.xlabel(\"Predicted\")\n",
    "plt.ylabel(\"True\")\n",
    "# plt.title(f\"Overall balanced accuracy = {m_s:0.1f}% \\u00b1 {s_s:0.1f}%\")\n",
    "plt.show()"
   ]
  }
 ],
 "metadata": {
  "kernelspec": {
   "display_name": "brainplayback_task02",
   "language": "python",
   "name": "python3"
  },
  "language_info": {
   "codemirror_mode": {
    "name": "ipython",
    "version": 3
   },
   "file_extension": ".py",
   "mimetype": "text/x-python",
   "name": "python",
   "nbconvert_exporter": "python",
   "pygments_lexer": "ipython3",
   "version": "3.11.9"
  }
 },
 "nbformat": 4,
 "nbformat_minor": 2
}
