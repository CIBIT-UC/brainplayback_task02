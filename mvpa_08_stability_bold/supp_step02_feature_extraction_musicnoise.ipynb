{
 "cells": [
  {
   "cell_type": "code",
   "execution_count": null,
   "metadata": {},
   "outputs": [],
   "source": [
    "import os\n",
    "\n",
    "import nibabel as nb\n",
    "import numpy as np\n",
    "from functions import convert_samples_to_features, edit_events_full, extract_samples\n",
    "from nilearn import image"
   ]
  },
  {
   "cell_type": "code",
   "execution_count": null,
   "metadata": {},
   "outputs": [],
   "source": [
    "# data_root = \"/Volumes/T7/BIDS-BRAINPLAYBACK-TASK2\"\n",
    "data_root = \"/DATAPOOL/BRAINPLAYBACK/BIDS-BRAINPLAYBACK-TASK2\"  # sim01 dir\n",
    "\n",
    "derivatives_dir = os.path.join(data_root, \"derivatives\")\n",
    "\n",
    "fmriprep_dir = os.path.join(derivatives_dir, \"fmriprep23\")  # fmriprep output\n",
    "func_dir = os.path.join(derivatives_dir, \"func_clean\")  # cleaned bold images\n",
    "stab_mask_dir = os.path.join(derivatives_dir, \"mvpa_08_stability_bold\", \"stab_musicnoise_masks\")  # for stability masks\n",
    "output_feat_full_dir = os.path.join(derivatives_dir, \"mvpa_08_stability_bold\", \"features_musicnoise\")  # for full features"
   ]
  },
  {
   "cell_type": "code",
   "execution_count": null,
   "metadata": {},
   "outputs": [],
   "source": [
    "# check if output directories exist and create them if not\n",
    "if not os.path.exists(output_feat_full_dir):\n",
    "    os.makedirs(output_feat_full_dir)"
   ]
  },
  {
   "cell_type": "markdown",
   "metadata": {},
   "source": [
    "# All subject iteration"
   ]
  },
  {
   "cell_type": "code",
   "execution_count": null,
   "metadata": {},
   "outputs": [],
   "source": [
    "from concurrent.futures import ThreadPoolExecutor\n",
    "\n",
    "subject_list = [\"01\", \"02\", \"03\", \"04\", \"05\", \"06\", \"07\", \"08\", \"09\", \"10\", \"11\", \"12\", \"13\", \"14\", \"15\", \"16\", \"17\", \"18\", \"19\", \"20\"]\n",
    "run_list = [\"1\", \"2\", \"3\", \"4\"]\n",
    "\n",
    "\n",
    "def process_subject(subject):\n",
    "    print(f\"Processing subject {subject}\")\n",
    "    stab_mask_data = np.load(os.path.join(stab_mask_dir, f\"sub-{subject}_STAB.npy\"))\n",
    "    example_func = nb.load(os.path.join(func_dir, f\"sub-{subject}_ses-01_task-02a_run-1_cleaned.nii.gz\"))\n",
    "\n",
    "    # generate image\n",
    "    stab_mask_img = nb.Nifti1Image(stab_mask_data, example_func.affine, example_func.header)\n",
    "\n",
    "    # threshold the stability map\n",
    "    thres = 0.1\n",
    "    stab_mask_img_thres = image.threshold_img(stab_mask_img, threshold=thres, two_sided=False)\n",
    "    stab_mask_img_thres_bin = image.binarize_img(stab_mask_img_thres)\n",
    "\n",
    "    # save the thresholded stability mask\n",
    "    stab_mask_img_thres_bin.to_filename(os.path.join(stab_mask_dir, f\"sub-{subject}_STAB_mask.nii.gz\"))\n",
    "\n",
    "    for run in run_list:\n",
    "        if subject == \"18\" and run == \"2\":\n",
    "            continue\n",
    "\n",
    "        # load cleaned image\n",
    "        img_clean = nb.load(os.path.join(func_dir, f\"sub-{subject}_ses-01_task-02a_run-{run}_cleaned.nii.gz\"))\n",
    "\n",
    "        # extract samples from the cleaned inside the stability mask\n",
    "        samples = extract_samples(img_clean, stab_mask_img_thres_bin, subject, run)\n",
    "\n",
    "        # load and edit the events for classification\n",
    "        events_split_2 = edit_events_musicnoise(data_root, subject, run)\n",
    "\n",
    "        # convert samples to features\n",
    "        convert_samples_to_features(samples, output_feat_full_dir, events_split_2, subject, run)\n",
    "\n",
    "\n",
    "with ThreadPoolExecutor(max_workers=18) as executor:\n",
    "    executor.map(process_subject, subject_list)"
   ]
  }
 ],
 "metadata": {
  "kernelspec": {
   "display_name": "brainplayback_task02",
   "language": "python",
   "name": "python3"
  },
  "language_info": {
   "codemirror_mode": {
    "name": "ipython",
    "version": 3
   },
   "file_extension": ".py",
   "mimetype": "text/x-python",
   "name": "python",
   "nbconvert_exporter": "python",
   "pygments_lexer": "ipython3",
   "version": "3.11.8"
  }
 },
 "nbformat": 4,
 "nbformat_minor": 2
}
