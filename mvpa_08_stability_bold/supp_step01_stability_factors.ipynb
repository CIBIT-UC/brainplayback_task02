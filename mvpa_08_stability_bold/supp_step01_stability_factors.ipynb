{
 "cells": [
  {
   "cell_type": "code",
   "execution_count": null,
   "metadata": {},
   "outputs": [],
   "source": [
    "import os\n",
    "\n",
    "import nibabel as nb\n",
    "from functions import clean_func_image, edit_events_factors_stability, estimate_stability, extract_features_for_stab\n",
    "from nilearn import image, plotting"
   ]
  },
  {
   "cell_type": "code",
   "execution_count": null,
   "metadata": {},
   "outputs": [],
   "source": [
    "data_root = \"/Volumes/T7/BIDS-BRAINPLAYBACK-TASK2\"\n",
    "# data_root = \"/DATAPOOL/BRAINPLAYBACK/BIDS-BRAINPLAYBACK-TASK2\"  # sim01 dir\n",
    "\n",
    "derivatives_dir = os.path.join(data_root, \"derivatives\")\n",
    "fmriprep_dir = os.path.join(derivatives_dir, \"fmriprep23\")  # fmriprep output\n",
    "\n",
    "output_func_dir = os.path.join(derivatives_dir, \"func_clean\")  # for cleaned bold images\n",
    "output_mask_stab_dir = os.path.join(derivatives_dir, \"mvpa_08_stability_bold\", \"stab_factors_masks\")  # for stability masks\n",
    "output_feat_stab_dir = os.path.join(derivatives_dir, \"mvpa_08_stability_bold\", \"stab_factors_features\")  # for the features"
   ]
  },
  {
   "cell_type": "code",
   "execution_count": null,
   "metadata": {},
   "outputs": [],
   "source": [
    "# check if all these folders exist, otherwise create them\n",
    "for dir_ in [output_func_dir, output_mask_stab_dir, output_feat_stab_dir]:\n",
    "    if not os.path.exists(dir_):\n",
    "        os.makedirs(dir_)\n",
    "        print(f\"Created directory: {dir_}\")"
   ]
  },
  {
   "cell_type": "code",
   "execution_count": null,
   "metadata": {},
   "outputs": [],
   "source": [
    "subject_list = [\"01\", \"02\", \"03\", \"04\", \"05\", \"06\", \"07\", \"08\", \"09\", \"10\", \"11\", \"12\", \"13\", \"14\", \"15\", \"16\", \"17\", \"18\", \"19\", \"20\"]"
   ]
  },
  {
   "cell_type": "markdown",
   "metadata": {},
   "source": [
    "# Fetch and resample gray matter mask"
   ]
  },
  {
   "cell_type": "code",
   "execution_count": null,
   "metadata": {},
   "outputs": [],
   "source": [
    "from templateflow import api as tflow\n",
    "\n",
    "t1w_img = tflow.get(\"MNI152NLin2009cAsym\", desc=\"brain\", resolution=2, suffix=\"T1w\", extension=\"nii.gz\")\n",
    "t1w_gm_img = tflow.get(\"MNI152NLin2009cAsym\", label=\"GM\", suffix=\"probseg\", resolution=2, extension=\"nii.gz\")"
   ]
  },
  {
   "cell_type": "code",
   "execution_count": null,
   "metadata": {},
   "outputs": [],
   "source": [
    "# reference image\n",
    "example_func_file = os.path.join(\n",
    "    fmriprep_dir, \"sub-02\", \"ses-01\", \"func\", \"sub-02_ses-01_task-02a_run-1_space-MNI152NLin2009cAsym_res-2_desc-preproc_bold.nii.gz\"\n",
    ")\n",
    "\n",
    "# load, threshold, and resample the GM mask\n",
    "gm_prob_mask = nb.load(t1w_gm_img)\n",
    "example_func = nb.load(example_func_file)\n",
    "\n",
    "gm_mask = image.math_img(\"img > 0.15\", img=gm_prob_mask)\n",
    "gm_mask_resampled = image.resample_img(gm_mask, target_affine=example_func.affine, target_shape=example_func.shape[0:3], interpolation=\"nearest\")\n",
    "\n",
    "plotting.view_img(gm_mask_resampled, bg_img=example_func.slicer[..., 0], symmetric_cmap=False, colorbar=True, title=\"GM mask\", opacity=0.5)"
   ]
  },
  {
   "cell_type": "markdown",
   "metadata": {},
   "source": [
    "## Clean and extract features"
   ]
  },
  {
   "cell_type": "code",
   "execution_count": null,
   "metadata": {},
   "outputs": [],
   "source": [
    "for subject in subject_list:\n",
    "    # for run in [\"1\", \"3\", \"4\"]: # this one is for sub-18\n",
    "    for run in [\"1\", \"2\", \"3\", \"4\"]:\n",
    "        if subject == \"18\" and run == \"2\":\n",
    "            continue  # skip this run for subject 18\n",
    "        img_clean = clean_func_image(fmriprep_dir, output_func_dir, gm_mask_resampled, subject, run, overwrite=False)\n",
    "        events_split = edit_events_factors_stability(data_root, subject, run)\n",
    "        extract_features_for_stab(img_clean, events_split, output_feat_stab_dir, subject, run)\n",
    "\n",
    "    estimate_stability(output_feat_stab_dir, output_mask_stab_dir, subject, n_jobs=8)"
   ]
  }
 ],
 "metadata": {
  "kernelspec": {
   "display_name": "brainplayback_task02",
   "language": "python",
   "name": "python3"
  },
  "language_info": {
   "codemirror_mode": {
    "name": "ipython",
    "version": 3
   },
   "file_extension": ".py",
   "mimetype": "text/x-python",
   "name": "python",
   "nbconvert_exporter": "python",
   "pygments_lexer": "ipython3",
   "version": "3.11.8"
  }
 },
 "nbformat": 4,
 "nbformat_minor": 2
}
