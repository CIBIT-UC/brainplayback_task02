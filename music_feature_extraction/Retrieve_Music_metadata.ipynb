{
 "cells": [
  {
   "attachments": {},
   "cell_type": "markdown",
   "id": "26574d7f-f5dc-4be6-9aa4-4ac34d67f17f",
   "metadata": {},
   "source": [
    "# Test metadata extraction\n",
    "Notebook to run the Brainplayback Task02 experiment for subject 05.\n",
    "\n",
    "To recreate the environment run\n",
    "`conda env create --name brainplayback --file environment.yml`"
   ]
  },
  {
   "cell_type": "code",
   "execution_count": 33,
   "id": "9b72c0a3-e36f-4501-8724-62cf50f61f2f",
   "metadata": {
    "tags": []
   },
   "outputs": [],
   "source": [
    "# Import requirements\n",
    "import spotipy\n",
    "import pandas"
   ]
  },
  {
   "cell_type": "code",
   "execution_count": 34,
   "id": "6dd1e4a7-d013-4f57-9756-541f9081a87d",
   "metadata": {
    "tags": []
   },
   "outputs": [],
   "source": [
    "# subject name/id\n",
    "subject_id = \"sub-05\""
   ]
  },
  {
   "cell_type": "code",
   "execution_count": 35,
   "id": "368cdbeb-78d6-4d82-8f1f-884197de4f3f",
   "metadata": {
    "tags": []
   },
   "outputs": [],
   "source": [
    "# Setup Spotipy\n",
    "scope = \"user-library-read,user-read-playback-state,user-modify-playback-state\"\n",
    "sp = spotipy.Spotify(\n",
    "    auth_manager=spotipy.oauth2.SpotifyOAuth(\n",
    "        scope=scope,\n",
    "        client_id=\"253a1345850d4a5c94995c1159d286e4\",\n",
    "        client_secret=\"9a03e1bcb8124eed9b661991e84bf477\",\n",
    "        redirect_uri=\"http://127.0.0.1:9090\",\n",
    "    ),\n",
    ")\n",
    "\n",
    "# choose deviceID (1st)\n",
    "res = sp.devices()\n",
    "devID = res[\"devices\"][0][\"id\"]"
   ]
  },
  {
   "attachments": {},
   "cell_type": "markdown",
   "id": "c75db288-be97-40ae-bd90-08d83a25a573",
   "metadata": {},
   "source": [
    "## Import subject-specific selection of songs"
   ]
  },
  {
   "cell_type": "code",
   "execution_count": 36,
   "id": "c8b4a5c7-c015-4fe3-8bb4-5e65a3aaed73",
   "metadata": {
    "tags": []
   },
   "outputs": [],
   "source": [
    "# Start dataframe with three columns: Emotion, Name, Artist\n",
    "df_meta = pandas.DataFrame(columns=[\"Emotion\", \"Name\", \"Artist\"])"
   ]
  },
  {
   "cell_type": "code",
   "execution_count": 37,
   "id": "8518d0c7",
   "metadata": {},
   "outputs": [
    {
     "name": "stdout",
     "output_type": "stream",
     "text": [
      "Processing sub-01\n",
      "Processing sub-02\n",
      "Processing sub-03\n",
      "Processing sub-04\n",
      "Processing sub-05\n",
      "Processing sub-06\n",
      "Processing sub-07\n",
      "Processing sub-08\n",
      "Processing sub-09\n",
      "Processing sub-10\n",
      "Processing sub-11\n",
      "Processing sub-12\n",
      "Processing sub-13\n",
      "Processing sub-14\n",
      "Processing sub-15\n",
      "Processing sub-16\n",
      "Processing sub-17\n",
      "Processing sub-18\n",
      "Processing sub-19\n",
      "Processing sub-20\n"
     ]
    }
   ],
   "source": [
    "# Iterate on the music matrices (subjects, N=20)\n",
    "\n",
    "for subject_id in [\n",
    "    \"sub-01\",\n",
    "    \"sub-02\",\n",
    "    \"sub-03\",\n",
    "    \"sub-04\",\n",
    "    \"sub-05\",\n",
    "    \"sub-06\",\n",
    "    \"sub-07\",\n",
    "    \"sub-08\",\n",
    "    \"sub-09\",\n",
    "    \"sub-10\",\n",
    "    \"sub-11\",\n",
    "    \"sub-12\",\n",
    "    \"sub-13\",\n",
    "    \"sub-14\",\n",
    "    \"sub-15\",\n",
    "    \"sub-16\",\n",
    "    \"sub-17\",\n",
    "    \"sub-18\",\n",
    "    \"sub-19\",\n",
    "    \"sub-20\",\n",
    "]:\n",
    "    # Print subject ID\n",
    "    print(f\"Processing {subject_id}\")\n",
    "\n",
    "    # read file\n",
    "    D = pandas.read_table(f\"../data/music_matrices/music_{subject_id}.tsv\", index_col=\"Emotion\")\n",
    "\n",
    "    # extract list of emotions\n",
    "    emotionList = D.index.values\n",
    "\n",
    "    # Iterate through emotions\n",
    "    for emotion in emotionList:\n",
    "        # Iterate on the two songs\n",
    "        for i in range(1, 3):\n",
    "            # Get the track info based on the trackID\n",
    "            song = D[f\"trackID{str(i)}\"][emotion]\n",
    "            track_info = sp.track(song)\n",
    "\n",
    "            # Concat the data to the dataframe\n",
    "            df_meta = pandas.concat(\n",
    "                [\n",
    "                    df_meta,\n",
    "                    pandas.DataFrame(\n",
    "                        {\n",
    "                            \"Emotion\": [emotion],\n",
    "                            \"Name\": [track_info[\"name\"]],\n",
    "                            \"Artist\": [track_info[\"album\"][\"artists\"][0][\"name\"]],\n",
    "                        }\n",
    "                    ),\n",
    "                ],\n",
    "                ignore_index=True,\n",
    "            )"
   ]
  },
  {
   "cell_type": "code",
   "execution_count": 38,
   "id": "ce3693e5",
   "metadata": {},
   "outputs": [
    {
     "data": {
      "text/html": [
       "<div>\n",
       "<style scoped>\n",
       "    .dataframe tbody tr th:only-of-type {\n",
       "        vertical-align: middle;\n",
       "    }\n",
       "\n",
       "    .dataframe tbody tr th {\n",
       "        vertical-align: top;\n",
       "    }\n",
       "\n",
       "    .dataframe thead th {\n",
       "        text-align: right;\n",
       "    }\n",
       "</style>\n",
       "<table border=\"1\" class=\"dataframe\">\n",
       "  <thead>\n",
       "    <tr style=\"text-align: right;\">\n",
       "      <th></th>\n",
       "      <th>Emotion</th>\n",
       "      <th>Name</th>\n",
       "      <th>Artist</th>\n",
       "    </tr>\n",
       "  </thead>\n",
       "  <tbody>\n",
       "    <tr>\n",
       "      <th>0</th>\n",
       "      <td>Joyful activation</td>\n",
       "      <td>Don't Stop Me Now - Remastered 2011</td>\n",
       "      <td>Queen</td>\n",
       "    </tr>\n",
       "    <tr>\n",
       "      <th>1</th>\n",
       "      <td>Joyful activation</td>\n",
       "      <td>Steal My Kisses</td>\n",
       "      <td>Ben Harper And The Innocent Criminals</td>\n",
       "    </tr>\n",
       "    <tr>\n",
       "      <th>2</th>\n",
       "      <td>Joyful activation</td>\n",
       "      <td>Never Gonna Give You Up</td>\n",
       "      <td>Rick Astley</td>\n",
       "    </tr>\n",
       "    <tr>\n",
       "      <th>3</th>\n",
       "      <td>Joyful activation</td>\n",
       "      <td>Gisela</td>\n",
       "      <td>Bárbara Tinoco</td>\n",
       "    </tr>\n",
       "    <tr>\n",
       "      <th>4</th>\n",
       "      <td>Joyful activation</td>\n",
       "      <td>Virtual Insanity</td>\n",
       "      <td>Various Artists</td>\n",
       "    </tr>\n",
       "    <tr>\n",
       "      <th>...</th>\n",
       "      <td>...</td>\n",
       "      <td>...</td>\n",
       "      <td>...</td>\n",
       "    </tr>\n",
       "    <tr>\n",
       "      <th>348</th>\n",
       "      <td>Wonder</td>\n",
       "      <td>If I Lose Myself - Alesso vs OneRepublic</td>\n",
       "      <td>Alesso</td>\n",
       "    </tr>\n",
       "    <tr>\n",
       "      <th>349</th>\n",
       "      <td>Wonder</td>\n",
       "      <td>Cantiga para quem sonha</td>\n",
       "      <td>Luiz Goes</td>\n",
       "    </tr>\n",
       "    <tr>\n",
       "      <th>350</th>\n",
       "      <td>Wonder</td>\n",
       "      <td>Walk Of Life</td>\n",
       "      <td>Dire Straits</td>\n",
       "    </tr>\n",
       "    <tr>\n",
       "      <th>351</th>\n",
       "      <td>Wonder</td>\n",
       "      <td>The Heart Asks Pleasure First</td>\n",
       "      <td>Michael Nyman</td>\n",
       "    </tr>\n",
       "    <tr>\n",
       "      <th>352</th>\n",
       "      <td>Wonder</td>\n",
       "      <td>Kiss Me</td>\n",
       "      <td>Sixpence None The Richer</td>\n",
       "    </tr>\n",
       "  </tbody>\n",
       "</table>\n",
       "<p>353 rows × 3 columns</p>\n",
       "</div>"
      ],
      "text/plain": [
       "               Emotion                                      Name  \\\n",
       "0    Joyful activation       Don't Stop Me Now - Remastered 2011   \n",
       "1    Joyful activation                           Steal My Kisses   \n",
       "2    Joyful activation                   Never Gonna Give You Up   \n",
       "3    Joyful activation                                    Gisela   \n",
       "4    Joyful activation                          Virtual Insanity   \n",
       "..                 ...                                       ...   \n",
       "348             Wonder  If I Lose Myself - Alesso vs OneRepublic   \n",
       "349             Wonder                   Cantiga para quem sonha   \n",
       "350             Wonder                              Walk Of Life   \n",
       "351             Wonder             The Heart Asks Pleasure First   \n",
       "352             Wonder                                   Kiss Me   \n",
       "\n",
       "                                    Artist  \n",
       "0                                    Queen  \n",
       "1    Ben Harper And The Innocent Criminals  \n",
       "2                              Rick Astley  \n",
       "3                           Bárbara Tinoco  \n",
       "4                          Various Artists  \n",
       "..                                     ...  \n",
       "348                                 Alesso  \n",
       "349                              Luiz Goes  \n",
       "350                           Dire Straits  \n",
       "351                          Michael Nyman  \n",
       "352               Sixpence None The Richer  \n",
       "\n",
       "[353 rows x 3 columns]"
      ]
     },
     "execution_count": 38,
     "metadata": {},
     "output_type": "execute_result"
    }
   ],
   "source": [
    "# remove duplicates\n",
    "df_meta = df_meta.drop_duplicates()\n",
    "\n",
    "# Sort by Emotion\n",
    "df_meta = df_meta.sort_values(by=\"Emotion\").reset_index(drop=True)\n",
    "\n",
    "df_meta"
   ]
  },
  {
   "cell_type": "code",
   "execution_count": 39,
   "id": "9b4e93c3",
   "metadata": {},
   "outputs": [],
   "source": [
    "# export to tsv\n",
    "df_meta.to_csv(\"../data/music_metadata.tsv\", sep=\"\\t\", index=False)"
   ]
  }
 ],
 "metadata": {
  "kernelspec": {
   "display_name": "brainplayback_task02",
   "language": "python",
   "name": "python3"
  },
  "language_info": {
   "codemirror_mode": {
    "name": "ipython",
    "version": 3
   },
   "file_extension": ".py",
   "mimetype": "text/x-python",
   "name": "python",
   "nbconvert_exporter": "python",
   "pygments_lexer": "ipython3",
   "version": "3.11.8"
  }
 },
 "nbformat": 4,
 "nbformat_minor": 5
}
